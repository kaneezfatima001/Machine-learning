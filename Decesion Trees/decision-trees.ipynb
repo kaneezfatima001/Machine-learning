{
 "cells": [
  {
   "cell_type": "markdown",
   "id": "10d08e04",
   "metadata": {
    "papermill": {
     "duration": 0.010235,
     "end_time": "2023-02-22T13:13:48.423872",
     "exception": false,
     "start_time": "2023-02-22T13:13:48.413637",
     "status": "completed"
    },
    "tags": []
   },
   "source": [
    "## The dataset\n",
    "\n",
    "For this notebook I will use a [snapshot of the S&P 500 at February 2023](https://www.kaggle.com/datasets/sndorburian/e-mini-s-and-p-500-es-feb-10-2023). "
   ]
  },
  {
   "cell_type": "code",
   "execution_count": 1,
   "id": "eb3b8e96",
   "metadata": {
    "_cell_guid": "b1076dfc-b9ad-4769-8c92-a6c4dae69d19",
    "_uuid": "8f2839f25d086af736a60e9eeb907d3b93b6e0e5",
    "execution": {
     "iopub.execute_input": "2023-02-22T13:13:48.453955Z",
     "iopub.status.busy": "2023-02-22T13:13:48.453130Z",
     "iopub.status.idle": "2023-02-22T13:13:48.475736Z",
     "shell.execute_reply": "2023-02-22T13:13:48.474828Z"
    },
    "papermill": {
     "duration": 0.041146,
     "end_time": "2023-02-22T13:13:48.478441",
     "exception": false,
     "start_time": "2023-02-22T13:13:48.437295",
     "status": "completed"
    },
    "tags": []
   },
   "outputs": [],
   "source": [
    "import numpy as np # linear algebra\n",
    "import pandas as pd # data processing, CSV file I/O (e.g. pd.read_csv)"
   ]
  },
  {
   "cell_type": "code",
   "execution_count": 3,
   "id": "679ba15f",
   "metadata": {
    "execution": {
     "iopub.execute_input": "2023-02-22T13:15:00.003790Z",
     "iopub.status.busy": "2023-02-22T13:15:00.003356Z",
     "iopub.status.idle": "2023-02-22T13:15:00.051700Z",
     "shell.execute_reply": "2023-02-22T13:15:00.050635Z"
    },
    "papermill": {
     "duration": 0.061634,
     "end_time": "2023-02-22T13:15:00.053618",
     "exception": false,
     "start_time": "2023-02-22T13:14:59.991984",
     "status": "completed"
    },
    "tags": []
   },
   "outputs": [
    {
     "data": {
      "text/html": [
       "<div>\n",
       "<style scoped>\n",
       "    .dataframe tbody tr th:only-of-type {\n",
       "        vertical-align: middle;\n",
       "    }\n",
       "\n",
       "    .dataframe tbody tr th {\n",
       "        vertical-align: top;\n",
       "    }\n",
       "\n",
       "    .dataframe thead th {\n",
       "        text-align: right;\n",
       "    }\n",
       "</style>\n",
       "<table border=\"1\" class=\"dataframe\">\n",
       "  <thead>\n",
       "    <tr style=\"text-align: right;\">\n",
       "      <th></th>\n",
       "      <th>Date</th>\n",
       "      <th>Close/Last</th>\n",
       "      <th>Volume</th>\n",
       "      <th>Open</th>\n",
       "      <th>High</th>\n",
       "      <th>Low</th>\n",
       "    </tr>\n",
       "  </thead>\n",
       "  <tbody>\n",
       "    <tr>\n",
       "      <th>0</th>\n",
       "      <td>02/10/2023</td>\n",
       "      <td>4099.75</td>\n",
       "      <td>1698239.0</td>\n",
       "      <td>4098.00</td>\n",
       "      <td>4104.25</td>\n",
       "      <td>4060.75</td>\n",
       "    </tr>\n",
       "    <tr>\n",
       "      <th>1</th>\n",
       "      <td>02/09/2023</td>\n",
       "      <td>4091.75</td>\n",
       "      <td>1777929.0</td>\n",
       "      <td>4132.25</td>\n",
       "      <td>4170.25</td>\n",
       "      <td>4078.25</td>\n",
       "    </tr>\n",
       "    <tr>\n",
       "      <th>2</th>\n",
       "      <td>02/08/2023</td>\n",
       "      <td>4130.50</td>\n",
       "      <td>1736222.0</td>\n",
       "      <td>4167.25</td>\n",
       "      <td>4179.25</td>\n",
       "      <td>4121.25</td>\n",
       "    </tr>\n",
       "    <tr>\n",
       "      <th>3</th>\n",
       "      <td>02/07/2023</td>\n",
       "      <td>4175.75</td>\n",
       "      <td>2124506.0</td>\n",
       "      <td>4123.50</td>\n",
       "      <td>4188.25</td>\n",
       "      <td>4098.25</td>\n",
       "    </tr>\n",
       "    <tr>\n",
       "      <th>4</th>\n",
       "      <td>02/06/2023</td>\n",
       "      <td>4123.50</td>\n",
       "      <td>1516784.0</td>\n",
       "      <td>4134.25</td>\n",
       "      <td>4143.00</td>\n",
       "      <td>4104.00</td>\n",
       "    </tr>\n",
       "  </tbody>\n",
       "</table>\n",
       "</div>"
      ],
      "text/plain": [
       "         Date  Close/Last     Volume     Open     High      Low\n",
       "0  02/10/2023     4099.75  1698239.0  4098.00  4104.25  4060.75\n",
       "1  02/09/2023     4091.75  1777929.0  4132.25  4170.25  4078.25\n",
       "2  02/08/2023     4130.50  1736222.0  4167.25  4179.25  4121.25\n",
       "3  02/07/2023     4175.75  2124506.0  4123.50  4188.25  4098.25\n",
       "4  02/06/2023     4123.50  1516784.0  4134.25  4143.00  4104.00"
      ]
     },
     "execution_count": 3,
     "metadata": {},
     "output_type": "execute_result"
    }
   ],
   "source": [
    "import pandas as pd\n",
    "df = pd.read_csv('trading.csv')\n",
    "df.head()"
   ]
  },
  {
   "cell_type": "code",
   "execution_count": 4,
   "id": "b8199567",
   "metadata": {
    "execution": {
     "iopub.execute_input": "2023-02-22T13:15:00.076190Z",
     "iopub.status.busy": "2023-02-22T13:15:00.075609Z",
     "iopub.status.idle": "2023-02-22T13:15:00.082566Z",
     "shell.execute_reply": "2023-02-22T13:15:00.081577Z"
    },
    "papermill": {
     "duration": 0.020693,
     "end_time": "2023-02-22T13:15:00.084684",
     "exception": false,
     "start_time": "2023-02-22T13:15:00.063991",
     "status": "completed"
    },
    "tags": []
   },
   "outputs": [
    {
     "data": {
      "text/plain": [
       "(2544, 6)"
      ]
     },
     "execution_count": 4,
     "metadata": {},
     "output_type": "execute_result"
    }
   ],
   "source": [
    "df.shape"
   ]
  },
  {
   "cell_type": "code",
   "execution_count": 5,
   "id": "40f56429",
   "metadata": {
    "execution": {
     "iopub.execute_input": "2023-02-22T13:15:00.107884Z",
     "iopub.status.busy": "2023-02-22T13:15:00.107292Z",
     "iopub.status.idle": "2023-02-22T13:15:00.119747Z",
     "shell.execute_reply": "2023-02-22T13:15:00.118794Z"
    },
    "papermill": {
     "duration": 0.02653,
     "end_time": "2023-02-22T13:15:00.121817",
     "exception": false,
     "start_time": "2023-02-22T13:15:00.095287",
     "status": "completed"
    },
    "tags": []
   },
   "outputs": [
    {
     "data": {
      "text/html": [
       "<div>\n",
       "<style scoped>\n",
       "    .dataframe tbody tr th:only-of-type {\n",
       "        vertical-align: middle;\n",
       "    }\n",
       "\n",
       "    .dataframe tbody tr th {\n",
       "        vertical-align: top;\n",
       "    }\n",
       "\n",
       "    .dataframe thead th {\n",
       "        text-align: right;\n",
       "    }\n",
       "</style>\n",
       "<table border=\"1\" class=\"dataframe\">\n",
       "  <thead>\n",
       "    <tr style=\"text-align: right;\">\n",
       "      <th></th>\n",
       "      <th>Date</th>\n",
       "      <th>Close/Last</th>\n",
       "      <th>Volume</th>\n",
       "      <th>Open</th>\n",
       "      <th>High</th>\n",
       "      <th>Low</th>\n",
       "    </tr>\n",
       "  </thead>\n",
       "  <tbody>\n",
       "    <tr>\n",
       "      <th>2539</th>\n",
       "      <td>02/15/2013</td>\n",
       "      <td>1517.10</td>\n",
       "      <td>1674261.0</td>\n",
       "      <td>1516.75</td>\n",
       "      <td>1521.75</td>\n",
       "      <td>1511.25</td>\n",
       "    </tr>\n",
       "    <tr>\n",
       "      <th>2540</th>\n",
       "      <td>02/14/2013</td>\n",
       "      <td>1518.25</td>\n",
       "      <td>2448.0</td>\n",
       "      <td>1518.75</td>\n",
       "      <td>1519.00</td>\n",
       "      <td>1518.25</td>\n",
       "    </tr>\n",
       "    <tr>\n",
       "      <th>2541</th>\n",
       "      <td>02/13/2013</td>\n",
       "      <td>1516.25</td>\n",
       "      <td>997.0</td>\n",
       "      <td>1516.25</td>\n",
       "      <td>1516.50</td>\n",
       "      <td>1516.00</td>\n",
       "    </tr>\n",
       "    <tr>\n",
       "      <th>2542</th>\n",
       "      <td>02/12/2013</td>\n",
       "      <td>1517.75</td>\n",
       "      <td>1883.0</td>\n",
       "      <td>1517.50</td>\n",
       "      <td>1518.00</td>\n",
       "      <td>1517.50</td>\n",
       "    </tr>\n",
       "    <tr>\n",
       "      <th>2543</th>\n",
       "      <td>02/11/2013</td>\n",
       "      <td>1512.75</td>\n",
       "      <td>1755.0</td>\n",
       "      <td>1512.50</td>\n",
       "      <td>1513.00</td>\n",
       "      <td>1512.25</td>\n",
       "    </tr>\n",
       "  </tbody>\n",
       "</table>\n",
       "</div>"
      ],
      "text/plain": [
       "            Date  Close/Last     Volume     Open     High      Low\n",
       "2539  02/15/2013     1517.10  1674261.0  1516.75  1521.75  1511.25\n",
       "2540  02/14/2013     1518.25     2448.0  1518.75  1519.00  1518.25\n",
       "2541  02/13/2013     1516.25      997.0  1516.25  1516.50  1516.00\n",
       "2542  02/12/2013     1517.75     1883.0  1517.50  1518.00  1517.50\n",
       "2543  02/11/2013     1512.75     1755.0  1512.50  1513.00  1512.25"
      ]
     },
     "execution_count": 5,
     "metadata": {},
     "output_type": "execute_result"
    }
   ],
   "source": [
    "df.tail()"
   ]
  },
  {
   "cell_type": "markdown",
   "id": "d0ed6ca1",
   "metadata": {
    "papermill": {
     "duration": 0.010516,
     "end_time": "2023-02-22T13:15:00.142914",
     "exception": false,
     "start_time": "2023-02-22T13:15:00.132398",
     "status": "completed"
    },
    "tags": []
   },
   "source": [
    "Based on:\n",
    "> *The exercise-settlement value, SET, is calculated using the opening sales price in the primary market of each component security on the expiration date. The exercise-settlement amount is equal to the difference between the exercise-settlement value and the exercise price of the option, multiplied by $100.* \n",
    "\n",
    "I will calculate settlement from `(High - Open) * 100`. \n",
    "\n",
    "*This will be an approximation of the values, because so far I don't have the exact sources to calculate the exact values I will use this approximation. This also means that the results can't be used as real market results!*"
   ]
  },
  {
   "cell_type": "code",
   "execution_count": 6,
   "id": "45941973",
   "metadata": {
    "execution": {
     "iopub.execute_input": "2023-02-22T13:15:00.166552Z",
     "iopub.status.busy": "2023-02-22T13:15:00.166136Z",
     "iopub.status.idle": "2023-02-22T13:15:00.184933Z",
     "shell.execute_reply": "2023-02-22T13:15:00.183987Z"
    },
    "papermill": {
     "duration": 0.033411,
     "end_time": "2023-02-22T13:15:00.187125",
     "exception": false,
     "start_time": "2023-02-22T13:15:00.153714",
     "status": "completed"
    },
    "tags": []
   },
   "outputs": [
    {
     "data": {
      "text/html": [
       "<div>\n",
       "<style scoped>\n",
       "    .dataframe tbody tr th:only-of-type {\n",
       "        vertical-align: middle;\n",
       "    }\n",
       "\n",
       "    .dataframe tbody tr th {\n",
       "        vertical-align: top;\n",
       "    }\n",
       "\n",
       "    .dataframe thead th {\n",
       "        text-align: right;\n",
       "    }\n",
       "</style>\n",
       "<table border=\"1\" class=\"dataframe\">\n",
       "  <thead>\n",
       "    <tr style=\"text-align: right;\">\n",
       "      <th></th>\n",
       "      <th>Date</th>\n",
       "      <th>Close/Last</th>\n",
       "      <th>Volume</th>\n",
       "      <th>Open</th>\n",
       "      <th>High</th>\n",
       "      <th>Low</th>\n",
       "      <th>Settle</th>\n",
       "    </tr>\n",
       "  </thead>\n",
       "  <tbody>\n",
       "    <tr>\n",
       "      <th>2539</th>\n",
       "      <td>02/15/2013</td>\n",
       "      <td>1517.10</td>\n",
       "      <td>1674261.0</td>\n",
       "      <td>1516.75</td>\n",
       "      <td>1521.75</td>\n",
       "      <td>1511.25</td>\n",
       "      <td>500.0</td>\n",
       "    </tr>\n",
       "    <tr>\n",
       "      <th>2540</th>\n",
       "      <td>02/14/2013</td>\n",
       "      <td>1518.25</td>\n",
       "      <td>2448.0</td>\n",
       "      <td>1518.75</td>\n",
       "      <td>1519.00</td>\n",
       "      <td>1518.25</td>\n",
       "      <td>25.0</td>\n",
       "    </tr>\n",
       "    <tr>\n",
       "      <th>2541</th>\n",
       "      <td>02/13/2013</td>\n",
       "      <td>1516.25</td>\n",
       "      <td>997.0</td>\n",
       "      <td>1516.25</td>\n",
       "      <td>1516.50</td>\n",
       "      <td>1516.00</td>\n",
       "      <td>25.0</td>\n",
       "    </tr>\n",
       "    <tr>\n",
       "      <th>2542</th>\n",
       "      <td>02/12/2013</td>\n",
       "      <td>1517.75</td>\n",
       "      <td>1883.0</td>\n",
       "      <td>1517.50</td>\n",
       "      <td>1518.00</td>\n",
       "      <td>1517.50</td>\n",
       "      <td>50.0</td>\n",
       "    </tr>\n",
       "    <tr>\n",
       "      <th>2543</th>\n",
       "      <td>02/11/2013</td>\n",
       "      <td>1512.75</td>\n",
       "      <td>1755.0</td>\n",
       "      <td>1512.50</td>\n",
       "      <td>1513.00</td>\n",
       "      <td>1512.25</td>\n",
       "      <td>50.0</td>\n",
       "    </tr>\n",
       "  </tbody>\n",
       "</table>\n",
       "</div>"
      ],
      "text/plain": [
       "            Date  Close/Last     Volume     Open     High      Low  Settle\n",
       "2539  02/15/2013     1517.10  1674261.0  1516.75  1521.75  1511.25   500.0\n",
       "2540  02/14/2013     1518.25     2448.0  1518.75  1519.00  1518.25    25.0\n",
       "2541  02/13/2013     1516.25      997.0  1516.25  1516.50  1516.00    25.0\n",
       "2542  02/12/2013     1517.75     1883.0  1517.50  1518.00  1517.50    50.0\n",
       "2543  02/11/2013     1512.75     1755.0  1512.50  1513.00  1512.25    50.0"
      ]
     },
     "execution_count": 6,
     "metadata": {},
     "output_type": "execute_result"
    }
   ],
   "source": [
    "df['Settle'] = (df['High']-df['Open'])*100\n",
    "df.tail()"
   ]
  },
  {
   "cell_type": "markdown",
   "id": "a4796f25",
   "metadata": {
    "papermill": {
     "duration": 0.010815,
     "end_time": "2023-02-22T13:15:00.209043",
     "exception": false,
     "start_time": "2023-02-22T13:15:00.198228",
     "status": "completed"
    },
    "tags": []
   },
   "source": [
    "## Creating the predictors\n",
    "\n",
    "> Predictor variables are data that we think are related to market behavior. These data can be very diverse such as the technical indicators, market data, sentiment data, breadth data, fundamental data, government data, etc. that will help us to make forecasts about the future behavior of the market.\n",
    ">\n",
    "> Here we will test the classical indicators for trend following and for range trading, these are:\n",
    "\n",
    "    EMA\n",
    "    ATR\n",
    "    ADX\n",
    "    RSI\n",
    "    MACD\n",
    "    \n"
   ]
  },
  {
   "cell_type": "code",
   "execution_count": 7,
   "id": "613b1fa6",
   "metadata": {
    "execution": {
     "iopub.execute_input": "2023-02-22T13:15:00.233466Z",
     "iopub.status.busy": "2023-02-22T13:15:00.232860Z",
     "iopub.status.idle": "2023-02-22T13:15:00.275317Z",
     "shell.execute_reply": "2023-02-22T13:15:00.273537Z"
    },
    "papermill": {
     "duration": 0.058265,
     "end_time": "2023-02-22T13:15:00.278371",
     "exception": false,
     "start_time": "2023-02-22T13:15:00.220106",
     "status": "completed"
    },
    "tags": []
   },
   "outputs": [
    {
     "data": {
      "text/html": [
       "<div>\n",
       "<style scoped>\n",
       "    .dataframe tbody tr th:only-of-type {\n",
       "        vertical-align: middle;\n",
       "    }\n",
       "\n",
       "    .dataframe tbody tr th {\n",
       "        vertical-align: top;\n",
       "    }\n",
       "\n",
       "    .dataframe thead th {\n",
       "        text-align: right;\n",
       "    }\n",
       "</style>\n",
       "<table border=\"1\" class=\"dataframe\">\n",
       "  <thead>\n",
       "    <tr style=\"text-align: right;\">\n",
       "      <th></th>\n",
       "      <th>Date</th>\n",
       "      <th>Close/Last</th>\n",
       "      <th>Volume</th>\n",
       "      <th>Open</th>\n",
       "      <th>High</th>\n",
       "      <th>Low</th>\n",
       "      <th>Settle</th>\n",
       "      <th>EMA10</th>\n",
       "      <th>EMA30</th>\n",
       "      <th>ATR</th>\n",
       "      <th>ADX</th>\n",
       "      <th>RSI</th>\n",
       "      <th>MACD</th>\n",
       "      <th>MACDsignal</th>\n",
       "    </tr>\n",
       "  </thead>\n",
       "  <tbody>\n",
       "    <tr>\n",
       "      <th>2539</th>\n",
       "      <td>02/15/2013</td>\n",
       "      <td>1517.10</td>\n",
       "      <td>1674261.0</td>\n",
       "      <td>1516.75</td>\n",
       "      <td>1521.75</td>\n",
       "      <td>1511.25</td>\n",
       "      <td>500.0</td>\n",
       "      <td>138.086908</td>\n",
       "      <td>117.445261</td>\n",
       "      <td>1443.852813</td>\n",
       "      <td>26.294488</td>\n",
       "      <td>59.800728</td>\n",
       "      <td>13.514877</td>\n",
       "      <td>-8.507642</td>\n",
       "    </tr>\n",
       "    <tr>\n",
       "      <th>2540</th>\n",
       "      <td>02/14/2013</td>\n",
       "      <td>1518.25</td>\n",
       "      <td>2448.0</td>\n",
       "      <td>1518.75</td>\n",
       "      <td>1519.00</td>\n",
       "      <td>1518.25</td>\n",
       "      <td>25.0</td>\n",
       "      <td>117.525652</td>\n",
       "      <td>111.481051</td>\n",
       "      <td>1413.506184</td>\n",
       "      <td>25.432712</td>\n",
       "      <td>48.105751</td>\n",
       "      <td>4.097830</td>\n",
       "      <td>-5.986548</td>\n",
       "    </tr>\n",
       "    <tr>\n",
       "      <th>2541</th>\n",
       "      <td>02/13/2013</td>\n",
       "      <td>1516.25</td>\n",
       "      <td>997.0</td>\n",
       "      <td>1516.25</td>\n",
       "      <td>1516.50</td>\n",
       "      <td>1516.00</td>\n",
       "      <td>25.0</td>\n",
       "      <td>100.702806</td>\n",
       "      <td>105.901628</td>\n",
       "      <td>1419.077171</td>\n",
       "      <td>24.746688</td>\n",
       "      <td>48.105751</td>\n",
       "      <td>-3.326897</td>\n",
       "      <td>-5.454618</td>\n",
       "    </tr>\n",
       "    <tr>\n",
       "      <th>2542</th>\n",
       "      <td>02/12/2013</td>\n",
       "      <td>1517.75</td>\n",
       "      <td>1883.0</td>\n",
       "      <td>1517.50</td>\n",
       "      <td>1518.00</td>\n",
       "      <td>1517.50</td>\n",
       "      <td>50.0</td>\n",
       "      <td>91.484114</td>\n",
       "      <td>102.295071</td>\n",
       "      <td>1424.357373</td>\n",
       "      <td>24.000408</td>\n",
       "      <td>48.717924</td>\n",
       "      <td>-7.111776</td>\n",
       "      <td>-5.786049</td>\n",
       "    </tr>\n",
       "    <tr>\n",
       "      <th>2543</th>\n",
       "      <td>02/11/2013</td>\n",
       "      <td>1512.75</td>\n",
       "      <td>1755.0</td>\n",
       "      <td>1512.50</td>\n",
       "      <td>1513.00</td>\n",
       "      <td>1512.25</td>\n",
       "      <td>50.0</td>\n",
       "      <td>83.941548</td>\n",
       "      <td>98.921196</td>\n",
       "      <td>1427.117560</td>\n",
       "      <td>23.597690</td>\n",
       "      <td>48.717924</td>\n",
       "      <td>-9.996090</td>\n",
       "      <td>-6.628058</td>\n",
       "    </tr>\n",
       "  </tbody>\n",
       "</table>\n",
       "</div>"
      ],
      "text/plain": [
       "            Date  Close/Last     Volume     Open     High      Low  Settle  \\\n",
       "2539  02/15/2013     1517.10  1674261.0  1516.75  1521.75  1511.25   500.0   \n",
       "2540  02/14/2013     1518.25     2448.0  1518.75  1519.00  1518.25    25.0   \n",
       "2541  02/13/2013     1516.25      997.0  1516.25  1516.50  1516.00    25.0   \n",
       "2542  02/12/2013     1517.75     1883.0  1517.50  1518.00  1517.50    50.0   \n",
       "2543  02/11/2013     1512.75     1755.0  1512.50  1513.00  1512.25    50.0   \n",
       "\n",
       "           EMA10       EMA30          ATR        ADX        RSI       MACD  \\\n",
       "2539  138.086908  117.445261  1443.852813  26.294488  59.800728  13.514877   \n",
       "2540  117.525652  111.481051  1413.506184  25.432712  48.105751   4.097830   \n",
       "2541  100.702806  105.901628  1419.077171  24.746688  48.105751  -3.326897   \n",
       "2542   91.484114  102.295071  1424.357373  24.000408  48.717924  -7.111776   \n",
       "2543   83.941548   98.921196  1427.117560  23.597690  48.717924  -9.996090   \n",
       "\n",
       "      MACDsignal  \n",
       "2539   -8.507642  \n",
       "2540   -5.986548  \n",
       "2541   -5.454618  \n",
       "2542   -5.786049  \n",
       "2543   -6.628058  "
      ]
     },
     "execution_count": 7,
     "metadata": {},
     "output_type": "execute_result"
    }
   ],
   "source": [
    "#We are going to prepare the data by calculating the indicators that we will use as predictors:\n",
    "import talib as ta\n",
    "df['EMA10'] = ta.EMA(df['Settle'].values, timeperiod=10)\n",
    "df['EMA30'] = ta.EMA(df['Settle'].values, timeperiod=30)\n",
    "df['ATR'] = ta.ATR(df['High'].values, df['Low'].values, df['Settle'].values, timeperiod=14)\n",
    "df['ADX'] = ta.ADX(df['High'].values, df['Low'].values, df['Settle'].values, timeperiod=14)\n",
    "df['RSI'] = ta.RSI(df['Settle'].values, timeperiod=14)\n",
    "macd, macdsignal, macdhist = ta.MACD(df['Settle'].values, fastperiod=12, slowperiod=26, signalperiod=9)\n",
    "df['MACD'] = macd\n",
    "df['MACDsignal'] = macdsignal\n",
    "df.tail()"
   ]
  },
  {
   "cell_type": "markdown",
   "id": "0c829667",
   "metadata": {
    "papermill": {
     "duration": 0.011067,
     "end_time": "2023-02-22T13:15:00.301160",
     "exception": false,
     "start_time": "2023-02-22T13:15:00.290093",
     "status": "completed"
    },
    "tags": []
   },
   "source": [
    "> \"*EMAs and MACDs do not serve as they are, since the signal comes from the price in relation to averages, or from one average in relation to the other. Let’s calculate the columns that will serve as predictors for the averages and the MACD. Theese will be the possible trading rules.*"
   ]
  },
  {
   "cell_type": "code",
   "execution_count": 8,
   "id": "eaec957d",
   "metadata": {
    "execution": {
     "iopub.execute_input": "2023-02-22T13:15:00.325603Z",
     "iopub.status.busy": "2023-02-22T13:15:00.325221Z",
     "iopub.status.idle": "2023-02-22T13:15:00.347875Z",
     "shell.execute_reply": "2023-02-22T13:15:00.346969Z"
    },
    "papermill": {
     "duration": 0.0376,
     "end_time": "2023-02-22T13:15:00.349891",
     "exception": false,
     "start_time": "2023-02-22T13:15:00.312291",
     "status": "completed"
    },
    "tags": []
   },
   "outputs": [
    {
     "data": {
      "text/html": [
       "<div>\n",
       "<style scoped>\n",
       "    .dataframe tbody tr th:only-of-type {\n",
       "        vertical-align: middle;\n",
       "    }\n",
       "\n",
       "    .dataframe tbody tr th {\n",
       "        vertical-align: top;\n",
       "    }\n",
       "\n",
       "    .dataframe thead th {\n",
       "        text-align: right;\n",
       "    }\n",
       "</style>\n",
       "<table border=\"1\" class=\"dataframe\">\n",
       "  <thead>\n",
       "    <tr style=\"text-align: right;\">\n",
       "      <th></th>\n",
       "      <th>Date</th>\n",
       "      <th>Close/Last</th>\n",
       "      <th>Volume</th>\n",
       "      <th>Open</th>\n",
       "      <th>High</th>\n",
       "      <th>Low</th>\n",
       "      <th>Settle</th>\n",
       "      <th>EMA10</th>\n",
       "      <th>EMA30</th>\n",
       "      <th>ATR</th>\n",
       "      <th>ADX</th>\n",
       "      <th>RSI</th>\n",
       "      <th>MACD</th>\n",
       "      <th>MACDsignal</th>\n",
       "      <th>ClgtEMA10</th>\n",
       "      <th>EMA10gtEMA30</th>\n",
       "      <th>MACDSIGgtMACD</th>\n",
       "    </tr>\n",
       "  </thead>\n",
       "  <tbody>\n",
       "    <tr>\n",
       "      <th>2539</th>\n",
       "      <td>02/15/2013</td>\n",
       "      <td>1517.10</td>\n",
       "      <td>1674261.0</td>\n",
       "      <td>1516.75</td>\n",
       "      <td>1521.75</td>\n",
       "      <td>1511.25</td>\n",
       "      <td>500.0</td>\n",
       "      <td>138.086908</td>\n",
       "      <td>117.445261</td>\n",
       "      <td>1443.852813</td>\n",
       "      <td>26.294488</td>\n",
       "      <td>59.800728</td>\n",
       "      <td>13.514877</td>\n",
       "      <td>-8.507642</td>\n",
       "      <td>1</td>\n",
       "      <td>1</td>\n",
       "      <td>-1</td>\n",
       "    </tr>\n",
       "    <tr>\n",
       "      <th>2540</th>\n",
       "      <td>02/14/2013</td>\n",
       "      <td>1518.25</td>\n",
       "      <td>2448.0</td>\n",
       "      <td>1518.75</td>\n",
       "      <td>1519.00</td>\n",
       "      <td>1518.25</td>\n",
       "      <td>25.0</td>\n",
       "      <td>117.525652</td>\n",
       "      <td>111.481051</td>\n",
       "      <td>1413.506184</td>\n",
       "      <td>25.432712</td>\n",
       "      <td>48.105751</td>\n",
       "      <td>4.097830</td>\n",
       "      <td>-5.986548</td>\n",
       "      <td>-1</td>\n",
       "      <td>1</td>\n",
       "      <td>-1</td>\n",
       "    </tr>\n",
       "    <tr>\n",
       "      <th>2541</th>\n",
       "      <td>02/13/2013</td>\n",
       "      <td>1516.25</td>\n",
       "      <td>997.0</td>\n",
       "      <td>1516.25</td>\n",
       "      <td>1516.50</td>\n",
       "      <td>1516.00</td>\n",
       "      <td>25.0</td>\n",
       "      <td>100.702806</td>\n",
       "      <td>105.901628</td>\n",
       "      <td>1419.077171</td>\n",
       "      <td>24.746688</td>\n",
       "      <td>48.105751</td>\n",
       "      <td>-3.326897</td>\n",
       "      <td>-5.454618</td>\n",
       "      <td>-1</td>\n",
       "      <td>-1</td>\n",
       "      <td>-1</td>\n",
       "    </tr>\n",
       "    <tr>\n",
       "      <th>2542</th>\n",
       "      <td>02/12/2013</td>\n",
       "      <td>1517.75</td>\n",
       "      <td>1883.0</td>\n",
       "      <td>1517.50</td>\n",
       "      <td>1518.00</td>\n",
       "      <td>1517.50</td>\n",
       "      <td>50.0</td>\n",
       "      <td>91.484114</td>\n",
       "      <td>102.295071</td>\n",
       "      <td>1424.357373</td>\n",
       "      <td>24.000408</td>\n",
       "      <td>48.717924</td>\n",
       "      <td>-7.111776</td>\n",
       "      <td>-5.786049</td>\n",
       "      <td>-1</td>\n",
       "      <td>-1</td>\n",
       "      <td>1</td>\n",
       "    </tr>\n",
       "    <tr>\n",
       "      <th>2543</th>\n",
       "      <td>02/11/2013</td>\n",
       "      <td>1512.75</td>\n",
       "      <td>1755.0</td>\n",
       "      <td>1512.50</td>\n",
       "      <td>1513.00</td>\n",
       "      <td>1512.25</td>\n",
       "      <td>50.0</td>\n",
       "      <td>83.941548</td>\n",
       "      <td>98.921196</td>\n",
       "      <td>1427.117560</td>\n",
       "      <td>23.597690</td>\n",
       "      <td>48.717924</td>\n",
       "      <td>-9.996090</td>\n",
       "      <td>-6.628058</td>\n",
       "      <td>-1</td>\n",
       "      <td>-1</td>\n",
       "      <td>1</td>\n",
       "    </tr>\n",
       "  </tbody>\n",
       "</table>\n",
       "</div>"
      ],
      "text/plain": [
       "            Date  Close/Last     Volume     Open     High      Low  Settle  \\\n",
       "2539  02/15/2013     1517.10  1674261.0  1516.75  1521.75  1511.25   500.0   \n",
       "2540  02/14/2013     1518.25     2448.0  1518.75  1519.00  1518.25    25.0   \n",
       "2541  02/13/2013     1516.25      997.0  1516.25  1516.50  1516.00    25.0   \n",
       "2542  02/12/2013     1517.75     1883.0  1517.50  1518.00  1517.50    50.0   \n",
       "2543  02/11/2013     1512.75     1755.0  1512.50  1513.00  1512.25    50.0   \n",
       "\n",
       "           EMA10       EMA30          ATR        ADX        RSI       MACD  \\\n",
       "2539  138.086908  117.445261  1443.852813  26.294488  59.800728  13.514877   \n",
       "2540  117.525652  111.481051  1413.506184  25.432712  48.105751   4.097830   \n",
       "2541  100.702806  105.901628  1419.077171  24.746688  48.105751  -3.326897   \n",
       "2542   91.484114  102.295071  1424.357373  24.000408  48.717924  -7.111776   \n",
       "2543   83.941548   98.921196  1427.117560  23.597690  48.717924  -9.996090   \n",
       "\n",
       "      MACDsignal  ClgtEMA10  EMA10gtEMA30  MACDSIGgtMACD  \n",
       "2539   -8.507642          1             1             -1  \n",
       "2540   -5.986548         -1             1             -1  \n",
       "2541   -5.454618         -1            -1             -1  \n",
       "2542   -5.786049         -1            -1              1  \n",
       "2543   -6.628058         -1            -1              1  "
      ]
     },
     "execution_count": 8,
     "metadata": {},
     "output_type": "execute_result"
    }
   ],
   "source": [
    "df['ClgtEMA10'] = np.where(df['Settle'] > df['EMA10'], 1, -1)\n",
    "df['EMA10gtEMA30'] = np.where(df['EMA10'] > df['EMA30'], 1, -1)\n",
    "df['MACDSIGgtMACD'] = np.where(df['MACDsignal'] > df['MACD'], 1, -1)\n",
    "df.tail()"
   ]
  },
  {
   "cell_type": "markdown",
   "id": "661a1c5b",
   "metadata": {
    "papermill": {
     "duration": 0.011002,
     "end_time": "2023-02-22T13:15:00.372214",
     "exception": false,
     "start_time": "2023-02-22T13:15:00.361212",
     "status": "completed"
    },
    "tags": []
   },
   "source": [
    "- **EMA**, we are interested in **when the price is above average** and when **the fastest average is above the slowest average**.\n",
    "- **ATR(14)**, we’re interested in **the threshold that will trigger the signal**.\n",
    "- **ADX(14)**, we’re interested in **the threshold that will trigger the signal**.\n",
    "- **RSI(14)**, we’re interested in **the threshold that will trigger the signal**.\n",
    "- **MACD**, we are interested in when **the MACD signal is above MACD**."
   ]
  },
  {
   "cell_type": "markdown",
   "id": "00383a08",
   "metadata": {
    "papermill": {
     "duration": 0.010974,
     "end_time": "2023-02-22T13:15:00.395427",
     "exception": false,
     "start_time": "2023-02-22T13:15:00.384453",
     "status": "completed"
    },
    "tags": []
   },
   "source": [
    "## Creating the target variables\n",
    "\n",
    "> While the classification decision tree tries to characterize the future by offering a categorical variable, i.e. the market goes up or down, the regression decision tree tries to forecast the future value, i.e. the future market price.\n",
    ">\n",
    "> We are going to create here the target variables for the two types of problems, although each one will use its own target.\n",
    "\n",
    "> *Valuing real options, such as expansion options and abandonment options, must be done with the use of decision trees, as their value cannot be determined via the Black-Scholes formula. Real options represent actual decisions a company may make, such as whether to expand or contract operations. For example, an oil and gas company can purchase a piece of land today, and if drilling operations are successful, it can cheaply buy additional lots of land. If drilling is unsuccessful, the company will not exercise the option and it will expire worthless. Since real options provide significant value to corporate projects, they are an integral part of capital budgeting decisions.*\n",
    ">\n",
    "> This means that decison trees are not just useful to predict the price, but also a good tool to choose an investment, or to organize a project: \n",
    ">\n",
    "![ Real Option Analysis. Image by Sabrina Jiang © Investopedia 2021](https://www.investopedia.com/thmb/PtkXgrx_QK3G5rKsFtekiYK30W4=/750x0/filters:no_upscale():max_bytes(150000):strip_icc():format(webp)/dotdash_final_Using_Decision_Trees_in_Finance_Jan_2021-04-e7bae9d326e14965b17da31c38b76218.jpg) \n",
    "\n",
    "> ## Generally:\n",
    "> *For example, in a decision tree if the target variable is binary, with categories 1 and 0 ( shown by green and red dots in the image below, then the decision tree works to split the target variable space into sub groups that are more homogenous in terms of having either 1’s or 0’s.*\n",
    ">\n",
    "> ![binary decision tree](https://miro.medium.com/v2/resize:fit:828/format:webp/1*HQsjuYNRaphQ0SFXnedqRA.png)"
   ]
  },
  {
   "cell_type": "code",
   "execution_count": 9,
   "id": "82c093a8",
   "metadata": {
    "execution": {
     "iopub.execute_input": "2023-02-22T13:15:00.420060Z",
     "iopub.status.busy": "2023-02-22T13:15:00.419227Z",
     "iopub.status.idle": "2023-02-22T13:15:00.450315Z",
     "shell.execute_reply": "2023-02-22T13:15:00.449472Z"
    },
    "papermill": {
     "duration": 0.045227,
     "end_time": "2023-02-22T13:15:00.452212",
     "exception": false,
     "start_time": "2023-02-22T13:15:00.406985",
     "status": "completed"
    },
    "tags": []
   },
   "outputs": [
    {
     "data": {
      "text/html": [
       "<div>\n",
       "<style scoped>\n",
       "    .dataframe tbody tr th:only-of-type {\n",
       "        vertical-align: middle;\n",
       "    }\n",
       "\n",
       "    .dataframe tbody tr th {\n",
       "        vertical-align: top;\n",
       "    }\n",
       "\n",
       "    .dataframe thead th {\n",
       "        text-align: right;\n",
       "    }\n",
       "</style>\n",
       "<table border=\"1\" class=\"dataframe\">\n",
       "  <thead>\n",
       "    <tr style=\"text-align: right;\">\n",
       "      <th></th>\n",
       "      <th>Date</th>\n",
       "      <th>Close/Last</th>\n",
       "      <th>Volume</th>\n",
       "      <th>Open</th>\n",
       "      <th>High</th>\n",
       "      <th>Low</th>\n",
       "      <th>Settle</th>\n",
       "      <th>EMA10</th>\n",
       "      <th>EMA30</th>\n",
       "      <th>ATR</th>\n",
       "      <th>ADX</th>\n",
       "      <th>RSI</th>\n",
       "      <th>MACD</th>\n",
       "      <th>MACDsignal</th>\n",
       "      <th>ClgtEMA10</th>\n",
       "      <th>EMA10gtEMA30</th>\n",
       "      <th>MACDSIGgtMACD</th>\n",
       "      <th>Return</th>\n",
       "      <th>target_cls</th>\n",
       "      <th>target_rgs</th>\n",
       "    </tr>\n",
       "  </thead>\n",
       "  <tbody>\n",
       "    <tr>\n",
       "      <th>0</th>\n",
       "      <td>02/10/2023</td>\n",
       "      <td>4099.75</td>\n",
       "      <td>1698239.0</td>\n",
       "      <td>4098.00</td>\n",
       "      <td>4104.25</td>\n",
       "      <td>4060.75</td>\n",
       "      <td>625.0</td>\n",
       "      <td>NaN</td>\n",
       "      <td>NaN</td>\n",
       "      <td>NaN</td>\n",
       "      <td>NaN</td>\n",
       "      <td>NaN</td>\n",
       "      <td>NaN</td>\n",
       "      <td>NaN</td>\n",
       "      <td>-1</td>\n",
       "      <td>-1</td>\n",
       "      <td>-1</td>\n",
       "      <td>5.080000</td>\n",
       "      <td>1</td>\n",
       "      <td>5.080000</td>\n",
       "    </tr>\n",
       "    <tr>\n",
       "      <th>1</th>\n",
       "      <td>02/09/2023</td>\n",
       "      <td>4091.75</td>\n",
       "      <td>1777929.0</td>\n",
       "      <td>4132.25</td>\n",
       "      <td>4170.25</td>\n",
       "      <td>4078.25</td>\n",
       "      <td>3800.0</td>\n",
       "      <td>NaN</td>\n",
       "      <td>NaN</td>\n",
       "      <td>NaN</td>\n",
       "      <td>NaN</td>\n",
       "      <td>NaN</td>\n",
       "      <td>NaN</td>\n",
       "      <td>NaN</td>\n",
       "      <td>-1</td>\n",
       "      <td>-1</td>\n",
       "      <td>-1</td>\n",
       "      <td>-0.684211</td>\n",
       "      <td>0</td>\n",
       "      <td>-0.684211</td>\n",
       "    </tr>\n",
       "    <tr>\n",
       "      <th>2</th>\n",
       "      <td>02/08/2023</td>\n",
       "      <td>4130.50</td>\n",
       "      <td>1736222.0</td>\n",
       "      <td>4167.25</td>\n",
       "      <td>4179.25</td>\n",
       "      <td>4121.25</td>\n",
       "      <td>1200.0</td>\n",
       "      <td>NaN</td>\n",
       "      <td>NaN</td>\n",
       "      <td>NaN</td>\n",
       "      <td>NaN</td>\n",
       "      <td>NaN</td>\n",
       "      <td>NaN</td>\n",
       "      <td>NaN</td>\n",
       "      <td>-1</td>\n",
       "      <td>-1</td>\n",
       "      <td>-1</td>\n",
       "      <td>4.395833</td>\n",
       "      <td>1</td>\n",
       "      <td>4.395833</td>\n",
       "    </tr>\n",
       "    <tr>\n",
       "      <th>3</th>\n",
       "      <td>02/07/2023</td>\n",
       "      <td>4175.75</td>\n",
       "      <td>2124506.0</td>\n",
       "      <td>4123.50</td>\n",
       "      <td>4188.25</td>\n",
       "      <td>4098.25</td>\n",
       "      <td>6475.0</td>\n",
       "      <td>NaN</td>\n",
       "      <td>NaN</td>\n",
       "      <td>NaN</td>\n",
       "      <td>NaN</td>\n",
       "      <td>NaN</td>\n",
       "      <td>NaN</td>\n",
       "      <td>NaN</td>\n",
       "      <td>-1</td>\n",
       "      <td>-1</td>\n",
       "      <td>-1</td>\n",
       "      <td>-0.864865</td>\n",
       "      <td>0</td>\n",
       "      <td>-0.864865</td>\n",
       "    </tr>\n",
       "    <tr>\n",
       "      <th>4</th>\n",
       "      <td>02/06/2023</td>\n",
       "      <td>4123.50</td>\n",
       "      <td>1516784.0</td>\n",
       "      <td>4134.25</td>\n",
       "      <td>4143.00</td>\n",
       "      <td>4104.00</td>\n",
       "      <td>875.0</td>\n",
       "      <td>NaN</td>\n",
       "      <td>NaN</td>\n",
       "      <td>NaN</td>\n",
       "      <td>NaN</td>\n",
       "      <td>NaN</td>\n",
       "      <td>NaN</td>\n",
       "      <td>NaN</td>\n",
       "      <td>-1</td>\n",
       "      <td>-1</td>\n",
       "      <td>-1</td>\n",
       "      <td>1.057143</td>\n",
       "      <td>1</td>\n",
       "      <td>1.057143</td>\n",
       "    </tr>\n",
       "  </tbody>\n",
       "</table>\n",
       "</div>"
      ],
      "text/plain": [
       "         Date  Close/Last     Volume     Open     High      Low  Settle  \\\n",
       "0  02/10/2023     4099.75  1698239.0  4098.00  4104.25  4060.75   625.0   \n",
       "1  02/09/2023     4091.75  1777929.0  4132.25  4170.25  4078.25  3800.0   \n",
       "2  02/08/2023     4130.50  1736222.0  4167.25  4179.25  4121.25  1200.0   \n",
       "3  02/07/2023     4175.75  2124506.0  4123.50  4188.25  4098.25  6475.0   \n",
       "4  02/06/2023     4123.50  1516784.0  4134.25  4143.00  4104.00   875.0   \n",
       "\n",
       "   EMA10  EMA30  ATR  ADX  RSI  MACD  MACDsignal  ClgtEMA10  EMA10gtEMA30  \\\n",
       "0    NaN    NaN  NaN  NaN  NaN   NaN         NaN         -1            -1   \n",
       "1    NaN    NaN  NaN  NaN  NaN   NaN         NaN         -1            -1   \n",
       "2    NaN    NaN  NaN  NaN  NaN   NaN         NaN         -1            -1   \n",
       "3    NaN    NaN  NaN  NaN  NaN   NaN         NaN         -1            -1   \n",
       "4    NaN    NaN  NaN  NaN  NaN   NaN         NaN         -1            -1   \n",
       "\n",
       "   MACDSIGgtMACD    Return  target_cls  target_rgs  \n",
       "0             -1  5.080000           1    5.080000  \n",
       "1             -1 -0.684211           0   -0.684211  \n",
       "2             -1  4.395833           1    4.395833  \n",
       "3             -1 -0.864865           0   -0.864865  \n",
       "4             -1  1.057143           1    1.057143  "
      ]
     },
     "execution_count": 9,
     "metadata": {},
     "output_type": "execute_result"
    }
   ],
   "source": [
    "df['Return'] = df['Settle'].pct_change(1).shift(-1)\n",
    "df['target_cls'] = np.where(df.Return > 0, 1, 0)\n",
    "df['target_rgs'] = df['Return']\n",
    "df.head()"
   ]
  },
  {
   "cell_type": "markdown",
   "id": "531cb191",
   "metadata": {
    "papermill": {
     "duration": 0.01137,
     "end_time": "2023-02-22T13:15:00.475642",
     "exception": false,
     "start_time": "2023-02-22T13:15:00.464272",
     "status": "completed"
    },
    "tags": []
   },
   "source": [
    "> We must clean the data dropping the NA data, this step is crucial to compute cleanly the trees."
   ]
  },
  {
   "cell_type": "code",
   "execution_count": 10,
   "id": "7a58a18d",
   "metadata": {
    "execution": {
     "iopub.execute_input": "2023-02-22T13:15:00.500728Z",
     "iopub.status.busy": "2023-02-22T13:15:00.500019Z",
     "iopub.status.idle": "2023-02-22T13:15:00.521312Z",
     "shell.execute_reply": "2023-02-22T13:15:00.520246Z"
    },
    "papermill": {
     "duration": 0.036941,
     "end_time": "2023-02-22T13:15:00.524086",
     "exception": false,
     "start_time": "2023-02-22T13:15:00.487145",
     "status": "completed"
    },
    "tags": []
   },
   "outputs": [
    {
     "data": {
      "text/html": [
       "<div>\n",
       "<style scoped>\n",
       "    .dataframe tbody tr th:only-of-type {\n",
       "        vertical-align: middle;\n",
       "    }\n",
       "\n",
       "    .dataframe tbody tr th {\n",
       "        vertical-align: top;\n",
       "    }\n",
       "\n",
       "    .dataframe thead th {\n",
       "        text-align: right;\n",
       "    }\n",
       "</style>\n",
       "<table border=\"1\" class=\"dataframe\">\n",
       "  <thead>\n",
       "    <tr style=\"text-align: right;\">\n",
       "      <th></th>\n",
       "      <th>ATR</th>\n",
       "      <th>ADX</th>\n",
       "      <th>RSI</th>\n",
       "      <th>ClgtEMA10</th>\n",
       "      <th>EMA10gtEMA30</th>\n",
       "      <th>MACDSIGgtMACD</th>\n",
       "    </tr>\n",
       "  </thead>\n",
       "  <tbody>\n",
       "    <tr>\n",
       "      <th>2539</th>\n",
       "      <td>1443.852813</td>\n",
       "      <td>26.294488</td>\n",
       "      <td>59.800728</td>\n",
       "      <td>1</td>\n",
       "      <td>1</td>\n",
       "      <td>-1</td>\n",
       "    </tr>\n",
       "    <tr>\n",
       "      <th>2540</th>\n",
       "      <td>1413.506184</td>\n",
       "      <td>25.432712</td>\n",
       "      <td>48.105751</td>\n",
       "      <td>-1</td>\n",
       "      <td>1</td>\n",
       "      <td>-1</td>\n",
       "    </tr>\n",
       "    <tr>\n",
       "      <th>2541</th>\n",
       "      <td>1419.077171</td>\n",
       "      <td>24.746688</td>\n",
       "      <td>48.105751</td>\n",
       "      <td>-1</td>\n",
       "      <td>-1</td>\n",
       "      <td>-1</td>\n",
       "    </tr>\n",
       "    <tr>\n",
       "      <th>2542</th>\n",
       "      <td>1424.357373</td>\n",
       "      <td>24.000408</td>\n",
       "      <td>48.717924</td>\n",
       "      <td>-1</td>\n",
       "      <td>-1</td>\n",
       "      <td>1</td>\n",
       "    </tr>\n",
       "    <tr>\n",
       "      <th>2543</th>\n",
       "      <td>1427.117560</td>\n",
       "      <td>23.597690</td>\n",
       "      <td>48.717924</td>\n",
       "      <td>-1</td>\n",
       "      <td>-1</td>\n",
       "      <td>1</td>\n",
       "    </tr>\n",
       "  </tbody>\n",
       "</table>\n",
       "</div>"
      ],
      "text/plain": [
       "              ATR        ADX        RSI  ClgtEMA10  EMA10gtEMA30  \\\n",
       "2539  1443.852813  26.294488  59.800728          1             1   \n",
       "2540  1413.506184  25.432712  48.105751         -1             1   \n",
       "2541  1419.077171  24.746688  48.105751         -1            -1   \n",
       "2542  1424.357373  24.000408  48.717924         -1            -1   \n",
       "2543  1427.117560  23.597690  48.717924         -1            -1   \n",
       "\n",
       "      MACDSIGgtMACD  \n",
       "2539             -1  \n",
       "2540             -1  \n",
       "2541             -1  \n",
       "2542              1  \n",
       "2543              1  "
      ]
     },
     "execution_count": 10,
     "metadata": {},
     "output_type": "execute_result"
    }
   ],
   "source": [
    "predictors_list = ['ATR', 'ADX','RSI', 'ClgtEMA10', 'EMA10gtEMA30', 'MACDSIGgtMACD']\n",
    "tmp = df[predictors_list]\n",
    "\n",
    "tmp = tmp.fillna(0)\n",
    "highest_non_inf = tmp.max().loc[lambda v: v<np.Inf].max()\n",
    "tmp.replace(np.Inf, highest_non_inf)\n",
    "\n",
    "tmp.tail()"
   ]
  },
  {
   "cell_type": "code",
   "execution_count": 11,
   "id": "d758de28",
   "metadata": {
    "execution": {
     "iopub.execute_input": "2023-02-22T13:15:00.550578Z",
     "iopub.status.busy": "2023-02-22T13:15:00.549974Z",
     "iopub.status.idle": "2023-02-22T13:15:00.562940Z",
     "shell.execute_reply": "2023-02-22T13:15:00.561510Z"
    },
    "papermill": {
     "duration": 0.029673,
     "end_time": "2023-02-22T13:15:00.565522",
     "exception": false,
     "start_time": "2023-02-22T13:15:00.535849",
     "status": "completed"
    },
    "tags": []
   },
   "outputs": [
    {
     "data": {
      "text/html": [
       "<div>\n",
       "<style scoped>\n",
       "    .dataframe tbody tr th:only-of-type {\n",
       "        vertical-align: middle;\n",
       "    }\n",
       "\n",
       "    .dataframe tbody tr th {\n",
       "        vertical-align: top;\n",
       "    }\n",
       "\n",
       "    .dataframe thead th {\n",
       "        text-align: right;\n",
       "    }\n",
       "</style>\n",
       "<table border=\"1\" class=\"dataframe\">\n",
       "  <thead>\n",
       "    <tr style=\"text-align: right;\">\n",
       "      <th></th>\n",
       "      <th>ATR</th>\n",
       "      <th>ADX</th>\n",
       "      <th>RSI</th>\n",
       "      <th>ClgtEMA10</th>\n",
       "      <th>EMA10gtEMA30</th>\n",
       "      <th>MACDSIGgtMACD</th>\n",
       "    </tr>\n",
       "  </thead>\n",
       "  <tbody>\n",
       "    <tr>\n",
       "      <th>2539</th>\n",
       "      <td>1443.852813</td>\n",
       "      <td>26.294488</td>\n",
       "      <td>59.800728</td>\n",
       "      <td>1</td>\n",
       "      <td>1</td>\n",
       "      <td>-1</td>\n",
       "    </tr>\n",
       "    <tr>\n",
       "      <th>2540</th>\n",
       "      <td>1413.506184</td>\n",
       "      <td>25.432712</td>\n",
       "      <td>48.105751</td>\n",
       "      <td>-1</td>\n",
       "      <td>1</td>\n",
       "      <td>-1</td>\n",
       "    </tr>\n",
       "    <tr>\n",
       "      <th>2541</th>\n",
       "      <td>1419.077171</td>\n",
       "      <td>24.746688</td>\n",
       "      <td>48.105751</td>\n",
       "      <td>-1</td>\n",
       "      <td>-1</td>\n",
       "      <td>-1</td>\n",
       "    </tr>\n",
       "    <tr>\n",
       "      <th>2542</th>\n",
       "      <td>1424.357373</td>\n",
       "      <td>24.000408</td>\n",
       "      <td>48.717924</td>\n",
       "      <td>-1</td>\n",
       "      <td>-1</td>\n",
       "      <td>1</td>\n",
       "    </tr>\n",
       "    <tr>\n",
       "      <th>2543</th>\n",
       "      <td>1427.117560</td>\n",
       "      <td>23.597690</td>\n",
       "      <td>48.717924</td>\n",
       "      <td>-1</td>\n",
       "      <td>-1</td>\n",
       "      <td>1</td>\n",
       "    </tr>\n",
       "  </tbody>\n",
       "</table>\n",
       "</div>"
      ],
      "text/plain": [
       "              ATR        ADX        RSI  ClgtEMA10  EMA10gtEMA30  \\\n",
       "2539  1443.852813  26.294488  59.800728          1             1   \n",
       "2540  1413.506184  25.432712  48.105751         -1             1   \n",
       "2541  1419.077171  24.746688  48.105751         -1            -1   \n",
       "2542  1424.357373  24.000408  48.717924         -1            -1   \n",
       "2543  1427.117560  23.597690  48.717924         -1            -1   \n",
       "\n",
       "      MACDSIGgtMACD  \n",
       "2539             -1  \n",
       "2540             -1  \n",
       "2541             -1  \n",
       "2542              1  \n",
       "2543              1  "
      ]
     },
     "execution_count": 11,
     "metadata": {},
     "output_type": "execute_result"
    }
   ],
   "source": [
    "predictors_list = ['ATR', 'ADX','RSI', 'ClgtEMA10', 'EMA10gtEMA30', 'MACDSIGgtMACD']\n",
    "X = tmp[predictors_list]\n",
    "X.tail()"
   ]
  },
  {
   "cell_type": "code",
   "execution_count": 12,
   "id": "8a5b10ee",
   "metadata": {
    "execution": {
     "iopub.execute_input": "2023-02-22T13:15:00.590860Z",
     "iopub.status.busy": "2023-02-22T13:15:00.590459Z",
     "iopub.status.idle": "2023-02-22T13:15:00.599850Z",
     "shell.execute_reply": "2023-02-22T13:15:00.598268Z"
    },
    "papermill": {
     "duration": 0.025166,
     "end_time": "2023-02-22T13:15:00.602626",
     "exception": false,
     "start_time": "2023-02-22T13:15:00.577460",
     "status": "completed"
    },
    "tags": []
   },
   "outputs": [
    {
     "data": {
      "text/plain": [
       "2539   -0.95\n",
       "2540    0.00\n",
       "2541    1.00\n",
       "2542    0.00\n",
       "2543     NaN\n",
       "Name: target_rgs, dtype: float64"
      ]
     },
     "execution_count": 12,
     "metadata": {},
     "output_type": "execute_result"
    }
   ],
   "source": [
    "y_cls = df.target_cls #the target dataset for the classification decision tree\n",
    "y_cls.tail()\n",
    "\n",
    "y_rgs = df.target_rgs # the target dataset for the regression decision tree\n",
    "y_rgs.tail()"
   ]
  },
  {
   "cell_type": "markdown",
   "id": "ee7f388a",
   "metadata": {
    "papermill": {
     "duration": 0.0119,
     "end_time": "2023-02-22T13:15:00.626876",
     "exception": false,
     "start_time": "2023-02-22T13:15:00.614976",
     "status": "completed"
    },
    "tags": []
   },
   "source": [
    "> \"*The last step to finish with the preparation of the data sets is to split them into train and test data sets. This is necessary to fit the model with a set of data, usually 70% or 80% and the remainder, to test the goodness of the model. If we do not do so, we would run the risk of over-fitting the model. We want to test the model with unknown data, once the model has been fitted in order to evaluate the model accuracy.*\"\n",
    ">\n",
    "> \"*For classification decision trees, we’re going to use the [traintestsplit](https://scikit-learn.org/stable/modules/generated/sklearn.model_selection.train_test_split.html) function from sklearn modelselection library to split the dataset. Since the output is categorical, it is important that the training and test datasets are proportional traintest_split function has as input the predictor and target datasets and some input parameters:*\n",
    "> - ***test_size:*** *the size of the test data set, in this case, 30% of the data for the tests and, therefore, 70% for the training.*\n",
    "> - ***random_state:*** *Since the sampling is random, this parameter allows us to reproduce the same randomness in each execution.*\n",
    "> - ***stratify:*** *To ensure that the training and test sample data are proportional, we set the parameter to yes. This means that, for example, if there are more days with positive than negative return, the training and test samples will keep the same proportion.*\""
   ]
  },
  {
   "cell_type": "code",
   "execution_count": 13,
   "id": "13ba79c8",
   "metadata": {
    "execution": {
     "iopub.execute_input": "2023-02-22T13:15:00.653150Z",
     "iopub.status.busy": "2023-02-22T13:15:00.652720Z",
     "iopub.status.idle": "2023-02-22T13:15:01.754243Z",
     "shell.execute_reply": "2023-02-22T13:15:01.752888Z"
    },
    "papermill": {
     "duration": 1.117731,
     "end_time": "2023-02-22T13:15:01.756914",
     "exception": false,
     "start_time": "2023-02-22T13:15:00.639183",
     "status": "completed"
    },
    "tags": []
   },
   "outputs": [
    {
     "name": "stdout",
     "output_type": "stream",
     "text": [
      "(1780, 6) (1780,)\n",
      "(764, 6) (764,)\n"
     ]
    }
   ],
   "source": [
    "from sklearn.model_selection import train_test_split\n",
    "y=y_cls\n",
    "X_cls_train, X_cls_test, y_cls_train, y_cls_test = train_test_split(X, y, test_size=0.3, random_state=432, stratify=y)\n",
    "\n",
    "print (X_cls_train.shape, y_cls_train.shape)\n",
    "print (X_cls_test.shape, y_cls_test.shape)"
   ]
  },
  {
   "cell_type": "markdown",
   "id": "334a172b",
   "metadata": {
    "papermill": {
     "duration": 0.012322,
     "end_time": "2023-02-22T13:15:01.781295",
     "exception": false,
     "start_time": "2023-02-22T13:15:01.768973",
     "status": "completed"
    },
    "tags": []
   },
   "source": [
    "> Here we have:\n",
    "\n",
    "    Train predictor variables dataset: X_cls_train\n",
    "    Train target variables dataset: y_cls_train\n",
    "    Test predictor variables dataset: X_cls_test\n",
    "    Test target variables dataset: y_cls_test\n",
    "> Since the output is continuous, we don’t worry about the proportionality of the output in training and test datasets."
   ]
  },
  {
   "cell_type": "code",
   "execution_count": 14,
   "id": "c5be4f5a",
   "metadata": {
    "execution": {
     "iopub.execute_input": "2023-02-22T13:15:01.808315Z",
     "iopub.status.busy": "2023-02-22T13:15:01.807963Z",
     "iopub.status.idle": "2023-02-22T13:15:01.816269Z",
     "shell.execute_reply": "2023-02-22T13:15:01.815476Z"
    },
    "papermill": {
     "duration": 0.023801,
     "end_time": "2023-02-22T13:15:01.818246",
     "exception": false,
     "start_time": "2023-02-22T13:15:01.794445",
     "status": "completed"
    },
    "tags": []
   },
   "outputs": [
    {
     "name": "stdout",
     "output_type": "stream",
     "text": [
      "(1780, 6) (1780,)\n",
      "(764, 6) (764,)\n"
     ]
    }
   ],
   "source": [
    "train_length = int(len(df)*0.70)\n",
    "X_rgs_train = X[:train_length]\n",
    "X_rgs_test = X[train_length:]\n",
    "y_rgs_train = y_rgs[:train_length]\n",
    "y_rgs_test = y_rgs[train_length:]\n",
    "\n",
    "print (X_rgs_train.shape, y_rgs_train.shape)\n",
    "print (X_rgs_test.shape, y_rgs_test.shape)"
   ]
  },
  {
   "cell_type": "markdown",
   "id": "3964e335",
   "metadata": {
    "papermill": {
     "duration": 0.012018,
     "end_time": "2023-02-22T13:15:01.843760",
     "exception": false,
     "start_time": "2023-02-22T13:15:01.831742",
     "status": "completed"
    },
    "tags": []
   },
   "source": [
    "> Again, here we have:\n",
    "\n",
    "    Train predictor variables dataset: X_rgs_train\n",
    "    Train target variables dataset: y_rgs_train\n",
    "    Test predictor variables dataset: X_rgs_test\n",
    "    Test target variables dataset: y_rgs_test"
   ]
  },
  {
   "cell_type": "markdown",
   "id": "0d8a060f",
   "metadata": {
    "papermill": {
     "duration": 0.011774,
     "end_time": "2023-02-22T13:15:01.867660",
     "exception": false,
     "start_time": "2023-02-22T13:15:01.855886",
     "status": "completed"
    },
    "tags": []
   },
   "source": [
    "## Decision Trees for Classification\n",
    "\n",
    "> Now let’s create the classification decision tree using the DecisionTreeClassifier function from the sklearn.tree library\n",
    ">\n",
    "> Basically refer to the parameters with which the algorithm must build the tree, because it follows a recursive approach to build the tree, we must set some limits to create it.\n",
    "> - **criterion:** For the classification decision trees we can choose Gini or Entropy and Information Gain, these criteria refer to the loss function to evaluate the performance of a learning machine algorithm and are the most used for the classification algorithms, although it is beyond the scope of this post, basically serves us to adjust the accuracy of the model, also the algorithm to build the tree, stops evaluating the branches in which no improvement is obtained according to the loss function.\n",
    "> - **max_depth:** Maximum number of levels the tree will have.\n",
    "> - **min_samples_leaf:** This parameter is optimizable and indicates the minimum number of samples that we want to have in leaves.\n",
    "\n"
   ]
  },
  {
   "cell_type": "markdown",
   "id": "353a0574",
   "metadata": {
    "papermill": {
     "duration": 0.012474,
     "end_time": "2023-02-22T13:15:01.892457",
     "exception": false,
     "start_time": "2023-02-22T13:15:01.879983",
     "status": "completed"
    },
    "tags": []
   },
   "source": [
    "> ## Generally:\n",
    "> \"*The criterion for selecting variables and hierarchy can be tricky to get, not to mention Gini index, Entropy ( wait, isn’t that physics?) and information gain (isn’t that information theory?). As you can see there are lots of tricky problems on which you can get stuck on.*\"\n",
    ">\n",
    "> It comprises of the following components:\n",
    "> - **root node:** this is the node that begins the splitting process by finding the variable that best splits the target variable\n",
    "> - **Node purity:** Decision nodes are typically impure, or a mixture of both classes of the target variable (0,1 or green and red dots in the image). *Pure nodes are those that have one class — hence the term pure. They either have green or red dots only in the image.*\n",
    "> - **Decision nodes:** these are subsequent or intermediate nodes, where the target variable is again split further by other variables\n",
    "> - **Leaf nodes or terminal nodes** are pure nodes, hence are used for making a prediction of a numerical or class is made.\n",
    ">\n",
    ">\n",
    "> ![Structure of a Decision Tree, source: [5]](https://miro.medium.com/v2/resize:fit:1100/format:webp/1*8tFncx9671DOisRXg-eEtw.png)\n",
    "> \n",
    "> In general a decision tree takes a statement or hypothesis or condition and then makes a decision on whether the condition holds or does not.\n",
    "> \n",
    "> The algorithm therefore evaluates all variables on some statistical criteria and then chooses the variable that performs best on the criteria.\n",
    "> ### Variable selection criterion: Entropy and Information Gain / Gini Index\n",
    ">\n",
    "> *Both criteria are broadly similar and seek to determine which variable would split the data to lead to the underlying child nodes being most homogenous or pure. Both are used in different Decision Tree algorithms. To add to the confusion, it is not clear which one is the preferred approach. So, one has to have an understanding of both.*\n",
    ">\n",
    "> > #### Entropy\n",
    "> > In the context of Decision Trees, entropy is a measure of disorder or impurity in a node. Thus, a node with more variable composition, such as 2Pass and 2 Fail would be considered to have higher Entropy than a node which has only pass or only fail. The maximum level of entropy or disorder is given by 1 and minimum entropy is given by a value 0. Leaf nodes which have all instances belonging to 1 class would have an entropy of 0. Whereas, the entropy for a node where the classes are divided equally would be 1. $$E = - \\sum_{i=1}^{n}{p_ilog_2(p_i)}$$ where $p_i$ is the probability of randomly selecting an example in class $i$. So, the initial entropy of at the parent node is given by the probability of getting a pass vs fail where:\n",
    "> > - $p_{pass} = \\frac{probability of passing}{total number of instances}$\n",
    "> > - $p_{fail} = \\frac{probability of failing}{total number of instances}$ \n",
    "> > Now essentially what a Decision Tree does to determine the root node is to calculate the entropy for each variable and its potential splits. For this we have to calculate a potential split from each variable, calculate the average entropy across both or all the nodes and then the change in entropy vis a vis the parent node. This change in entropy is termed Information Gain and represents how much information a feature provides for the target variable. $$Infomration Gain = entropy_{parrent node} - entropy_{children node}$$ For calculating the root node we have to calculate a potential split from each variable, calculate the average entropy across both the nodes and then the change in entropy via a vis the parent node.\n",
    "> \n",
    "> > #### Gini Index\n",
    "> > The Gini Index or Impurity measures the probability for a random instance being misclassified when chosen randomly. The lower the Gini Index, the better the lower the likelihood of misclassification.\n",
    "> > $$Gini = 1 - \\sum_{i=1}^{j}{P(i)^2}$$ where $j$ is the number of classes; \n",
    "> > \n",
    "> > $P(i)$ is the ratio of $\\frac{pass}{total number of observations}$ in the node.\n",
    "> >\n",
    "> >  The Gini Index has a minimum (highest level of purity) of 0. It has a maximum value of .5. If Gini Index is .5, it indicates a random assignment of classes.\n",
    "> > Now let us calculate the Gini index for the root node. Gini formula requires us to calculate the Gini Index for each sub node. Then do a weighted average to calculate the overall Gini Index for the node.\n",
    ">\n",
    "> #### Conclusion\n",
    "> Depending on which impurity measurement is used, tree classification results can vary. This can make small (or sometimes large) impact on your model. There seems to be no one preferred approach by different Decision Tree algorithms. *The Gini index has a maximum impurity is 0.5 and maximum purity is 0, whereas Entropy has a maximum impurity of 1 and maximum purity is 0.*\n",
    "\n",
    "\n"
   ]
  },
  {
   "cell_type": "code",
   "execution_count": 15,
   "id": "de3db11f",
   "metadata": {
    "execution": {
     "iopub.execute_input": "2023-02-22T13:15:01.919877Z",
     "iopub.status.busy": "2023-02-22T13:15:01.918648Z",
     "iopub.status.idle": "2023-02-22T13:15:02.099722Z",
     "shell.execute_reply": "2023-02-22T13:15:02.098023Z"
    },
    "papermill": {
     "duration": 0.19787,
     "end_time": "2023-02-22T13:15:02.102601",
     "exception": false,
     "start_time": "2023-02-22T13:15:01.904731",
     "status": "completed"
    },
    "tags": []
   },
   "outputs": [
    {
     "data": {
      "text/plain": [
       "DecisionTreeClassifier(max_depth=3, min_samples_leaf=6)"
      ]
     },
     "execution_count": 15,
     "metadata": {},
     "output_type": "execute_result"
    }
   ],
   "source": [
    "from sklearn.tree import DecisionTreeClassifier\n",
    "clf = DecisionTreeClassifier(criterion='gini', max_depth=3, min_samples_leaf=6)\n",
    "clf"
   ]
  },
  {
   "cell_type": "markdown",
   "id": "027e4992",
   "metadata": {
    "papermill": {
     "duration": 0.011728,
     "end_time": "2023-02-22T13:15:02.126480",
     "exception": false,
     "start_time": "2023-02-22T13:15:02.114752",
     "status": "completed"
    },
    "tags": []
   },
   "source": [
    "> Train the model with the training datasets, we fit the model and the algorithm would already be fully trained"
   ]
  },
  {
   "cell_type": "code",
   "execution_count": 16,
   "id": "553e6cd9",
   "metadata": {
    "execution": {
     "iopub.execute_input": "2023-02-22T13:15:02.152399Z",
     "iopub.status.busy": "2023-02-22T13:15:02.152015Z",
     "iopub.status.idle": "2023-02-22T13:15:02.164324Z",
     "shell.execute_reply": "2023-02-22T13:15:02.162759Z"
    },
    "papermill": {
     "duration": 0.029377,
     "end_time": "2023-02-22T13:15:02.167797",
     "exception": false,
     "start_time": "2023-02-22T13:15:02.138420",
     "status": "completed"
    },
    "tags": []
   },
   "outputs": [
    {
     "data": {
      "text/plain": [
       "DecisionTreeClassifier(max_depth=3, min_samples_leaf=6)"
      ]
     },
     "execution_count": 16,
     "metadata": {},
     "output_type": "execute_result"
    }
   ],
   "source": [
    "clf = clf.fit(X_cls_train, y_cls_train)\n",
    "clf"
   ]
  },
  {
   "cell_type": "markdown",
   "id": "c0406d02",
   "metadata": {
    "papermill": {
     "duration": 0.01228,
     "end_time": "2023-02-22T13:15:02.192628",
     "exception": false,
     "start_time": "2023-02-22T13:15:02.180348",
     "status": "completed"
    },
    "tags": []
   },
   "source": [
    "## Visualize Decision Trees for Classification\n",
    "> Note that the image only shows the most significant nodes. In this graph we can see all the relevant information in each node:\n",
    ">\n",
    "> - the predictor variable used to split the data set.\n",
    "> - the value of Gini impurity.\n",
    "> - the number of data points available at that node and\n",
    "> - the number of target variable data points belonging to each class, 1 and 0."
   ]
  },
  {
   "cell_type": "code",
   "execution_count": 17,
   "id": "02a561b1",
   "metadata": {
    "execution": {
     "iopub.execute_input": "2023-02-22T13:15:02.219598Z",
     "iopub.status.busy": "2023-02-22T13:15:02.219162Z",
     "iopub.status.idle": "2023-02-22T13:15:03.303733Z",
     "shell.execute_reply": "2023-02-22T13:15:03.302581Z"
    },
    "papermill": {
     "duration": 1.101643,
     "end_time": "2023-02-22T13:15:03.306738",
     "exception": false,
     "start_time": "2023-02-22T13:15:02.205095",
     "status": "completed"
    },
    "tags": []
   },
   "outputs": [
    {
     "data": {
      "image/svg+xml": [
       "<?xml version=\"1.0\" encoding=\"UTF-8\" standalone=\"no\"?>\n",
       "<!DOCTYPE svg PUBLIC \"-//W3C//DTD SVG 1.1//EN\"\n",
       " \"http://www.w3.org/Graphics/SVG/1.1/DTD/svg11.dtd\">\n",
       "<!-- Generated by graphviz version 5.0.0 (20220707.2338)\n",
       " -->\n",
       "<!-- Title: Tree Pages: 1 -->\n",
       "<svg width=\"1228pt\" height=\"373pt\"\n",
       " viewBox=\"0.00 0.00 1228.00 373.00\" xmlns=\"http://www.w3.org/2000/svg\" xmlns:xlink=\"http://www.w3.org/1999/xlink\">\n",
       "<g id=\"graph0\" class=\"graph\" transform=\"scale(1 1) rotate(0) translate(4 369)\">\n",
       "<title>Tree</title>\n",
       "<polygon fill=\"white\" stroke=\"transparent\" points=\"-4,4 -4,-369 1224,-369 1224,4 -4,4\"/>\n",
       "<!-- 0 -->\n",
       "<g id=\"node1\" class=\"node\">\n",
       "<title>0</title>\n",
       "<polygon fill=\"#fef8f4\" stroke=\"black\" points=\"684.5,-365 535.5,-365 535.5,-297 684.5,-297 684.5,-365\"/>\n",
       "<text text-anchor=\"middle\" x=\"610\" y=\"-349.8\" font-family=\"Helvetica,sans-Serif\" font-size=\"14.00\">RSI &lt;= 49.391</text>\n",
       "<text text-anchor=\"middle\" x=\"610\" y=\"-334.8\" font-family=\"Helvetica,sans-Serif\" font-size=\"14.00\">gini = 0.5</text>\n",
       "<text text-anchor=\"middle\" x=\"610\" y=\"-319.8\" font-family=\"Helvetica,sans-Serif\" font-size=\"14.00\">samples = 1780</text>\n",
       "<text text-anchor=\"middle\" x=\"610\" y=\"-304.8\" font-family=\"Helvetica,sans-Serif\" font-size=\"14.00\">value = [915, 865]</text>\n",
       "</g>\n",
       "<!-- 1 -->\n",
       "<g id=\"node2\" class=\"node\">\n",
       "<title>1</title>\n",
       "<polygon fill=\"#99ccf2\" stroke=\"black\" points=\"524.5,-261 375.5,-261 375.5,-193 524.5,-193 524.5,-261\"/>\n",
       "<text text-anchor=\"middle\" x=\"450\" y=\"-245.8\" font-family=\"Helvetica,sans-Serif\" font-size=\"14.00\">RSI &lt;= 47.299</text>\n",
       "<text text-anchor=\"middle\" x=\"450\" y=\"-230.8\" font-family=\"Helvetica,sans-Serif\" font-size=\"14.00\">gini = 0.439</text>\n",
       "<text text-anchor=\"middle\" x=\"450\" y=\"-215.8\" font-family=\"Helvetica,sans-Serif\" font-size=\"14.00\">samples = 1031</text>\n",
       "<text text-anchor=\"middle\" x=\"450\" y=\"-200.8\" font-family=\"Helvetica,sans-Serif\" font-size=\"14.00\">value = [336, 695]</text>\n",
       "</g>\n",
       "<!-- 0&#45;&gt;1 -->\n",
       "<g id=\"edge1\" class=\"edge\">\n",
       "<title>0&#45;&gt;1</title>\n",
       "<path fill=\"none\" stroke=\"black\" d=\"M558.05,-296.88C542.89,-287.21 526.18,-276.56 510.53,-266.59\"/>\n",
       "<polygon fill=\"black\" stroke=\"black\" points=\"512.27,-263.55 501.96,-261.12 508.51,-269.45 512.27,-263.55\"/>\n",
       "<text text-anchor=\"middle\" x=\"507.36\" y=\"-281.83\" font-family=\"Helvetica,sans-Serif\" font-size=\"14.00\">True</text>\n",
       "</g>\n",
       "<!-- 8 -->\n",
       "<g id=\"node9\" class=\"node\">\n",
       "<title>8</title>\n",
       "<polygon fill=\"#eda673\" stroke=\"black\" points=\"844.5,-261 695.5,-261 695.5,-193 844.5,-193 844.5,-261\"/>\n",
       "<text text-anchor=\"middle\" x=\"770\" y=\"-245.8\" font-family=\"Helvetica,sans-Serif\" font-size=\"14.00\">RSI &lt;= 53.848</text>\n",
       "<text text-anchor=\"middle\" x=\"770\" y=\"-230.8\" font-family=\"Helvetica,sans-Serif\" font-size=\"14.00\">gini = 0.351</text>\n",
       "<text text-anchor=\"middle\" x=\"770\" y=\"-215.8\" font-family=\"Helvetica,sans-Serif\" font-size=\"14.00\">samples = 749</text>\n",
       "<text text-anchor=\"middle\" x=\"770\" y=\"-200.8\" font-family=\"Helvetica,sans-Serif\" font-size=\"14.00\">value = [579, 170]</text>\n",
       "</g>\n",
       "<!-- 0&#45;&gt;8 -->\n",
       "<g id=\"edge8\" class=\"edge\">\n",
       "<title>0&#45;&gt;8</title>\n",
       "<path fill=\"none\" stroke=\"black\" d=\"M661.95,-296.88C677.11,-287.21 693.82,-276.56 709.47,-266.59\"/>\n",
       "<polygon fill=\"black\" stroke=\"black\" points=\"711.49,-269.45 718.04,-261.12 707.73,-263.55 711.49,-269.45\"/>\n",
       "<text text-anchor=\"middle\" x=\"712.64\" y=\"-281.83\" font-family=\"Helvetica,sans-Serif\" font-size=\"14.00\">False</text>\n",
       "</g>\n",
       "<!-- 2 -->\n",
       "<g id=\"node3\" class=\"node\">\n",
       "<title>2</title>\n",
       "<polygon fill=\"#61b1ea\" stroke=\"black\" points=\"280,-157 140,-157 140,-89 280,-89 280,-157\"/>\n",
       "<text text-anchor=\"middle\" x=\"210\" y=\"-141.8\" font-family=\"Helvetica,sans-Serif\" font-size=\"14.00\">RSI &lt;= 44.687</text>\n",
       "<text text-anchor=\"middle\" x=\"210\" y=\"-126.8\" font-family=\"Helvetica,sans-Serif\" font-size=\"14.00\">gini = 0.278</text>\n",
       "<text text-anchor=\"middle\" x=\"210\" y=\"-111.8\" font-family=\"Helvetica,sans-Serif\" font-size=\"14.00\">samples = 413</text>\n",
       "<text text-anchor=\"middle\" x=\"210\" y=\"-96.8\" font-family=\"Helvetica,sans-Serif\" font-size=\"14.00\">value = [69, 344]</text>\n",
       "</g>\n",
       "<!-- 1&#45;&gt;2 -->\n",
       "<g id=\"edge2\" class=\"edge\">\n",
       "<title>1&#45;&gt;2</title>\n",
       "<path fill=\"none\" stroke=\"black\" d=\"M375.38,-194.29C348.06,-182.67 317.05,-169.5 289.34,-157.72\"/>\n",
       "<polygon fill=\"black\" stroke=\"black\" points=\"290.64,-154.47 280.07,-153.78 287.9,-160.91 290.64,-154.47\"/>\n",
       "</g>\n",
       "<!-- 5 -->\n",
       "<g id=\"node6\" class=\"node\">\n",
       "<title>5</title>\n",
       "<polygon fill=\"#d0e8f9\" stroke=\"black\" points=\"524.5,-157 375.5,-157 375.5,-89 524.5,-89 524.5,-157\"/>\n",
       "<text text-anchor=\"middle\" x=\"450\" y=\"-141.8\" font-family=\"Helvetica,sans-Serif\" font-size=\"14.00\">RSI &lt;= 48.175</text>\n",
       "<text text-anchor=\"middle\" x=\"450\" y=\"-126.8\" font-family=\"Helvetica,sans-Serif\" font-size=\"14.00\">gini = 0.491</text>\n",
       "<text text-anchor=\"middle\" x=\"450\" y=\"-111.8\" font-family=\"Helvetica,sans-Serif\" font-size=\"14.00\">samples = 618</text>\n",
       "<text text-anchor=\"middle\" x=\"450\" y=\"-96.8\" font-family=\"Helvetica,sans-Serif\" font-size=\"14.00\">value = [267, 351]</text>\n",
       "</g>\n",
       "<!-- 1&#45;&gt;5 -->\n",
       "<g id=\"edge5\" class=\"edge\">\n",
       "<title>1&#45;&gt;5</title>\n",
       "<path fill=\"none\" stroke=\"black\" d=\"M450,-192.88C450,-184.78 450,-175.98 450,-167.47\"/>\n",
       "<polygon fill=\"black\" stroke=\"black\" points=\"453.5,-167.3 450,-157.3 446.5,-167.3 453.5,-167.3\"/>\n",
       "</g>\n",
       "<!-- 3 -->\n",
       "<g id=\"node4\" class=\"node\">\n",
       "<title>3</title>\n",
       "<polygon fill=\"#f0b78e\" stroke=\"black\" points=\"122,-53 0,-53 0,0 122,0 122,-53\"/>\n",
       "<text text-anchor=\"middle\" x=\"61\" y=\"-37.8\" font-family=\"Helvetica,sans-Serif\" font-size=\"14.00\">gini = 0.42</text>\n",
       "<text text-anchor=\"middle\" x=\"61\" y=\"-22.8\" font-family=\"Helvetica,sans-Serif\" font-size=\"14.00\">samples = 20</text>\n",
       "<text text-anchor=\"middle\" x=\"61\" y=\"-7.8\" font-family=\"Helvetica,sans-Serif\" font-size=\"14.00\">value = [14, 6]</text>\n",
       "</g>\n",
       "<!-- 2&#45;&gt;3 -->\n",
       "<g id=\"edge3\" class=\"edge\">\n",
       "<title>2&#45;&gt;3</title>\n",
       "<path fill=\"none\" stroke=\"black\" d=\"M157.89,-88.95C142.45,-79.16 125.61,-68.48 110.35,-58.8\"/>\n",
       "<polygon fill=\"black\" stroke=\"black\" points=\"111.9,-55.64 101.58,-53.24 108.15,-61.55 111.9,-55.64\"/>\n",
       "</g>\n",
       "<!-- 4 -->\n",
       "<g id=\"node5\" class=\"node\">\n",
       "<title>4</title>\n",
       "<polygon fill=\"#59ade9\" stroke=\"black\" points=\"280,-53 140,-53 140,0 280,0 280,-53\"/>\n",
       "<text text-anchor=\"middle\" x=\"210\" y=\"-37.8\" font-family=\"Helvetica,sans-Serif\" font-size=\"14.00\">gini = 0.241</text>\n",
       "<text text-anchor=\"middle\" x=\"210\" y=\"-22.8\" font-family=\"Helvetica,sans-Serif\" font-size=\"14.00\">samples = 393</text>\n",
       "<text text-anchor=\"middle\" x=\"210\" y=\"-7.8\" font-family=\"Helvetica,sans-Serif\" font-size=\"14.00\">value = [55, 338]</text>\n",
       "</g>\n",
       "<!-- 2&#45;&gt;4 -->\n",
       "<g id=\"edge4\" class=\"edge\">\n",
       "<title>2&#45;&gt;4</title>\n",
       "<path fill=\"none\" stroke=\"black\" d=\"M210,-88.95C210,-80.72 210,-71.85 210,-63.48\"/>\n",
       "<polygon fill=\"black\" stroke=\"black\" points=\"213.5,-63.24 210,-53.24 206.5,-63.24 213.5,-63.24\"/>\n",
       "</g>\n",
       "<!-- 6 -->\n",
       "<g id=\"node7\" class=\"node\">\n",
       "<title>6</title>\n",
       "<polygon fill=\"#a4d2f3\" stroke=\"black\" points=\"438,-53 298,-53 298,0 438,0 438,-53\"/>\n",
       "<text text-anchor=\"middle\" x=\"368\" y=\"-37.8\" font-family=\"Helvetica,sans-Serif\" font-size=\"14.00\">gini = 0.456</text>\n",
       "<text text-anchor=\"middle\" x=\"368\" y=\"-22.8\" font-family=\"Helvetica,sans-Serif\" font-size=\"14.00\">samples = 282</text>\n",
       "<text text-anchor=\"middle\" x=\"368\" y=\"-7.8\" font-family=\"Helvetica,sans-Serif\" font-size=\"14.00\">value = [99, 183]</text>\n",
       "</g>\n",
       "<!-- 5&#45;&gt;6 -->\n",
       "<g id=\"edge6\" class=\"edge\">\n",
       "<title>5&#45;&gt;6</title>\n",
       "<path fill=\"none\" stroke=\"black\" d=\"M421.32,-88.95C413.46,-79.89 404.94,-70.07 397.06,-60.99\"/>\n",
       "<polygon fill=\"black\" stroke=\"black\" points=\"399.53,-58.5 390.33,-53.24 394.24,-63.08 399.53,-58.5\"/>\n",
       "</g>\n",
       "<!-- 7 -->\n",
       "<g id=\"node8\" class=\"node\">\n",
       "<title>7</title>\n",
       "<polygon fill=\"#ffffff\" stroke=\"black\" points=\"605.5,-53 456.5,-53 456.5,0 605.5,0 605.5,-53\"/>\n",
       "<text text-anchor=\"middle\" x=\"531\" y=\"-37.8\" font-family=\"Helvetica,sans-Serif\" font-size=\"14.00\">gini = 0.5</text>\n",
       "<text text-anchor=\"middle\" x=\"531\" y=\"-22.8\" font-family=\"Helvetica,sans-Serif\" font-size=\"14.00\">samples = 336</text>\n",
       "<text text-anchor=\"middle\" x=\"531\" y=\"-7.8\" font-family=\"Helvetica,sans-Serif\" font-size=\"14.00\">value = [168, 168]</text>\n",
       "</g>\n",
       "<!-- 5&#45;&gt;7 -->\n",
       "<g id=\"edge7\" class=\"edge\">\n",
       "<title>5&#45;&gt;7</title>\n",
       "<path fill=\"none\" stroke=\"black\" d=\"M478.33,-88.95C486.09,-79.89 494.51,-70.07 502.3,-60.99\"/>\n",
       "<polygon fill=\"black\" stroke=\"black\" points=\"505.09,-63.11 508.94,-53.24 499.77,-58.55 505.09,-63.11\"/>\n",
       "</g>\n",
       "<!-- 9 -->\n",
       "<g id=\"node10\" class=\"node\">\n",
       "<title>9</title>\n",
       "<polygon fill=\"#f0b78f\" stroke=\"black\" points=\"844.5,-157 695.5,-157 695.5,-89 844.5,-89 844.5,-157\"/>\n",
       "<text text-anchor=\"middle\" x=\"770\" y=\"-141.8\" font-family=\"Helvetica,sans-Serif\" font-size=\"14.00\">RSI &lt;= 50.898</text>\n",
       "<text text-anchor=\"middle\" x=\"770\" y=\"-126.8\" font-family=\"Helvetica,sans-Serif\" font-size=\"14.00\">gini = 0.421</text>\n",
       "<text text-anchor=\"middle\" x=\"770\" y=\"-111.8\" font-family=\"Helvetica,sans-Serif\" font-size=\"14.00\">samples = 497</text>\n",
       "<text text-anchor=\"middle\" x=\"770\" y=\"-96.8\" font-family=\"Helvetica,sans-Serif\" font-size=\"14.00\">value = [347, 150]</text>\n",
       "</g>\n",
       "<!-- 8&#45;&gt;9 -->\n",
       "<g id=\"edge9\" class=\"edge\">\n",
       "<title>8&#45;&gt;9</title>\n",
       "<path fill=\"none\" stroke=\"black\" d=\"M770,-192.88C770,-184.78 770,-175.98 770,-167.47\"/>\n",
       "<polygon fill=\"black\" stroke=\"black\" points=\"773.5,-167.3 770,-157.3 766.5,-167.3 773.5,-167.3\"/>\n",
       "</g>\n",
       "<!-- 12 -->\n",
       "<g id=\"node13\" class=\"node\">\n",
       "<title>12</title>\n",
       "<polygon fill=\"#e78c4a\" stroke=\"black\" points=\"1080,-157 940,-157 940,-89 1080,-89 1080,-157\"/>\n",
       "<text text-anchor=\"middle\" x=\"1010\" y=\"-141.8\" font-family=\"Helvetica,sans-Serif\" font-size=\"14.00\">ADX &lt;= 45.2</text>\n",
       "<text text-anchor=\"middle\" x=\"1010\" y=\"-126.8\" font-family=\"Helvetica,sans-Serif\" font-size=\"14.00\">gini = 0.146</text>\n",
       "<text text-anchor=\"middle\" x=\"1010\" y=\"-111.8\" font-family=\"Helvetica,sans-Serif\" font-size=\"14.00\">samples = 252</text>\n",
       "<text text-anchor=\"middle\" x=\"1010\" y=\"-96.8\" font-family=\"Helvetica,sans-Serif\" font-size=\"14.00\">value = [232, 20]</text>\n",
       "</g>\n",
       "<!-- 8&#45;&gt;12 -->\n",
       "<g id=\"edge12\" class=\"edge\">\n",
       "<title>8&#45;&gt;12</title>\n",
       "<path fill=\"none\" stroke=\"black\" d=\"M844.62,-194.29C871.94,-182.67 902.95,-169.5 930.66,-157.72\"/>\n",
       "<polygon fill=\"black\" stroke=\"black\" points=\"932.1,-160.91 939.93,-153.78 929.36,-154.47 932.1,-160.91\"/>\n",
       "</g>\n",
       "<!-- 10 -->\n",
       "<g id=\"node11\" class=\"node\">\n",
       "<title>10</title>\n",
       "<polygon fill=\"#f4c8a8\" stroke=\"black\" points=\"764,-53 624,-53 624,0 764,0 764,-53\"/>\n",
       "<text text-anchor=\"middle\" x=\"694\" y=\"-37.8\" font-family=\"Helvetica,sans-Serif\" font-size=\"14.00\">gini = 0.461</text>\n",
       "<text text-anchor=\"middle\" x=\"694\" y=\"-22.8\" font-family=\"Helvetica,sans-Serif\" font-size=\"14.00\">samples = 236</text>\n",
       "<text text-anchor=\"middle\" x=\"694\" y=\"-7.8\" font-family=\"Helvetica,sans-Serif\" font-size=\"14.00\">value = [151, 85]</text>\n",
       "</g>\n",
       "<!-- 9&#45;&gt;10 -->\n",
       "<g id=\"edge10\" class=\"edge\">\n",
       "<title>9&#45;&gt;10</title>\n",
       "<path fill=\"none\" stroke=\"black\" d=\"M743.42,-88.95C736.21,-79.98 728.39,-70.27 721.15,-61.26\"/>\n",
       "<polygon fill=\"black\" stroke=\"black\" points=\"723.69,-58.84 714.7,-53.24 718.24,-63.22 723.69,-58.84\"/>\n",
       "</g>\n",
       "<!-- 11 -->\n",
       "<g id=\"node12\" class=\"node\">\n",
       "<title>11</title>\n",
       "<polygon fill=\"#eeab7b\" stroke=\"black\" points=\"922,-53 782,-53 782,0 922,0 922,-53\"/>\n",
       "<text text-anchor=\"middle\" x=\"852\" y=\"-37.8\" font-family=\"Helvetica,sans-Serif\" font-size=\"14.00\">gini = 0.374</text>\n",
       "<text text-anchor=\"middle\" x=\"852\" y=\"-22.8\" font-family=\"Helvetica,sans-Serif\" font-size=\"14.00\">samples = 261</text>\n",
       "<text text-anchor=\"middle\" x=\"852\" y=\"-7.8\" font-family=\"Helvetica,sans-Serif\" font-size=\"14.00\">value = [196, 65]</text>\n",
       "</g>\n",
       "<!-- 9&#45;&gt;11 -->\n",
       "<g id=\"edge11\" class=\"edge\">\n",
       "<title>9&#45;&gt;11</title>\n",
       "<path fill=\"none\" stroke=\"black\" d=\"M798.68,-88.95C806.54,-79.89 815.06,-70.07 822.94,-60.99\"/>\n",
       "<polygon fill=\"black\" stroke=\"black\" points=\"825.76,-63.08 829.67,-53.24 820.47,-58.5 825.76,-63.08\"/>\n",
       "</g>\n",
       "<!-- 13 -->\n",
       "<g id=\"node14\" class=\"node\">\n",
       "<title>13</title>\n",
       "<polygon fill=\"#e78946\" stroke=\"black\" points=\"1080,-53 940,-53 940,0 1080,0 1080,-53\"/>\n",
       "<text text-anchor=\"middle\" x=\"1010\" y=\"-37.8\" font-family=\"Helvetica,sans-Serif\" font-size=\"14.00\">gini = 0.113</text>\n",
       "<text text-anchor=\"middle\" x=\"1010\" y=\"-22.8\" font-family=\"Helvetica,sans-Serif\" font-size=\"14.00\">samples = 217</text>\n",
       "<text text-anchor=\"middle\" x=\"1010\" y=\"-7.8\" font-family=\"Helvetica,sans-Serif\" font-size=\"14.00\">value = [204, 13]</text>\n",
       "</g>\n",
       "<!-- 12&#45;&gt;13 -->\n",
       "<g id=\"edge13\" class=\"edge\">\n",
       "<title>12&#45;&gt;13</title>\n",
       "<path fill=\"none\" stroke=\"black\" d=\"M1010,-88.95C1010,-80.72 1010,-71.85 1010,-63.48\"/>\n",
       "<polygon fill=\"black\" stroke=\"black\" points=\"1013.5,-63.24 1010,-53.24 1006.5,-63.24 1013.5,-63.24\"/>\n",
       "</g>\n",
       "<!-- 14 -->\n",
       "<g id=\"node15\" class=\"node\">\n",
       "<title>14</title>\n",
       "<polygon fill=\"#eca06a\" stroke=\"black\" points=\"1220,-53 1098,-53 1098,0 1220,0 1220,-53\"/>\n",
       "<text text-anchor=\"middle\" x=\"1159\" y=\"-37.8\" font-family=\"Helvetica,sans-Serif\" font-size=\"14.00\">gini = 0.32</text>\n",
       "<text text-anchor=\"middle\" x=\"1159\" y=\"-22.8\" font-family=\"Helvetica,sans-Serif\" font-size=\"14.00\">samples = 35</text>\n",
       "<text text-anchor=\"middle\" x=\"1159\" y=\"-7.8\" font-family=\"Helvetica,sans-Serif\" font-size=\"14.00\">value = [28, 7]</text>\n",
       "</g>\n",
       "<!-- 12&#45;&gt;14 -->\n",
       "<g id=\"edge14\" class=\"edge\">\n",
       "<title>12&#45;&gt;14</title>\n",
       "<path fill=\"none\" stroke=\"black\" d=\"M1062.11,-88.95C1077.55,-79.16 1094.39,-68.48 1109.65,-58.8\"/>\n",
       "<polygon fill=\"black\" stroke=\"black\" points=\"1111.85,-61.55 1118.42,-53.24 1108.1,-55.64 1111.85,-61.55\"/>\n",
       "</g>\n",
       "</g>\n",
       "</svg>\n"
      ],
      "text/plain": [
       "<graphviz.files.Source at 0x7fceeb2b6e50>"
      ]
     },
     "execution_count": 17,
     "metadata": {},
     "output_type": "execute_result"
    }
   ],
   "source": [
    "from sklearn import tree\n",
    "import graphviz\n",
    "dot_data = tree.export_graphviz(clf, out_file=None,filled=True,feature_names=predictors_list)\n",
    "graphviz.Source(dot_data)"
   ]
  },
  {
   "cell_type": "markdown",
   "id": "e4c08ca9",
   "metadata": {
    "papermill": {
     "duration": 0.012482,
     "end_time": "2023-02-22T13:15:03.332470",
     "exception": false,
     "start_time": "2023-02-22T13:15:03.319988",
     "status": "completed"
    },
    "tags": []
   },
   "source": [
    "Remember: \"*The Gini Index has a minimum (highest level of purity) of 0. It has a maximum value of .5. If Gini Index is .5, it indicates a random assignment of classes.*\"\n",
    "\n",
    "> We can observe a pair of pure nodes that allows us to deduce a possible trading rules. \n",
    "\n",
    "*Now let’s make predictions with data sets reserved for testing, this is the part that will let us know if the algorithm is reliable with unknown data in training.*"
   ]
  },
  {
   "cell_type": "code",
   "execution_count": 18,
   "id": "a2f1d8e9",
   "metadata": {
    "execution": {
     "iopub.execute_input": "2023-02-22T13:15:03.359122Z",
     "iopub.status.busy": "2023-02-22T13:15:03.358716Z",
     "iopub.status.idle": "2023-02-22T13:15:03.367431Z",
     "shell.execute_reply": "2023-02-22T13:15:03.365903Z"
    },
    "papermill": {
     "duration": 0.025345,
     "end_time": "2023-02-22T13:15:03.370181",
     "exception": false,
     "start_time": "2023-02-22T13:15:03.344836",
     "status": "completed"
    },
    "tags": []
   },
   "outputs": [],
   "source": [
    "y_cls_pred = clf.predict(X_cls_test)"
   ]
  },
  {
   "cell_type": "markdown",
   "id": "13ee1785",
   "metadata": {
    "papermill": {
     "duration": 0.012502,
     "end_time": "2023-02-22T13:15:03.395653",
     "exception": false,
     "start_time": "2023-02-22T13:15:03.383151",
     "status": "completed"
    },
    "tags": []
   },
   "source": [
    "*Finally, we can only evaluate the performance of the algorithm on unknown data by comparing it with the result obtained in the training process. To do this we will use the classification_report function of the sklearn.metrics library\n",
    "\n",
    "This will generate a text report showing the main calssification metrics, the paramters are:\n",
    "- Precision: Indicate the quality of our predictions.\n",
    "- Recall: Indicate the quality of our predictions.\n",
    "- F1-score: Shows the harmonic mean of precision and recall.\n",
    "- Support: Used as weights to compute the average values of precision, recall and F-1.\n",
    "\n",
    "***Anything above 0.5 is usually considered a good number.***"
   ]
  },
  {
   "cell_type": "code",
   "execution_count": 19,
   "id": "a1fc2519",
   "metadata": {
    "execution": {
     "iopub.execute_input": "2023-02-22T13:15:03.423189Z",
     "iopub.status.busy": "2023-02-22T13:15:03.422768Z",
     "iopub.status.idle": "2023-02-22T13:15:03.438270Z",
     "shell.execute_reply": "2023-02-22T13:15:03.436312Z"
    },
    "papermill": {
     "duration": 0.032334,
     "end_time": "2023-02-22T13:15:03.440941",
     "exception": false,
     "start_time": "2023-02-22T13:15:03.408607",
     "status": "completed"
    },
    "tags": []
   },
   "outputs": [
    {
     "name": "stdout",
     "output_type": "stream",
     "text": [
      "              precision    recall  f1-score   support\n",
      "\n",
      "           0       0.67      0.82      0.74       393\n",
      "           1       0.75      0.57      0.65       371\n",
      "\n",
      "    accuracy                           0.70       764\n",
      "   macro avg       0.71      0.70      0.69       764\n",
      "weighted avg       0.71      0.70      0.69       764\n",
      "\n"
     ]
    }
   ],
   "source": [
    "from sklearn.metrics import classification_report\n",
    "report = classification_report(y_cls_test, y_cls_pred)\n",
    "print(report)"
   ]
  },
  {
   "cell_type": "markdown",
   "id": "412d2388",
   "metadata": {
    "papermill": {
     "duration": 0.01223,
     "end_time": "2023-02-22T13:15:03.465905",
     "exception": false,
     "start_time": "2023-02-22T13:15:03.453675",
     "status": "completed"
    },
    "tags": []
   },
   "source": [
    "Check if there is any infinite value in the dataset."
   ]
  },
  {
   "cell_type": "code",
   "execution_count": 20,
   "id": "d89ff8cc",
   "metadata": {
    "execution": {
     "iopub.execute_input": "2023-02-22T13:15:03.493675Z",
     "iopub.status.busy": "2023-02-22T13:15:03.493244Z",
     "iopub.status.idle": "2023-02-22T13:15:03.501194Z",
     "shell.execute_reply": "2023-02-22T13:15:03.499717Z"
    },
    "papermill": {
     "duration": 0.024571,
     "end_time": "2023-02-22T13:15:03.503864",
     "exception": false,
     "start_time": "2023-02-22T13:15:03.479293",
     "status": "completed"
    },
    "tags": []
   },
   "outputs": [
    {
     "name": "stdout",
     "output_type": "stream",
     "text": [
      "! INFINITE !\n"
     ]
    }
   ],
   "source": [
    "if np.all(np.isfinite(X_rgs_train)) or np.all(np.isfinite(y_rgs_train)):\n",
    "    print(\"! INFINITE !\")"
   ]
  },
  {
   "cell_type": "markdown",
   "id": "0b0fb33e",
   "metadata": {
    "papermill": {
     "duration": 0.012716,
     "end_time": "2023-02-22T13:15:03.530801",
     "exception": false,
     "start_time": "2023-02-22T13:15:03.518085",
     "status": "completed"
    },
    "tags": []
   },
   "source": [
    "Clean the NaN from the dataset."
   ]
  },
  {
   "cell_type": "code",
   "execution_count": 21,
   "id": "ed4a42ce",
   "metadata": {
    "execution": {
     "iopub.execute_input": "2023-02-22T13:15:03.558901Z",
     "iopub.status.busy": "2023-02-22T13:15:03.558452Z",
     "iopub.status.idle": "2023-02-22T13:15:03.573599Z",
     "shell.execute_reply": "2023-02-22T13:15:03.572310Z"
    },
    "papermill": {
     "duration": 0.031957,
     "end_time": "2023-02-22T13:15:03.575985",
     "exception": false,
     "start_time": "2023-02-22T13:15:03.544028",
     "status": "completed"
    },
    "tags": []
   },
   "outputs": [],
   "source": [
    "from sklearn.impute import SimpleImputer\n",
    "my_imputer = SimpleImputer()\n",
    "X_rgs_train_with_imputed_values = my_imputer.fit_transform(X_rgs_train)\n",
    "X_rgs_train1=np.array(X_rgs_train)"
   ]
  },
  {
   "cell_type": "code",
   "execution_count": 22,
   "id": "874753a4",
   "metadata": {
    "execution": {
     "iopub.execute_input": "2023-02-22T13:15:03.604309Z",
     "iopub.status.busy": "2023-02-22T13:15:03.603842Z",
     "iopub.status.idle": "2023-02-22T13:15:03.613594Z",
     "shell.execute_reply": "2023-02-22T13:15:03.612665Z"
    },
    "papermill": {
     "duration": 0.026528,
     "end_time": "2023-02-22T13:15:03.615469",
     "exception": false,
     "start_time": "2023-02-22T13:15:03.588941",
     "status": "completed"
    },
    "tags": []
   },
   "outputs": [
    {
     "data": {
      "text/plain": [
       "False"
      ]
     },
     "execution_count": 22,
     "metadata": {},
     "output_type": "execute_result"
    }
   ],
   "source": [
    "X_rgs_train.head()\n",
    "X_rgs_train.isin([np.inf, -np.inf]).values.any()"
   ]
  },
  {
   "cell_type": "code",
   "execution_count": 23,
   "id": "95fd096e",
   "metadata": {
    "execution": {
     "iopub.execute_input": "2023-02-22T13:15:03.643579Z",
     "iopub.status.busy": "2023-02-22T13:15:03.643168Z",
     "iopub.status.idle": "2023-02-22T13:15:03.647417Z",
     "shell.execute_reply": "2023-02-22T13:15:03.646520Z"
    },
    "papermill": {
     "duration": 0.020901,
     "end_time": "2023-02-22T13:15:03.649215",
     "exception": false,
     "start_time": "2023-02-22T13:15:03.628314",
     "status": "completed"
    },
    "tags": []
   },
   "outputs": [],
   "source": [
    "#import sys\n",
    "#\n",
    "#X_rgs_train\n",
    "#b=X_rgs_train1>sys.float_info.max\n",
    "#for i in range(a.shape[0]):\n",
    "#    for j in range(a.shape[1]):\n",
    "#        if b[i,j]==True:\n",
    "#            print(\"NaN at: \"+str(i)+\", \"+str(j))"
   ]
  },
  {
   "cell_type": "markdown",
   "id": "71c3e793",
   "metadata": {
    "papermill": {
     "duration": 0.01251,
     "end_time": "2023-02-22T13:15:03.674718",
     "exception": false,
     "start_time": "2023-02-22T13:15:03.662208",
     "status": "completed"
    },
    "tags": []
   },
   "source": [
    "> Now let’s create the regression decision tree using the DecisionTreeRegressor function from the sklearn.tree library.\n",
    ">\n",
    "> Basically refer to the parameters with which the algorithm must build the tree, because it follows a recursive approach to build the tree, we must set some limits to create it.\n",
    ">\n",
    "> - ***criterion:*** For the classification decision trees we can choose Mean Absolute Error (MAE) or Mean Square Error (MSE), these criteria are related with the loss function to evaluate the performance of a learning machine algorithm and are the most used for the regression algorithms, although it is beyond the scope of this post, basically serves us to adjust the accuracy of the model, also the algorithm to build the tree, stops evaluating the branches in which no improvement is obtained according to the loss function. Here we left the default parameter to Mean Square Error (MSE).\n",
    "> - ***max_depth:*** Maximum number of levels the tree will have, here we left the default parameter to none.\n",
    "> - ***min_samples_leaf:*** This parameter is optimizable and indicates the minimum number of leaves that we want the tree to have.\n"
   ]
  },
  {
   "cell_type": "code",
   "execution_count": 24,
   "id": "7d795229",
   "metadata": {
    "execution": {
     "iopub.execute_input": "2023-02-22T13:15:03.701900Z",
     "iopub.status.busy": "2023-02-22T13:15:03.701400Z",
     "iopub.status.idle": "2023-02-22T13:15:03.709208Z",
     "shell.execute_reply": "2023-02-22T13:15:03.708056Z"
    },
    "papermill": {
     "duration": 0.023513,
     "end_time": "2023-02-22T13:15:03.711068",
     "exception": false,
     "start_time": "2023-02-22T13:15:03.687555",
     "status": "completed"
    },
    "tags": []
   },
   "outputs": [
    {
     "data": {
      "text/plain": [
       "(1780, 6)"
      ]
     },
     "execution_count": 24,
     "metadata": {},
     "output_type": "execute_result"
    }
   ],
   "source": [
    "from sklearn.tree import DecisionTreeRegressor\n",
    "dtr = DecisionTreeRegressor(min_samples_leaf = 200)\n",
    "X_rgs_train.shape"
   ]
  },
  {
   "cell_type": "code",
   "execution_count": 25,
   "id": "e668eff4",
   "metadata": {
    "execution": {
     "iopub.execute_input": "2023-02-22T13:15:03.739519Z",
     "iopub.status.busy": "2023-02-22T13:15:03.739072Z",
     "iopub.status.idle": "2023-02-22T13:15:03.747720Z",
     "shell.execute_reply": "2023-02-22T13:15:03.747014Z"
    },
    "papermill": {
     "duration": 0.0252,
     "end_time": "2023-02-22T13:15:03.749373",
     "exception": false,
     "start_time": "2023-02-22T13:15:03.724173",
     "status": "completed"
    },
    "tags": []
   },
   "outputs": [
    {
     "data": {
      "text/plain": [
       "False"
      ]
     },
     "execution_count": 25,
     "metadata": {},
     "output_type": "execute_result"
    }
   ],
   "source": [
    "import sys\n",
    "np.all(X_rgs_train>sys.float_info.max)"
   ]
  },
  {
   "cell_type": "markdown",
   "id": "c566d4e2",
   "metadata": {
    "papermill": {
     "duration": 0.013366,
     "end_time": "2023-02-22T13:15:03.775977",
     "exception": false,
     "start_time": "2023-02-22T13:15:03.762611",
     "status": "completed"
    },
    "tags": []
   },
   "source": [
    "Remove the too long values by cutting the last characters."
   ]
  },
  {
   "cell_type": "code",
   "execution_count": 26,
   "id": "60a3d39c",
   "metadata": {
    "execution": {
     "iopub.execute_input": "2023-02-22T13:15:03.805861Z",
     "iopub.status.busy": "2023-02-22T13:15:03.805455Z",
     "iopub.status.idle": "2023-02-22T13:15:04.493765Z",
     "shell.execute_reply": "2023-02-22T13:15:04.492682Z"
    },
    "papermill": {
     "duration": 0.706439,
     "end_time": "2023-02-22T13:15:04.496464",
     "exception": false,
     "start_time": "2023-02-22T13:15:03.790025",
     "status": "completed"
    },
    "tags": []
   },
   "outputs": [],
   "source": [
    "def limitcomma(value, limit=2):\n",
    "    v = str(value).split(\".\")\n",
    "    if len(v)>1:\n",
    "        return float(v[0]+\".\"+v[1][:limit])\n",
    "    else:\n",
    "        return float(\"0.0\")\n",
    "#X_rgs_train2=X_rgs_train\n",
    "y_rgs_train2=y_rgs_train\n",
    "for i in range(1780):\n",
    "    for j in range(6):\n",
    "        #X_rgs_train2.loc[i][j]=limitcomma(X_rgs_train.loc[i][j])\n",
    "        y_rgs_train2.loc[i]=limitcomma(y_rgs_train.loc[i])"
   ]
  },
  {
   "cell_type": "code",
   "execution_count": 27,
   "id": "5e2968d9",
   "metadata": {
    "execution": {
     "iopub.execute_input": "2023-02-22T13:15:04.525782Z",
     "iopub.status.busy": "2023-02-22T13:15:04.525326Z",
     "iopub.status.idle": "2023-02-22T13:15:04.530305Z",
     "shell.execute_reply": "2023-02-22T13:15:04.529651Z"
    },
    "papermill": {
     "duration": 0.022297,
     "end_time": "2023-02-22T13:15:04.532670",
     "exception": false,
     "start_time": "2023-02-22T13:15:04.510373",
     "status": "completed"
    },
    "tags": []
   },
   "outputs": [
    {
     "name": "stdout",
     "output_type": "stream",
     "text": [
      "(1780,)\n"
     ]
    }
   ],
   "source": [
    "#print(X_rgs_train2.shape)\n",
    "print(y_rgs_train2.shape)"
   ]
  },
  {
   "cell_type": "code",
   "execution_count": 28,
   "id": "140a46ff",
   "metadata": {
    "execution": {
     "iopub.execute_input": "2023-02-22T13:15:04.563288Z",
     "iopub.status.busy": "2023-02-22T13:15:04.561843Z",
     "iopub.status.idle": "2023-02-22T13:15:04.574545Z",
     "shell.execute_reply": "2023-02-22T13:15:04.573489Z"
    },
    "papermill": {
     "duration": 0.029801,
     "end_time": "2023-02-22T13:15:04.576717",
     "exception": false,
     "start_time": "2023-02-22T13:15:04.546916",
     "status": "completed"
    },
    "tags": []
   },
   "outputs": [
    {
     "data": {
      "text/plain": [
       "DecisionTreeRegressor(min_samples_leaf=200)"
      ]
     },
     "execution_count": 28,
     "metadata": {},
     "output_type": "execute_result"
    }
   ],
   "source": [
    "dtr.fit(X_rgs_train, y_rgs_train2)"
   ]
  },
  {
   "cell_type": "markdown",
   "id": "23f0b40e",
   "metadata": {
    "papermill": {
     "duration": 0.013537,
     "end_time": "2023-02-22T13:15:04.604490",
     "exception": false,
     "start_time": "2023-02-22T13:15:04.590953",
     "status": "completed"
    },
    "tags": []
   },
   "source": [
    "Let’s take a graphical look at the regression decision tree that the ML algorithm has automatically created for us."
   ]
  },
  {
   "cell_type": "code",
   "execution_count": 29,
   "id": "e49f9cc4",
   "metadata": {
    "execution": {
     "iopub.execute_input": "2023-02-22T13:15:04.634837Z",
     "iopub.status.busy": "2023-02-22T13:15:04.634376Z",
     "iopub.status.idle": "2023-02-22T13:15:04.671927Z",
     "shell.execute_reply": "2023-02-22T13:15:04.670732Z"
    },
    "papermill": {
     "duration": 0.056098,
     "end_time": "2023-02-22T13:15:04.674918",
     "exception": false,
     "start_time": "2023-02-22T13:15:04.618820",
     "status": "completed"
    },
    "tags": []
   },
   "outputs": [
    {
     "data": {
      "image/svg+xml": [
       "<?xml version=\"1.0\" encoding=\"UTF-8\" standalone=\"no\"?>\n",
       "<!DOCTYPE svg PUBLIC \"-//W3C//DTD SVG 1.1//EN\"\n",
       " \"http://www.w3.org/Graphics/SVG/1.1/DTD/svg11.dtd\">\n",
       "<!-- Generated by graphviz version 5.0.0 (20220707.2338)\n",
       " -->\n",
       "<!-- Title: Tree Pages: 1 -->\n",
       "<svg width=\"874pt\" height=\"477pt\"\n",
       " viewBox=\"0.00 0.00 874.00 477.00\" xmlns=\"http://www.w3.org/2000/svg\" xmlns:xlink=\"http://www.w3.org/1999/xlink\">\n",
       "<g id=\"graph0\" class=\"graph\" transform=\"scale(1 1) rotate(0) translate(4 473)\">\n",
       "<title>Tree</title>\n",
       "<polygon fill=\"white\" stroke=\"transparent\" points=\"-4,4 -4,-473 870,-473 870,4 -4,4\"/>\n",
       "<!-- 0 -->\n",
       "<g id=\"node1\" class=\"node\">\n",
       "<title>0</title>\n",
       "<polygon fill=\"#f9e4d4\" stroke=\"black\" points=\"387,-469 195,-469 195,-401 387,-401 387,-469\"/>\n",
       "<text text-anchor=\"middle\" x=\"291\" y=\"-453.8\" font-family=\"Helvetica,sans-Serif\" font-size=\"14.00\">RSI &lt;= 46.786</text>\n",
       "<text text-anchor=\"middle\" x=\"291\" y=\"-438.8\" font-family=\"Helvetica,sans-Serif\" font-size=\"14.00\">squared_error = 113.238</text>\n",
       "<text text-anchor=\"middle\" x=\"291\" y=\"-423.8\" font-family=\"Helvetica,sans-Serif\" font-size=\"14.00\">samples = 1780</text>\n",
       "<text text-anchor=\"middle\" x=\"291\" y=\"-408.8\" font-family=\"Helvetica,sans-Serif\" font-size=\"14.00\">value = 1.808</text>\n",
       "</g>\n",
       "<!-- 1 -->\n",
       "<g id=\"node2\" class=\"node\">\n",
       "<title>1</title>\n",
       "<polygon fill=\"#e58139\" stroke=\"black\" points=\"284,-357.5 92,-357.5 92,-304.5 284,-304.5 284,-357.5\"/>\n",
       "<text text-anchor=\"middle\" x=\"188\" y=\"-342.3\" font-family=\"Helvetica,sans-Serif\" font-size=\"14.00\">squared_error = 589.748</text>\n",
       "<text text-anchor=\"middle\" x=\"188\" y=\"-327.3\" font-family=\"Helvetica,sans-Serif\" font-size=\"14.00\">samples = 255</text>\n",
       "<text text-anchor=\"middle\" x=\"188\" y=\"-312.3\" font-family=\"Helvetica,sans-Serif\" font-size=\"14.00\">value = 10.075</text>\n",
       "</g>\n",
       "<!-- 0&#45;&gt;1 -->\n",
       "<g id=\"edge1\" class=\"edge\">\n",
       "<title>0&#45;&gt;1</title>\n",
       "<path fill=\"none\" stroke=\"black\" d=\"M257.56,-400.88C245.9,-389.34 232.82,-376.39 221.18,-364.86\"/>\n",
       "<polygon fill=\"black\" stroke=\"black\" points=\"223.34,-362.07 213.77,-357.52 218.41,-367.04 223.34,-362.07\"/>\n",
       "<text text-anchor=\"middle\" x=\"213.89\" y=\"-378.82\" font-family=\"Helvetica,sans-Serif\" font-size=\"14.00\">True</text>\n",
       "</g>\n",
       "<!-- 2 -->\n",
       "<g id=\"node3\" class=\"node\">\n",
       "<title>2</title>\n",
       "<polygon fill=\"#fdf4ee\" stroke=\"black\" points=\"485.5,-365 302.5,-365 302.5,-297 485.5,-297 485.5,-365\"/>\n",
       "<text text-anchor=\"middle\" x=\"394\" y=\"-349.8\" font-family=\"Helvetica,sans-Serif\" font-size=\"14.00\">RSI &lt;= 48.443</text>\n",
       "<text text-anchor=\"middle\" x=\"394\" y=\"-334.8\" font-family=\"Helvetica,sans-Serif\" font-size=\"14.00\">squared_error = 20.224</text>\n",
       "<text text-anchor=\"middle\" x=\"394\" y=\"-319.8\" font-family=\"Helvetica,sans-Serif\" font-size=\"14.00\">samples = 1525</text>\n",
       "<text text-anchor=\"middle\" x=\"394\" y=\"-304.8\" font-family=\"Helvetica,sans-Serif\" font-size=\"14.00\">value = 0.426</text>\n",
       "</g>\n",
       "<!-- 0&#45;&gt;2 -->\n",
       "<g id=\"edge2\" class=\"edge\">\n",
       "<title>0&#45;&gt;2</title>\n",
       "<path fill=\"none\" stroke=\"black\" d=\"M324.44,-400.88C333.62,-391.8 343.67,-381.85 353.2,-372.4\"/>\n",
       "<polygon fill=\"black\" stroke=\"black\" points=\"355.73,-374.82 360.37,-365.3 350.81,-369.85 355.73,-374.82\"/>\n",
       "<text text-anchor=\"middle\" x=\"360.25\" y=\"-386.6\" font-family=\"Helvetica,sans-Serif\" font-size=\"14.00\">False</text>\n",
       "</g>\n",
       "<!-- 3 -->\n",
       "<g id=\"node4\" class=\"node\">\n",
       "<title>3</title>\n",
       "<polygon fill=\"#fae5d7\" stroke=\"black\" points=\"386.5,-261 203.5,-261 203.5,-193 386.5,-193 386.5,-261\"/>\n",
       "<text text-anchor=\"middle\" x=\"295\" y=\"-245.8\" font-family=\"Helvetica,sans-Serif\" font-size=\"14.00\">RSI &lt;= 47.532</text>\n",
       "<text text-anchor=\"middle\" x=\"295\" y=\"-230.8\" font-family=\"Helvetica,sans-Serif\" font-size=\"14.00\">squared_error = 64.303</text>\n",
       "<text text-anchor=\"middle\" x=\"295\" y=\"-215.8\" font-family=\"Helvetica,sans-Serif\" font-size=\"14.00\">samples = 450</text>\n",
       "<text text-anchor=\"middle\" x=\"295\" y=\"-200.8\" font-family=\"Helvetica,sans-Serif\" font-size=\"14.00\">value = 1.665</text>\n",
       "</g>\n",
       "<!-- 2&#45;&gt;3 -->\n",
       "<g id=\"edge3\" class=\"edge\">\n",
       "<title>2&#45;&gt;3</title>\n",
       "<path fill=\"none\" stroke=\"black\" d=\"M361.86,-296.88C353.13,-287.89 343.57,-278.04 334.48,-268.68\"/>\n",
       "<polygon fill=\"black\" stroke=\"black\" points=\"336.8,-266.04 327.32,-261.3 331.77,-270.91 336.8,-266.04\"/>\n",
       "</g>\n",
       "<!-- 6 -->\n",
       "<g id=\"node7\" class=\"node\">\n",
       "<title>6</title>\n",
       "<polygon fill=\"#fefaf8\" stroke=\"black\" points=\"579,-261 405,-261 405,-193 579,-193 579,-261\"/>\n",
       "<text text-anchor=\"middle\" x=\"492\" y=\"-245.8\" font-family=\"Helvetica,sans-Serif\" font-size=\"14.00\">RSI &lt;= 49.755</text>\n",
       "<text text-anchor=\"middle\" x=\"492\" y=\"-230.8\" font-family=\"Helvetica,sans-Serif\" font-size=\"14.00\">squared_error = 0.861</text>\n",
       "<text text-anchor=\"middle\" x=\"492\" y=\"-215.8\" font-family=\"Helvetica,sans-Serif\" font-size=\"14.00\">samples = 1075</text>\n",
       "<text text-anchor=\"middle\" x=\"492\" y=\"-200.8\" font-family=\"Helvetica,sans-Serif\" font-size=\"14.00\">value = &#45;0.092</text>\n",
       "</g>\n",
       "<!-- 2&#45;&gt;6 -->\n",
       "<g id=\"edge6\" class=\"edge\">\n",
       "<title>2&#45;&gt;6</title>\n",
       "<path fill=\"none\" stroke=\"black\" d=\"M425.82,-296.88C434.46,-287.89 443.92,-278.04 452.92,-268.68\"/>\n",
       "<polygon fill=\"black\" stroke=\"black\" points=\"455.6,-270.94 460.01,-261.3 450.55,-266.09 455.6,-270.94\"/>\n",
       "</g>\n",
       "<!-- 4 -->\n",
       "<g id=\"node5\" class=\"node\">\n",
       "<title>4</title>\n",
       "<polygon fill=\"#f8dfcc\" stroke=\"black\" points=\"192,-149.5 0,-149.5 0,-96.5 192,-96.5 192,-149.5\"/>\n",
       "<text text-anchor=\"middle\" x=\"96\" y=\"-134.3\" font-family=\"Helvetica,sans-Serif\" font-size=\"14.00\">squared_error = 134.793</text>\n",
       "<text text-anchor=\"middle\" x=\"96\" y=\"-119.3\" font-family=\"Helvetica,sans-Serif\" font-size=\"14.00\">samples = 200</text>\n",
       "<text text-anchor=\"middle\" x=\"96\" y=\"-104.3\" font-family=\"Helvetica,sans-Serif\" font-size=\"14.00\">value = 2.208</text>\n",
       "</g>\n",
       "<!-- 3&#45;&gt;4 -->\n",
       "<g id=\"edge4\" class=\"edge\">\n",
       "<title>3&#45;&gt;4</title>\n",
       "<path fill=\"none\" stroke=\"black\" d=\"M230.39,-192.88C206.04,-180.4 178.49,-166.28 154.71,-154.09\"/>\n",
       "<polygon fill=\"black\" stroke=\"black\" points=\"156.28,-150.97 145.79,-149.52 153.09,-157.2 156.28,-150.97\"/>\n",
       "</g>\n",
       "<!-- 5 -->\n",
       "<g id=\"node6\" class=\"node\">\n",
       "<title>5</title>\n",
       "<polygon fill=\"#fbeadf\" stroke=\"black\" points=\"384,-149.5 210,-149.5 210,-96.5 384,-96.5 384,-149.5\"/>\n",
       "<text text-anchor=\"middle\" x=\"297\" y=\"-134.3\" font-family=\"Helvetica,sans-Serif\" font-size=\"14.00\">squared_error = 7.486</text>\n",
       "<text text-anchor=\"middle\" x=\"297\" y=\"-119.3\" font-family=\"Helvetica,sans-Serif\" font-size=\"14.00\">samples = 250</text>\n",
       "<text text-anchor=\"middle\" x=\"297\" y=\"-104.3\" font-family=\"Helvetica,sans-Serif\" font-size=\"14.00\">value = 1.23</text>\n",
       "</g>\n",
       "<!-- 3&#45;&gt;5 -->\n",
       "<g id=\"edge5\" class=\"edge\">\n",
       "<title>3&#45;&gt;5</title>\n",
       "<path fill=\"none\" stroke=\"black\" d=\"M295.65,-192.88C295.86,-182.22 296.09,-170.35 296.3,-159.52\"/>\n",
       "<polygon fill=\"black\" stroke=\"black\" points=\"299.8,-159.59 296.5,-149.52 292.8,-159.45 299.8,-159.59\"/>\n",
       "</g>\n",
       "<!-- 7 -->\n",
       "<g id=\"node8\" class=\"node\">\n",
       "<title>7</title>\n",
       "<polygon fill=\"#fdf4ee\" stroke=\"black\" points=\"578,-149.5 404,-149.5 404,-96.5 578,-96.5 578,-149.5\"/>\n",
       "<text text-anchor=\"middle\" x=\"491\" y=\"-134.3\" font-family=\"Helvetica,sans-Serif\" font-size=\"14.00\">squared_error = 1.335</text>\n",
       "<text text-anchor=\"middle\" x=\"491\" y=\"-119.3\" font-family=\"Helvetica,sans-Serif\" font-size=\"14.00\">samples = 327</text>\n",
       "<text text-anchor=\"middle\" x=\"491\" y=\"-104.3\" font-family=\"Helvetica,sans-Serif\" font-size=\"14.00\">value = 0.44</text>\n",
       "</g>\n",
       "<!-- 6&#45;&gt;7 -->\n",
       "<g id=\"edge7\" class=\"edge\">\n",
       "<title>6&#45;&gt;7</title>\n",
       "<path fill=\"none\" stroke=\"black\" d=\"M491.68,-192.88C491.57,-182.33 491.46,-170.6 491.35,-159.85\"/>\n",
       "<polygon fill=\"black\" stroke=\"black\" points=\"494.85,-159.49 491.25,-149.52 487.85,-159.55 494.85,-159.49\"/>\n",
       "</g>\n",
       "<!-- 8 -->\n",
       "<g id=\"node9\" class=\"node\">\n",
       "<title>8</title>\n",
       "<polygon fill=\"#fffdfc\" stroke=\"black\" points=\"770,-157 596,-157 596,-89 770,-89 770,-157\"/>\n",
       "<text text-anchor=\"middle\" x=\"683\" y=\"-141.8\" font-family=\"Helvetica,sans-Serif\" font-size=\"14.00\">RSI &lt;= 52.2</text>\n",
       "<text text-anchor=\"middle\" x=\"683\" y=\"-126.8\" font-family=\"Helvetica,sans-Serif\" font-size=\"14.00\">squared_error = 0.476</text>\n",
       "<text text-anchor=\"middle\" x=\"683\" y=\"-111.8\" font-family=\"Helvetica,sans-Serif\" font-size=\"14.00\">samples = 748</text>\n",
       "<text text-anchor=\"middle\" x=\"683\" y=\"-96.8\" font-family=\"Helvetica,sans-Serif\" font-size=\"14.00\">value = &#45;0.325</text>\n",
       "</g>\n",
       "<!-- 6&#45;&gt;8 -->\n",
       "<g id=\"edge8\" class=\"edge\">\n",
       "<title>6&#45;&gt;8</title>\n",
       "<path fill=\"none\" stroke=\"black\" d=\"M554.01,-192.88C572.54,-182.99 592.99,-172.07 612.04,-161.9\"/>\n",
       "<polygon fill=\"black\" stroke=\"black\" points=\"613.8,-164.92 620.97,-157.12 610.5,-158.75 613.8,-164.92\"/>\n",
       "</g>\n",
       "<!-- 9 -->\n",
       "<g id=\"node10\" class=\"node\">\n",
       "<title>9</title>\n",
       "<polygon fill=\"#fefbf8\" stroke=\"black\" points=\"674,-53 500,-53 500,0 674,0 674,-53\"/>\n",
       "<text text-anchor=\"middle\" x=\"587\" y=\"-37.8\" font-family=\"Helvetica,sans-Serif\" font-size=\"14.00\">squared_error = 0.665</text>\n",
       "<text text-anchor=\"middle\" x=\"587\" y=\"-22.8\" font-family=\"Helvetica,sans-Serif\" font-size=\"14.00\">samples = 351</text>\n",
       "<text text-anchor=\"middle\" x=\"587\" y=\"-7.8\" font-family=\"Helvetica,sans-Serif\" font-size=\"14.00\">value = &#45;0.138</text>\n",
       "</g>\n",
       "<!-- 8&#45;&gt;9 -->\n",
       "<g id=\"edge9\" class=\"edge\">\n",
       "<title>8&#45;&gt;9</title>\n",
       "<path fill=\"none\" stroke=\"black\" d=\"M649.42,-88.95C640.04,-79.71 629.84,-69.67 620.46,-60.44\"/>\n",
       "<polygon fill=\"black\" stroke=\"black\" points=\"622.73,-57.76 613.15,-53.24 617.82,-62.75 622.73,-57.76\"/>\n",
       "</g>\n",
       "<!-- 10 -->\n",
       "<g id=\"node11\" class=\"node\">\n",
       "<title>10</title>\n",
       "<polygon fill=\"#ffffff\" stroke=\"black\" points=\"866,-53 692,-53 692,0 866,0 866,-53\"/>\n",
       "<text text-anchor=\"middle\" x=\"779\" y=\"-37.8\" font-family=\"Helvetica,sans-Serif\" font-size=\"14.00\">squared_error = 0.251</text>\n",
       "<text text-anchor=\"middle\" x=\"779\" y=\"-22.8\" font-family=\"Helvetica,sans-Serif\" font-size=\"14.00\">samples = 397</text>\n",
       "<text text-anchor=\"middle\" x=\"779\" y=\"-7.8\" font-family=\"Helvetica,sans-Serif\" font-size=\"14.00\">value = &#45;0.49</text>\n",
       "</g>\n",
       "<!-- 8&#45;&gt;10 -->\n",
       "<g id=\"edge10\" class=\"edge\">\n",
       "<title>8&#45;&gt;10</title>\n",
       "<path fill=\"none\" stroke=\"black\" d=\"M716.58,-88.95C725.96,-79.71 736.16,-69.67 745.54,-60.44\"/>\n",
       "<polygon fill=\"black\" stroke=\"black\" points=\"748.18,-62.75 752.85,-53.24 743.27,-57.76 748.18,-62.75\"/>\n",
       "</g>\n",
       "</g>\n",
       "</svg>\n"
      ],
      "text/plain": [
       "<graphviz.files.Source at 0x7fceeacffa90>"
      ]
     },
     "execution_count": 29,
     "metadata": {},
     "output_type": "execute_result"
    }
   ],
   "source": [
    "from sklearn import tree\n",
    "import graphviz\n",
    "dot_data = tree.export_graphviz(dtr,\n",
    "                  out_file=None,\n",
    "                  filled=True,\n",
    "                  feature_names=predictors_list)\n",
    "graphviz.Source(dot_data)"
   ]
  },
  {
   "cell_type": "markdown",
   "id": "2a88b989",
   "metadata": {
    "papermill": {
     "duration": 0.013362,
     "end_time": "2023-02-22T13:15:04.702072",
     "exception": false,
     "start_time": "2023-02-22T13:15:04.688710",
     "status": "completed"
    },
    "tags": []
   },
   "source": [
    "> ## Conclusion\n",
    ">\n",
    "> It might look like we’ve found a crystal ball, but nothing could be further from the truth. Mastering these techniques requires a lot of study and an integral understanding of the mathematical techniques behind them.\n",
    ">\n",
    "> Apparently, trees are easy to create and extract some rules that promise to be useful, but the truth is that to create decision trees, they need to be parametrized and these parameters can and must be optimized.\n",
    ">\n",
    ">    Parallel ensemble methods or averaging methods: several models are created by one algorithm and the forecast is the average of the overall models:\n",
    "> - Bagging\n",
    "> - Random Subspace\n",
    "> - Random Forest\n",
    ">\n",
    "> Sequential ensemble methods or boosting methods: the algorithm creates sequential models refining on each new model to reduce the bias of the previous one:\n",
    "> - AdaBoosting\n",
    "> - Gradient Boosting"
   ]
  },
  {
   "cell_type": "markdown",
   "id": "9fb3a871",
   "metadata": {
    "papermill": {
     "duration": 0.01307,
     "end_time": "2023-02-22T13:15:04.729041",
     "exception": false,
     "start_time": "2023-02-22T13:15:04.715971",
     "status": "completed"
    },
    "tags": []
   },
   "source": [
    "*Disclaimer: All investments and trading in the stock market involve risk. Any decisions to place trades in the financial markets, including trading in stock or options or other financial instruments is a personal decision that should only be made after thorough research, including a personal risk and financial assessment and the engagement of professional assistance to the extent you believe necessary. The trading strategies or related information mentioned in this article is for informational purposes only*"
   ]
  }
 ],
 "metadata": {
  "kernelspec": {
   "display_name": "Python 3 (ipykernel)",
   "language": "python",
   "name": "python3"
  },
  "language_info": {
   "codemirror_mode": {
    "name": "ipython",
    "version": 3
   },
   "file_extension": ".py",
   "mimetype": "text/x-python",
   "name": "python",
   "nbconvert_exporter": "python",
   "pygments_lexer": "ipython3",
   "version": "3.11.3"
  },
  "papermill": {
   "default_parameters": {},
   "duration": 86.386481,
   "end_time": "2023-02-22T13:15:05.567151",
   "environment_variables": {},
   "exception": null,
   "input_path": "__notebook__.ipynb",
   "output_path": "__notebook__.ipynb",
   "parameters": {},
   "start_time": "2023-02-22T13:13:39.180670",
   "version": "2.3.4"
  }
 },
 "nbformat": 4,
 "nbformat_minor": 5
}
