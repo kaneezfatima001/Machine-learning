{
 "cells": [
  {
   "cell_type": "code",
   "execution_count": 1,
   "id": "c0e87c29",
   "metadata": {
    "_cell_guid": "b1076dfc-b9ad-4769-8c92-a6c4dae69d19",
    "_uuid": "8f2839f25d086af736a60e9eeb907d3b93b6e0e5",
    "execution": {
     "iopub.execute_input": "2021-12-30T16:55:15.309098Z",
     "iopub.status.busy": "2021-12-30T16:55:15.307239Z",
     "iopub.status.idle": "2021-12-30T16:55:16.700824Z",
     "shell.execute_reply": "2021-12-30T16:55:16.701349Z",
     "shell.execute_reply.started": "2021-12-24T09:22:10.206244Z"
    },
    "papermill": {
     "duration": 1.428511,
     "end_time": "2021-12-30T16:55:16.701668",
     "exception": false,
     "start_time": "2021-12-30T16:55:15.273157",
     "status": "completed"
    },
    "tags": []
   },
   "outputs": [],
   "source": [
    "import pandas as pd\n",
    "import numpy as np\n",
    "\n",
    "from sklearn.model_selection import(\n",
    "    cross_validate,\n",
    "    train_test_split\n",
    ")\n",
    "\n",
    "from sklearn.compose import ColumnTransformer, make_column_transformer\n",
    "from sklearn.dummy import DummyClassifier\n",
    "from sklearn.impute import SimpleImputer\n",
    "from sklearn.model_selection import cross_val_score, cross_validate, train_test_split\n",
    "from sklearn.neighbors import KNeighborsClassifier\n",
    "from sklearn.pipeline import Pipeline, make_pipeline\n",
    "from sklearn.preprocessing import OneHotEncoder, OrdinalEncoder, StandardScaler\n",
    "from sklearn.svm import SVC\n",
    "from sklearn.tree import DecisionTreeClassifier"
   ]
  },
  {
   "cell_type": "markdown",
   "id": "2996060e",
   "metadata": {
    "papermill": {
     "duration": 0.027854,
     "end_time": "2021-12-30T16:55:16.759185",
     "exception": false,
     "start_time": "2021-12-30T16:55:16.731331",
     "status": "completed"
    },
    "tags": []
   },
   "source": [
    "# 1. Reading the dataset"
   ]
  },
  {
   "cell_type": "code",
   "execution_count": 2,
   "id": "cd510277",
   "metadata": {
    "execution": {
     "iopub.execute_input": "2021-12-30T16:55:16.820520Z",
     "iopub.status.busy": "2021-12-30T16:55:16.819625Z",
     "iopub.status.idle": "2021-12-30T16:55:17.020685Z",
     "shell.execute_reply": "2021-12-30T16:55:17.020093Z",
     "shell.execute_reply.started": "2021-12-24T09:22:11.583346Z"
    },
    "papermill": {
     "duration": 0.233506,
     "end_time": "2021-12-30T16:55:17.020825",
     "exception": false,
     "start_time": "2021-12-30T16:55:16.787319",
     "status": "completed"
    },
    "tags": []
   },
   "outputs": [
    {
     "data": {
      "text/html": [
       "<div>\n",
       "<style scoped>\n",
       "    .dataframe tbody tr th:only-of-type {\n",
       "        vertical-align: middle;\n",
       "    }\n",
       "\n",
       "    .dataframe tbody tr th {\n",
       "        vertical-align: top;\n",
       "    }\n",
       "\n",
       "    .dataframe thead th {\n",
       "        text-align: right;\n",
       "    }\n",
       "</style>\n",
       "<table border=\"1\" class=\"dataframe\">\n",
       "  <thead>\n",
       "    <tr style=\"text-align: right;\">\n",
       "      <th></th>\n",
       "      <th>age</th>\n",
       "      <th>workclass</th>\n",
       "      <th>fnlwgt</th>\n",
       "      <th>education</th>\n",
       "      <th>education.num</th>\n",
       "      <th>marital.status</th>\n",
       "      <th>occupation</th>\n",
       "      <th>relationship</th>\n",
       "      <th>race</th>\n",
       "      <th>sex</th>\n",
       "      <th>capital.gain</th>\n",
       "      <th>capital.loss</th>\n",
       "      <th>hours.per.week</th>\n",
       "      <th>native.country</th>\n",
       "      <th>income</th>\n",
       "    </tr>\n",
       "  </thead>\n",
       "  <tbody>\n",
       "    <tr>\n",
       "      <th>0</th>\n",
       "      <td>90</td>\n",
       "      <td>?</td>\n",
       "      <td>77053</td>\n",
       "      <td>HS-grad</td>\n",
       "      <td>9</td>\n",
       "      <td>Widowed</td>\n",
       "      <td>?</td>\n",
       "      <td>Not-in-family</td>\n",
       "      <td>White</td>\n",
       "      <td>Female</td>\n",
       "      <td>0</td>\n",
       "      <td>4356</td>\n",
       "      <td>40</td>\n",
       "      <td>United-States</td>\n",
       "      <td>&lt;=50K</td>\n",
       "    </tr>\n",
       "    <tr>\n",
       "      <th>1</th>\n",
       "      <td>82</td>\n",
       "      <td>Private</td>\n",
       "      <td>132870</td>\n",
       "      <td>HS-grad</td>\n",
       "      <td>9</td>\n",
       "      <td>Widowed</td>\n",
       "      <td>Exec-managerial</td>\n",
       "      <td>Not-in-family</td>\n",
       "      <td>White</td>\n",
       "      <td>Female</td>\n",
       "      <td>0</td>\n",
       "      <td>4356</td>\n",
       "      <td>18</td>\n",
       "      <td>United-States</td>\n",
       "      <td>&lt;=50K</td>\n",
       "    </tr>\n",
       "    <tr>\n",
       "      <th>2</th>\n",
       "      <td>66</td>\n",
       "      <td>?</td>\n",
       "      <td>186061</td>\n",
       "      <td>Some-college</td>\n",
       "      <td>10</td>\n",
       "      <td>Widowed</td>\n",
       "      <td>?</td>\n",
       "      <td>Unmarried</td>\n",
       "      <td>Black</td>\n",
       "      <td>Female</td>\n",
       "      <td>0</td>\n",
       "      <td>4356</td>\n",
       "      <td>40</td>\n",
       "      <td>United-States</td>\n",
       "      <td>&lt;=50K</td>\n",
       "    </tr>\n",
       "    <tr>\n",
       "      <th>3</th>\n",
       "      <td>54</td>\n",
       "      <td>Private</td>\n",
       "      <td>140359</td>\n",
       "      <td>7th-8th</td>\n",
       "      <td>4</td>\n",
       "      <td>Divorced</td>\n",
       "      <td>Machine-op-inspct</td>\n",
       "      <td>Unmarried</td>\n",
       "      <td>White</td>\n",
       "      <td>Female</td>\n",
       "      <td>0</td>\n",
       "      <td>3900</td>\n",
       "      <td>40</td>\n",
       "      <td>United-States</td>\n",
       "      <td>&lt;=50K</td>\n",
       "    </tr>\n",
       "    <tr>\n",
       "      <th>4</th>\n",
       "      <td>41</td>\n",
       "      <td>Private</td>\n",
       "      <td>264663</td>\n",
       "      <td>Some-college</td>\n",
       "      <td>10</td>\n",
       "      <td>Separated</td>\n",
       "      <td>Prof-specialty</td>\n",
       "      <td>Own-child</td>\n",
       "      <td>White</td>\n",
       "      <td>Female</td>\n",
       "      <td>0</td>\n",
       "      <td>3900</td>\n",
       "      <td>40</td>\n",
       "      <td>United-States</td>\n",
       "      <td>&lt;=50K</td>\n",
       "    </tr>\n",
       "    <tr>\n",
       "      <th>...</th>\n",
       "      <td>...</td>\n",
       "      <td>...</td>\n",
       "      <td>...</td>\n",
       "      <td>...</td>\n",
       "      <td>...</td>\n",
       "      <td>...</td>\n",
       "      <td>...</td>\n",
       "      <td>...</td>\n",
       "      <td>...</td>\n",
       "      <td>...</td>\n",
       "      <td>...</td>\n",
       "      <td>...</td>\n",
       "      <td>...</td>\n",
       "      <td>...</td>\n",
       "      <td>...</td>\n",
       "    </tr>\n",
       "    <tr>\n",
       "      <th>32556</th>\n",
       "      <td>22</td>\n",
       "      <td>Private</td>\n",
       "      <td>310152</td>\n",
       "      <td>Some-college</td>\n",
       "      <td>10</td>\n",
       "      <td>Never-married</td>\n",
       "      <td>Protective-serv</td>\n",
       "      <td>Not-in-family</td>\n",
       "      <td>White</td>\n",
       "      <td>Male</td>\n",
       "      <td>0</td>\n",
       "      <td>0</td>\n",
       "      <td>40</td>\n",
       "      <td>United-States</td>\n",
       "      <td>&lt;=50K</td>\n",
       "    </tr>\n",
       "    <tr>\n",
       "      <th>32557</th>\n",
       "      <td>27</td>\n",
       "      <td>Private</td>\n",
       "      <td>257302</td>\n",
       "      <td>Assoc-acdm</td>\n",
       "      <td>12</td>\n",
       "      <td>Married-civ-spouse</td>\n",
       "      <td>Tech-support</td>\n",
       "      <td>Wife</td>\n",
       "      <td>White</td>\n",
       "      <td>Female</td>\n",
       "      <td>0</td>\n",
       "      <td>0</td>\n",
       "      <td>38</td>\n",
       "      <td>United-States</td>\n",
       "      <td>&lt;=50K</td>\n",
       "    </tr>\n",
       "    <tr>\n",
       "      <th>32558</th>\n",
       "      <td>40</td>\n",
       "      <td>Private</td>\n",
       "      <td>154374</td>\n",
       "      <td>HS-grad</td>\n",
       "      <td>9</td>\n",
       "      <td>Married-civ-spouse</td>\n",
       "      <td>Machine-op-inspct</td>\n",
       "      <td>Husband</td>\n",
       "      <td>White</td>\n",
       "      <td>Male</td>\n",
       "      <td>0</td>\n",
       "      <td>0</td>\n",
       "      <td>40</td>\n",
       "      <td>United-States</td>\n",
       "      <td>&gt;50K</td>\n",
       "    </tr>\n",
       "    <tr>\n",
       "      <th>32559</th>\n",
       "      <td>58</td>\n",
       "      <td>Private</td>\n",
       "      <td>151910</td>\n",
       "      <td>HS-grad</td>\n",
       "      <td>9</td>\n",
       "      <td>Widowed</td>\n",
       "      <td>Adm-clerical</td>\n",
       "      <td>Unmarried</td>\n",
       "      <td>White</td>\n",
       "      <td>Female</td>\n",
       "      <td>0</td>\n",
       "      <td>0</td>\n",
       "      <td>40</td>\n",
       "      <td>United-States</td>\n",
       "      <td>&lt;=50K</td>\n",
       "    </tr>\n",
       "    <tr>\n",
       "      <th>32560</th>\n",
       "      <td>22</td>\n",
       "      <td>Private</td>\n",
       "      <td>201490</td>\n",
       "      <td>HS-grad</td>\n",
       "      <td>9</td>\n",
       "      <td>Never-married</td>\n",
       "      <td>Adm-clerical</td>\n",
       "      <td>Own-child</td>\n",
       "      <td>White</td>\n",
       "      <td>Male</td>\n",
       "      <td>0</td>\n",
       "      <td>0</td>\n",
       "      <td>20</td>\n",
       "      <td>United-States</td>\n",
       "      <td>&lt;=50K</td>\n",
       "    </tr>\n",
       "  </tbody>\n",
       "</table>\n",
       "<p>32561 rows × 15 columns</p>\n",
       "</div>"
      ],
      "text/plain": [
       "       age workclass  fnlwgt     education  education.num      marital.status  \\\n",
       "0       90         ?   77053       HS-grad              9             Widowed   \n",
       "1       82   Private  132870       HS-grad              9             Widowed   \n",
       "2       66         ?  186061  Some-college             10             Widowed   \n",
       "3       54   Private  140359       7th-8th              4            Divorced   \n",
       "4       41   Private  264663  Some-college             10           Separated   \n",
       "...    ...       ...     ...           ...            ...                 ...   \n",
       "32556   22   Private  310152  Some-college             10       Never-married   \n",
       "32557   27   Private  257302    Assoc-acdm             12  Married-civ-spouse   \n",
       "32558   40   Private  154374       HS-grad              9  Married-civ-spouse   \n",
       "32559   58   Private  151910       HS-grad              9             Widowed   \n",
       "32560   22   Private  201490       HS-grad              9       Never-married   \n",
       "\n",
       "              occupation   relationship   race     sex  capital.gain  \\\n",
       "0                      ?  Not-in-family  White  Female             0   \n",
       "1        Exec-managerial  Not-in-family  White  Female             0   \n",
       "2                      ?      Unmarried  Black  Female             0   \n",
       "3      Machine-op-inspct      Unmarried  White  Female             0   \n",
       "4         Prof-specialty      Own-child  White  Female             0   \n",
       "...                  ...            ...    ...     ...           ...   \n",
       "32556    Protective-serv  Not-in-family  White    Male             0   \n",
       "32557       Tech-support           Wife  White  Female             0   \n",
       "32558  Machine-op-inspct        Husband  White    Male             0   \n",
       "32559       Adm-clerical      Unmarried  White  Female             0   \n",
       "32560       Adm-clerical      Own-child  White    Male             0   \n",
       "\n",
       "       capital.loss  hours.per.week native.country income  \n",
       "0              4356              40  United-States  <=50K  \n",
       "1              4356              18  United-States  <=50K  \n",
       "2              4356              40  United-States  <=50K  \n",
       "3              3900              40  United-States  <=50K  \n",
       "4              3900              40  United-States  <=50K  \n",
       "...             ...             ...            ...    ...  \n",
       "32556             0              40  United-States  <=50K  \n",
       "32557             0              38  United-States  <=50K  \n",
       "32558             0              40  United-States   >50K  \n",
       "32559             0              40  United-States  <=50K  \n",
       "32560             0              20  United-States  <=50K  \n",
       "\n",
       "[32561 rows x 15 columns]"
      ]
     },
     "execution_count": 2,
     "metadata": {},
     "output_type": "execute_result"
    }
   ],
   "source": [
    "census_df = pd.read_csv('adult.csv')\n",
    "census_df"
   ]
  },
  {
   "cell_type": "markdown",
   "id": "7b55b4c6",
   "metadata": {
    "papermill": {
     "duration": 0.028907,
     "end_time": "2021-12-30T16:55:17.079095",
     "exception": false,
     "start_time": "2021-12-30T16:55:17.050188",
     "status": "completed"
    },
    "tags": []
   },
   "source": [
    "# 2. Data splitting"
   ]
  },
  {
   "cell_type": "code",
   "execution_count": 3,
   "id": "10f04828",
   "metadata": {
    "execution": {
     "iopub.execute_input": "2021-12-30T16:55:17.142480Z",
     "iopub.status.busy": "2021-12-30T16:55:17.141026Z",
     "iopub.status.idle": "2021-12-30T16:55:17.151462Z",
     "shell.execute_reply": "2021-12-30T16:55:17.151927Z",
     "shell.execute_reply.started": "2021-12-24T09:22:11.791429Z"
    },
    "papermill": {
     "duration": 0.04418,
     "end_time": "2021-12-30T16:55:17.152101",
     "exception": false,
     "start_time": "2021-12-30T16:55:17.107921",
     "status": "completed"
    },
    "tags": []
   },
   "outputs": [],
   "source": [
    "train_df, test_df = train_test_split(census_df,\n",
    "                                     train_size=0.8,\n",
    "                                     random_state=2018)"
   ]
  },
  {
   "cell_type": "markdown",
   "id": "64065a85",
   "metadata": {
    "papermill": {
     "duration": 0.028248,
     "end_time": "2021-12-30T16:55:17.209599",
     "exception": false,
     "start_time": "2021-12-30T16:55:17.181351",
     "status": "completed"
    },
    "tags": []
   },
   "source": [
    "# 3. Preliminary EDA"
   ]
  },
  {
   "cell_type": "markdown",
   "id": "358b5356",
   "metadata": {
    "papermill": {
     "duration": 0.028762,
     "end_time": "2021-12-30T16:55:17.268429",
     "exception": false,
     "start_time": "2021-12-30T16:55:17.239667",
     "status": "completed"
    },
    "tags": []
   },
   "source": [
    "We are basically checking for missing values, scaling issues in the dataframe."
   ]
  },
  {
   "cell_type": "code",
   "execution_count": 4,
   "id": "3cf94320",
   "metadata": {
    "execution": {
     "iopub.execute_input": "2021-12-30T16:55:17.329181Z",
     "iopub.status.busy": "2021-12-30T16:55:17.328515Z",
     "iopub.status.idle": "2021-12-30T16:55:17.374889Z",
     "shell.execute_reply": "2021-12-30T16:55:17.375507Z",
     "shell.execute_reply.started": "2021-12-24T09:22:11.808188Z"
    },
    "papermill": {
     "duration": 0.078335,
     "end_time": "2021-12-30T16:55:17.375677",
     "exception": false,
     "start_time": "2021-12-30T16:55:17.297342",
     "status": "completed"
    },
    "tags": []
   },
   "outputs": [
    {
     "name": "stdout",
     "output_type": "stream",
     "text": [
      "<class 'pandas.core.frame.DataFrame'>\n",
      "Int64Index: 26048 entries, 12182 to 9466\n",
      "Data columns (total 15 columns):\n",
      " #   Column          Non-Null Count  Dtype \n",
      "---  ------          --------------  ----- \n",
      " 0   age             26048 non-null  int64 \n",
      " 1   workclass       26048 non-null  object\n",
      " 2   fnlwgt          26048 non-null  int64 \n",
      " 3   education       26048 non-null  object\n",
      " 4   education.num   26048 non-null  int64 \n",
      " 5   marital.status  26048 non-null  object\n",
      " 6   occupation      26048 non-null  object\n",
      " 7   relationship    26048 non-null  object\n",
      " 8   race            26048 non-null  object\n",
      " 9   sex             26048 non-null  object\n",
      " 10  capital.gain    26048 non-null  int64 \n",
      " 11  capital.loss    26048 non-null  int64 \n",
      " 12  hours.per.week  26048 non-null  int64 \n",
      " 13  native.country  26048 non-null  object\n",
      " 14  income          26048 non-null  object\n",
      "dtypes: int64(6), object(9)\n",
      "memory usage: 3.2+ MB\n"
     ]
    }
   ],
   "source": [
    "train_df.info()"
   ]
  },
  {
   "cell_type": "markdown",
   "id": "ddfe3366",
   "metadata": {
    "papermill": {
     "duration": 0.028756,
     "end_time": "2021-12-30T16:55:17.433682",
     "exception": false,
     "start_time": "2021-12-30T16:55:17.404926",
     "status": "completed"
    },
    "tags": []
   },
   "source": [
    "Luckily, we do not have NANs values in the dataset. We still have to have to look whether some of the text columns have missing or empty strings in it."
   ]
  },
  {
   "cell_type": "code",
   "execution_count": 5,
   "id": "30875f69",
   "metadata": {
    "execution": {
     "iopub.execute_input": "2021-12-30T16:55:17.498257Z",
     "iopub.status.busy": "2021-12-30T16:55:17.497605Z",
     "iopub.status.idle": "2021-12-30T16:55:17.526580Z",
     "shell.execute_reply": "2021-12-30T16:55:17.525927Z",
     "shell.execute_reply.started": "2021-12-24T09:22:11.860843Z"
    },
    "papermill": {
     "duration": 0.063851,
     "end_time": "2021-12-30T16:55:17.526718",
     "exception": false,
     "start_time": "2021-12-30T16:55:17.462867",
     "status": "completed"
    },
    "tags": []
   },
   "outputs": [
    {
     "data": {
      "text/html": [
       "<div>\n",
       "<style scoped>\n",
       "    .dataframe tbody tr th:only-of-type {\n",
       "        vertical-align: middle;\n",
       "    }\n",
       "\n",
       "    .dataframe tbody tr th {\n",
       "        vertical-align: top;\n",
       "    }\n",
       "\n",
       "    .dataframe thead th {\n",
       "        text-align: right;\n",
       "    }\n",
       "</style>\n",
       "<table border=\"1\" class=\"dataframe\">\n",
       "  <thead>\n",
       "    <tr style=\"text-align: right;\">\n",
       "      <th></th>\n",
       "      <th>age</th>\n",
       "      <th>workclass</th>\n",
       "      <th>fnlwgt</th>\n",
       "      <th>education</th>\n",
       "      <th>education.num</th>\n",
       "      <th>marital.status</th>\n",
       "      <th>occupation</th>\n",
       "      <th>relationship</th>\n",
       "      <th>race</th>\n",
       "      <th>sex</th>\n",
       "      <th>capital.gain</th>\n",
       "      <th>capital.loss</th>\n",
       "      <th>hours.per.week</th>\n",
       "      <th>native.country</th>\n",
       "      <th>income</th>\n",
       "    </tr>\n",
       "  </thead>\n",
       "  <tbody>\n",
       "    <tr>\n",
       "      <th>1</th>\n",
       "      <td>82</td>\n",
       "      <td>Private</td>\n",
       "      <td>132870</td>\n",
       "      <td>HS-grad</td>\n",
       "      <td>9</td>\n",
       "      <td>Widowed</td>\n",
       "      <td>Exec-managerial</td>\n",
       "      <td>Not-in-family</td>\n",
       "      <td>White</td>\n",
       "      <td>Female</td>\n",
       "      <td>0</td>\n",
       "      <td>4356</td>\n",
       "      <td>18</td>\n",
       "      <td>United-States</td>\n",
       "      <td>&lt;=50K</td>\n",
       "    </tr>\n",
       "    <tr>\n",
       "      <th>2</th>\n",
       "      <td>66</td>\n",
       "      <td>?</td>\n",
       "      <td>186061</td>\n",
       "      <td>Some-college</td>\n",
       "      <td>10</td>\n",
       "      <td>Widowed</td>\n",
       "      <td>?</td>\n",
       "      <td>Unmarried</td>\n",
       "      <td>Black</td>\n",
       "      <td>Female</td>\n",
       "      <td>0</td>\n",
       "      <td>4356</td>\n",
       "      <td>40</td>\n",
       "      <td>United-States</td>\n",
       "      <td>&lt;=50K</td>\n",
       "    </tr>\n",
       "    <tr>\n",
       "      <th>3</th>\n",
       "      <td>54</td>\n",
       "      <td>Private</td>\n",
       "      <td>140359</td>\n",
       "      <td>7th-8th</td>\n",
       "      <td>4</td>\n",
       "      <td>Divorced</td>\n",
       "      <td>Machine-op-inspct</td>\n",
       "      <td>Unmarried</td>\n",
       "      <td>White</td>\n",
       "      <td>Female</td>\n",
       "      <td>0</td>\n",
       "      <td>3900</td>\n",
       "      <td>40</td>\n",
       "      <td>United-States</td>\n",
       "      <td>&lt;=50K</td>\n",
       "    </tr>\n",
       "    <tr>\n",
       "      <th>4</th>\n",
       "      <td>41</td>\n",
       "      <td>Private</td>\n",
       "      <td>264663</td>\n",
       "      <td>Some-college</td>\n",
       "      <td>10</td>\n",
       "      <td>Separated</td>\n",
       "      <td>Prof-specialty</td>\n",
       "      <td>Own-child</td>\n",
       "      <td>White</td>\n",
       "      <td>Female</td>\n",
       "      <td>0</td>\n",
       "      <td>3900</td>\n",
       "      <td>40</td>\n",
       "      <td>United-States</td>\n",
       "      <td>&lt;=50K</td>\n",
       "    </tr>\n",
       "    <tr>\n",
       "      <th>5</th>\n",
       "      <td>34</td>\n",
       "      <td>Private</td>\n",
       "      <td>216864</td>\n",
       "      <td>HS-grad</td>\n",
       "      <td>9</td>\n",
       "      <td>Divorced</td>\n",
       "      <td>Other-service</td>\n",
       "      <td>Unmarried</td>\n",
       "      <td>White</td>\n",
       "      <td>Female</td>\n",
       "      <td>0</td>\n",
       "      <td>3770</td>\n",
       "      <td>45</td>\n",
       "      <td>United-States</td>\n",
       "      <td>&lt;=50K</td>\n",
       "    </tr>\n",
       "    <tr>\n",
       "      <th>...</th>\n",
       "      <td>...</td>\n",
       "      <td>...</td>\n",
       "      <td>...</td>\n",
       "      <td>...</td>\n",
       "      <td>...</td>\n",
       "      <td>...</td>\n",
       "      <td>...</td>\n",
       "      <td>...</td>\n",
       "      <td>...</td>\n",
       "      <td>...</td>\n",
       "      <td>...</td>\n",
       "      <td>...</td>\n",
       "      <td>...</td>\n",
       "      <td>...</td>\n",
       "      <td>...</td>\n",
       "    </tr>\n",
       "    <tr>\n",
       "      <th>32555</th>\n",
       "      <td>53</td>\n",
       "      <td>Private</td>\n",
       "      <td>321865</td>\n",
       "      <td>Masters</td>\n",
       "      <td>14</td>\n",
       "      <td>Married-civ-spouse</td>\n",
       "      <td>Exec-managerial</td>\n",
       "      <td>Husband</td>\n",
       "      <td>White</td>\n",
       "      <td>Male</td>\n",
       "      <td>0</td>\n",
       "      <td>0</td>\n",
       "      <td>40</td>\n",
       "      <td>United-States</td>\n",
       "      <td>&gt;50K</td>\n",
       "    </tr>\n",
       "    <tr>\n",
       "      <th>32557</th>\n",
       "      <td>27</td>\n",
       "      <td>Private</td>\n",
       "      <td>257302</td>\n",
       "      <td>Assoc-acdm</td>\n",
       "      <td>12</td>\n",
       "      <td>Married-civ-spouse</td>\n",
       "      <td>Tech-support</td>\n",
       "      <td>Wife</td>\n",
       "      <td>White</td>\n",
       "      <td>Female</td>\n",
       "      <td>0</td>\n",
       "      <td>0</td>\n",
       "      <td>38</td>\n",
       "      <td>United-States</td>\n",
       "      <td>&lt;=50K</td>\n",
       "    </tr>\n",
       "    <tr>\n",
       "      <th>32558</th>\n",
       "      <td>40</td>\n",
       "      <td>Private</td>\n",
       "      <td>154374</td>\n",
       "      <td>HS-grad</td>\n",
       "      <td>9</td>\n",
       "      <td>Married-civ-spouse</td>\n",
       "      <td>Machine-op-inspct</td>\n",
       "      <td>Husband</td>\n",
       "      <td>White</td>\n",
       "      <td>Male</td>\n",
       "      <td>0</td>\n",
       "      <td>0</td>\n",
       "      <td>40</td>\n",
       "      <td>United-States</td>\n",
       "      <td>&gt;50K</td>\n",
       "    </tr>\n",
       "    <tr>\n",
       "      <th>32559</th>\n",
       "      <td>58</td>\n",
       "      <td>Private</td>\n",
       "      <td>151910</td>\n",
       "      <td>HS-grad</td>\n",
       "      <td>9</td>\n",
       "      <td>Widowed</td>\n",
       "      <td>Adm-clerical</td>\n",
       "      <td>Unmarried</td>\n",
       "      <td>White</td>\n",
       "      <td>Female</td>\n",
       "      <td>0</td>\n",
       "      <td>0</td>\n",
       "      <td>40</td>\n",
       "      <td>United-States</td>\n",
       "      <td>&lt;=50K</td>\n",
       "    </tr>\n",
       "    <tr>\n",
       "      <th>32560</th>\n",
       "      <td>22</td>\n",
       "      <td>Private</td>\n",
       "      <td>201490</td>\n",
       "      <td>HS-grad</td>\n",
       "      <td>9</td>\n",
       "      <td>Never-married</td>\n",
       "      <td>Adm-clerical</td>\n",
       "      <td>Own-child</td>\n",
       "      <td>White</td>\n",
       "      <td>Male</td>\n",
       "      <td>0</td>\n",
       "      <td>0</td>\n",
       "      <td>20</td>\n",
       "      <td>United-States</td>\n",
       "      <td>&lt;=50K</td>\n",
       "    </tr>\n",
       "  </tbody>\n",
       "</table>\n",
       "<p>26048 rows × 15 columns</p>\n",
       "</div>"
      ],
      "text/plain": [
       "       age workclass  fnlwgt     education  education.num      marital.status  \\\n",
       "1       82   Private  132870       HS-grad              9             Widowed   \n",
       "2       66         ?  186061  Some-college             10             Widowed   \n",
       "3       54   Private  140359       7th-8th              4            Divorced   \n",
       "4       41   Private  264663  Some-college             10           Separated   \n",
       "5       34   Private  216864       HS-grad              9            Divorced   \n",
       "...    ...       ...     ...           ...            ...                 ...   \n",
       "32555   53   Private  321865       Masters             14  Married-civ-spouse   \n",
       "32557   27   Private  257302    Assoc-acdm             12  Married-civ-spouse   \n",
       "32558   40   Private  154374       HS-grad              9  Married-civ-spouse   \n",
       "32559   58   Private  151910       HS-grad              9             Widowed   \n",
       "32560   22   Private  201490       HS-grad              9       Never-married   \n",
       "\n",
       "              occupation   relationship   race     sex  capital.gain  \\\n",
       "1        Exec-managerial  Not-in-family  White  Female             0   \n",
       "2                      ?      Unmarried  Black  Female             0   \n",
       "3      Machine-op-inspct      Unmarried  White  Female             0   \n",
       "4         Prof-specialty      Own-child  White  Female             0   \n",
       "5          Other-service      Unmarried  White  Female             0   \n",
       "...                  ...            ...    ...     ...           ...   \n",
       "32555    Exec-managerial        Husband  White    Male             0   \n",
       "32557       Tech-support           Wife  White  Female             0   \n",
       "32558  Machine-op-inspct        Husband  White    Male             0   \n",
       "32559       Adm-clerical      Unmarried  White  Female             0   \n",
       "32560       Adm-clerical      Own-child  White    Male             0   \n",
       "\n",
       "       capital.loss  hours.per.week native.country income  \n",
       "1              4356              18  United-States  <=50K  \n",
       "2              4356              40  United-States  <=50K  \n",
       "3              3900              40  United-States  <=50K  \n",
       "4              3900              40  United-States  <=50K  \n",
       "5              3770              45  United-States  <=50K  \n",
       "...             ...             ...            ...    ...  \n",
       "32555             0              40  United-States   >50K  \n",
       "32557             0              38  United-States  <=50K  \n",
       "32558             0              40  United-States   >50K  \n",
       "32559             0              40  United-States  <=50K  \n",
       "32560             0              20  United-States  <=50K  \n",
       "\n",
       "[26048 rows x 15 columns]"
      ]
     },
     "execution_count": 5,
     "metadata": {},
     "output_type": "execute_result"
    }
   ],
   "source": [
    "train_df.sort_index()"
   ]
  },
  {
   "cell_type": "markdown",
   "id": "2dce7261",
   "metadata": {
    "papermill": {
     "duration": 0.029826,
     "end_time": "2021-12-30T16:55:17.586526",
     "exception": false,
     "start_time": "2021-12-30T16:55:17.556700",
     "status": "completed"
    },
    "tags": []
   },
   "source": [
    "\n",
    "Usually .info() method would give you information on missing values. But here, it does not pick \"?\" as missing values as they are encoded as strings instead of an actual NaN in Python. So let's replace them with np.nan before we carry out EDA."
   ]
  },
  {
   "cell_type": "code",
   "execution_count": 6,
   "id": "4b8dfad0",
   "metadata": {
    "execution": {
     "iopub.execute_input": "2021-12-30T16:55:17.651330Z",
     "iopub.status.busy": "2021-12-30T16:55:17.650671Z",
     "iopub.status.idle": "2021-12-30T16:55:17.670835Z",
     "shell.execute_reply": "2021-12-30T16:55:17.671339Z",
     "shell.execute_reply.started": "2021-12-24T09:22:11.895148Z"
    },
    "papermill": {
     "duration": 0.055065,
     "end_time": "2021-12-30T16:55:17.671520",
     "exception": false,
     "start_time": "2021-12-30T16:55:17.616455",
     "status": "completed"
    },
    "tags": []
   },
   "outputs": [],
   "source": [
    "train_df_nan = train_df.replace(\"?\", np.nan)\n",
    "test_df_nan = test_df.replace(\"?\", np.nan)"
   ]
  },
  {
   "cell_type": "code",
   "execution_count": 7,
   "id": "cc1ac370",
   "metadata": {
    "execution": {
     "iopub.execute_input": "2021-12-30T16:55:17.734599Z",
     "iopub.status.busy": "2021-12-30T16:55:17.733945Z",
     "iopub.status.idle": "2021-12-30T16:55:17.765263Z",
     "shell.execute_reply": "2021-12-30T16:55:17.765849Z",
     "shell.execute_reply.started": "2021-12-24T09:22:11.919715Z"
    },
    "papermill": {
     "duration": 0.064587,
     "end_time": "2021-12-30T16:55:17.766014",
     "exception": false,
     "start_time": "2021-12-30T16:55:17.701427",
     "status": "completed"
    },
    "tags": []
   },
   "outputs": [
    {
     "data": {
      "text/html": [
       "<div>\n",
       "<style scoped>\n",
       "    .dataframe tbody tr th:only-of-type {\n",
       "        vertical-align: middle;\n",
       "    }\n",
       "\n",
       "    .dataframe tbody tr th {\n",
       "        vertical-align: top;\n",
       "    }\n",
       "\n",
       "    .dataframe thead th {\n",
       "        text-align: right;\n",
       "    }\n",
       "</style>\n",
       "<table border=\"1\" class=\"dataframe\">\n",
       "  <thead>\n",
       "    <tr style=\"text-align: right;\">\n",
       "      <th></th>\n",
       "      <th>age</th>\n",
       "      <th>fnlwgt</th>\n",
       "      <th>education.num</th>\n",
       "      <th>capital.gain</th>\n",
       "      <th>capital.loss</th>\n",
       "      <th>hours.per.week</th>\n",
       "    </tr>\n",
       "  </thead>\n",
       "  <tbody>\n",
       "    <tr>\n",
       "      <th>count</th>\n",
       "      <td>26048.000000</td>\n",
       "      <td>2.604800e+04</td>\n",
       "      <td>26048.000000</td>\n",
       "      <td>26048.000000</td>\n",
       "      <td>26048.000000</td>\n",
       "      <td>26048.000000</td>\n",
       "    </tr>\n",
       "    <tr>\n",
       "      <th>mean</th>\n",
       "      <td>38.597743</td>\n",
       "      <td>1.898041e+05</td>\n",
       "      <td>10.072827</td>\n",
       "      <td>1058.883715</td>\n",
       "      <td>87.270769</td>\n",
       "      <td>40.421798</td>\n",
       "    </tr>\n",
       "    <tr>\n",
       "      <th>std</th>\n",
       "      <td>13.612159</td>\n",
       "      <td>1.052288e+05</td>\n",
       "      <td>2.574470</td>\n",
       "      <td>7230.138888</td>\n",
       "      <td>402.341325</td>\n",
       "      <td>12.427114</td>\n",
       "    </tr>\n",
       "    <tr>\n",
       "      <th>min</th>\n",
       "      <td>17.000000</td>\n",
       "      <td>1.228500e+04</td>\n",
       "      <td>1.000000</td>\n",
       "      <td>0.000000</td>\n",
       "      <td>0.000000</td>\n",
       "      <td>1.000000</td>\n",
       "    </tr>\n",
       "    <tr>\n",
       "      <th>25%</th>\n",
       "      <td>28.000000</td>\n",
       "      <td>1.177630e+05</td>\n",
       "      <td>9.000000</td>\n",
       "      <td>0.000000</td>\n",
       "      <td>0.000000</td>\n",
       "      <td>40.000000</td>\n",
       "    </tr>\n",
       "    <tr>\n",
       "      <th>50%</th>\n",
       "      <td>37.000000</td>\n",
       "      <td>1.786190e+05</td>\n",
       "      <td>10.000000</td>\n",
       "      <td>0.000000</td>\n",
       "      <td>0.000000</td>\n",
       "      <td>40.000000</td>\n",
       "    </tr>\n",
       "    <tr>\n",
       "      <th>75%</th>\n",
       "      <td>48.000000</td>\n",
       "      <td>2.373260e+05</td>\n",
       "      <td>12.000000</td>\n",
       "      <td>0.000000</td>\n",
       "      <td>0.000000</td>\n",
       "      <td>45.000000</td>\n",
       "    </tr>\n",
       "    <tr>\n",
       "      <th>max</th>\n",
       "      <td>90.000000</td>\n",
       "      <td>1.484705e+06</td>\n",
       "      <td>16.000000</td>\n",
       "      <td>99999.000000</td>\n",
       "      <td>4356.000000</td>\n",
       "      <td>99.000000</td>\n",
       "    </tr>\n",
       "  </tbody>\n",
       "</table>\n",
       "</div>"
      ],
      "text/plain": [
       "                age        fnlwgt  education.num  capital.gain  capital.loss  \\\n",
       "count  26048.000000  2.604800e+04   26048.000000  26048.000000  26048.000000   \n",
       "mean      38.597743  1.898041e+05      10.072827   1058.883715     87.270769   \n",
       "std       13.612159  1.052288e+05       2.574470   7230.138888    402.341325   \n",
       "min       17.000000  1.228500e+04       1.000000      0.000000      0.000000   \n",
       "25%       28.000000  1.177630e+05       9.000000      0.000000      0.000000   \n",
       "50%       37.000000  1.786190e+05      10.000000      0.000000      0.000000   \n",
       "75%       48.000000  2.373260e+05      12.000000      0.000000      0.000000   \n",
       "max       90.000000  1.484705e+06      16.000000  99999.000000   4356.000000   \n",
       "\n",
       "       hours.per.week  \n",
       "count    26048.000000  \n",
       "mean        40.421798  \n",
       "std         12.427114  \n",
       "min          1.000000  \n",
       "25%         40.000000  \n",
       "50%         40.000000  \n",
       "75%         45.000000  \n",
       "max         99.000000  "
      ]
     },
     "execution_count": 7,
     "metadata": {},
     "output_type": "execute_result"
    }
   ],
   "source": [
    "train_df.describe()"
   ]
  },
  {
   "cell_type": "markdown",
   "id": "9b9eed49",
   "metadata": {
    "papermill": {
     "duration": 0.030345,
     "end_time": "2021-12-30T16:55:17.826873",
     "exception": false,
     "start_time": "2021-12-30T16:55:17.796528",
     "status": "completed"
    },
    "tags": []
   },
   "source": [
    "- A lot of the values in `captial.gain` and `capital.loss` are 0's. We can see that even 75% percentile of the value is 0.\n",
    "- `education.num` is an ordinal feature and the feature `education` becomes redundant."
   ]
  },
  {
   "cell_type": "markdown",
   "id": "da38264e",
   "metadata": {
    "papermill": {
     "duration": 0.030073,
     "end_time": "2021-12-30T16:55:17.887411",
     "exception": false,
     "start_time": "2021-12-30T16:55:17.857338",
     "status": "completed"
    },
    "tags": []
   },
   "source": [
    "# 4. EDA"
   ]
  },
  {
   "cell_type": "markdown",
   "id": "75bfffd3",
   "metadata": {
    "execution": {
     "iopub.execute_input": "2021-12-22T12:48:37.195631Z",
     "iopub.status.busy": "2021-12-22T12:48:37.195024Z",
     "iopub.status.idle": "2021-12-22T12:48:37.199168Z",
     "shell.execute_reply": "2021-12-22T12:48:37.198406Z",
     "shell.execute_reply.started": "2021-12-22T12:48:37.195592Z"
    },
    "papermill": {
     "duration": 0.030618,
     "end_time": "2021-12-30T16:55:17.948707",
     "exception": false,
     "start_time": "2021-12-30T16:55:17.918089",
     "status": "completed"
    },
    "tags": []
   },
   "source": [
    "## 4.1 Relationships among the features."
   ]
  },
  {
   "cell_type": "code",
   "execution_count": 8,
   "id": "c8fb56a0",
   "metadata": {
    "execution": {
     "iopub.execute_input": "2021-12-30T16:55:18.016775Z",
     "iopub.status.busy": "2021-12-30T16:55:18.015811Z",
     "iopub.status.idle": "2021-12-30T16:55:18.049941Z",
     "shell.execute_reply": "2021-12-30T16:55:18.049164Z",
     "shell.execute_reply.started": "2021-12-24T09:22:11.9581Z"
    },
    "papermill": {
     "duration": 0.070937,
     "end_time": "2021-12-30T16:55:18.050104",
     "exception": false,
     "start_time": "2021-12-30T16:55:17.979167",
     "status": "completed"
    },
    "tags": []
   },
   "outputs": [
    {
     "data": {
      "text/html": [
       "<div>\n",
       "<style scoped>\n",
       "    .dataframe tbody tr th:only-of-type {\n",
       "        vertical-align: middle;\n",
       "    }\n",
       "\n",
       "    .dataframe tbody tr th {\n",
       "        vertical-align: top;\n",
       "    }\n",
       "\n",
       "    .dataframe thead th {\n",
       "        text-align: right;\n",
       "    }\n",
       "</style>\n",
       "<table border=\"1\" class=\"dataframe\">\n",
       "  <thead>\n",
       "    <tr style=\"text-align: right;\">\n",
       "      <th></th>\n",
       "      <th>level_0</th>\n",
       "      <th>level_1</th>\n",
       "      <th>corr</th>\n",
       "      <th>abs</th>\n",
       "    </tr>\n",
       "  </thead>\n",
       "  <tbody>\n",
       "    <tr>\n",
       "      <th>32</th>\n",
       "      <td>hours.per.week</td>\n",
       "      <td>education.num</td>\n",
       "      <td>0.166687</td>\n",
       "      <td>0.166687</td>\n",
       "    </tr>\n",
       "    <tr>\n",
       "      <th>17</th>\n",
       "      <td>education.num</td>\n",
       "      <td>hours.per.week</td>\n",
       "      <td>0.166687</td>\n",
       "      <td>0.166687</td>\n",
       "    </tr>\n",
       "    <tr>\n",
       "      <th>30</th>\n",
       "      <td>hours.per.week</td>\n",
       "      <td>age</td>\n",
       "      <td>0.141171</td>\n",
       "      <td>0.141171</td>\n",
       "    </tr>\n",
       "    <tr>\n",
       "      <th>5</th>\n",
       "      <td>age</td>\n",
       "      <td>hours.per.week</td>\n",
       "      <td>0.141171</td>\n",
       "      <td>0.141171</td>\n",
       "    </tr>\n",
       "    <tr>\n",
       "      <th>18</th>\n",
       "      <td>capital.gain</td>\n",
       "      <td>age</td>\n",
       "      <td>0.128159</td>\n",
       "      <td>0.128159</td>\n",
       "    </tr>\n",
       "  </tbody>\n",
       "</table>\n",
       "</div>"
      ],
      "text/plain": [
       "           level_0         level_1      corr       abs\n",
       "32  hours.per.week   education.num  0.166687  0.166687\n",
       "17   education.num  hours.per.week  0.166687  0.166687\n",
       "30  hours.per.week             age  0.141171  0.141171\n",
       "5              age  hours.per.week  0.141171  0.141171\n",
       "18    capital.gain             age  0.128159  0.128159"
      ]
     },
     "execution_count": 8,
     "metadata": {},
     "output_type": "execute_result"
    }
   ],
   "source": [
    "corr_df = train_df.corr('spearman').stack().reset_index(name='corr')\n",
    "corr_df.loc[corr_df['corr'] == 1, 'corr'] = 0  # Remove diagonal\n",
    "# Use abs so that we can visualize the impact of negative correaltion  \n",
    "corr_df['abs'] = corr_df['corr'].abs()\n",
    "corr_df.sort_values('abs', ascending=False).head(n=5)"
   ]
  },
  {
   "cell_type": "code",
   "execution_count": 9,
   "id": "fa256944",
   "metadata": {
    "execution": {
     "iopub.execute_input": "2021-12-30T16:55:18.116768Z",
     "iopub.status.busy": "2021-12-30T16:55:18.116115Z",
     "iopub.status.idle": "2021-12-30T16:55:18.156224Z",
     "shell.execute_reply": "2021-12-30T16:55:18.156838Z",
     "shell.execute_reply.started": "2021-12-24T09:22:11.997689Z"
    },
    "papermill": {
     "duration": 0.07548,
     "end_time": "2021-12-30T16:55:18.156998",
     "exception": false,
     "start_time": "2021-12-30T16:55:18.081518",
     "status": "completed"
    },
    "tags": []
   },
   "outputs": [
    {
     "data": {
      "text/html": [
       "\n",
       "<div id=\"altair-viz-948db21f84374e87a8fb316ffb02e06b\"></div>\n",
       "<script type=\"text/javascript\">\n",
       "  (function(spec, embedOpt){\n",
       "    let outputDiv = document.currentScript.previousElementSibling;\n",
       "    if (outputDiv.id !== \"altair-viz-948db21f84374e87a8fb316ffb02e06b\") {\n",
       "      outputDiv = document.getElementById(\"altair-viz-948db21f84374e87a8fb316ffb02e06b\");\n",
       "    }\n",
       "    const paths = {\n",
       "      \"vega\": \"https://cdn.jsdelivr.net/npm//vega@5?noext\",\n",
       "      \"vega-lib\": \"https://cdn.jsdelivr.net/npm//vega-lib?noext\",\n",
       "      \"vega-lite\": \"https://cdn.jsdelivr.net/npm//vega-lite@4.8.1?noext\",\n",
       "      \"vega-embed\": \"https://cdn.jsdelivr.net/npm//vega-embed@6?noext\",\n",
       "    };\n",
       "\n",
       "    function loadScript(lib) {\n",
       "      return new Promise(function(resolve, reject) {\n",
       "        var s = document.createElement('script');\n",
       "        s.src = paths[lib];\n",
       "        s.async = true;\n",
       "        s.onload = () => resolve(paths[lib]);\n",
       "        s.onerror = () => reject(`Error loading script: ${paths[lib]}`);\n",
       "        document.getElementsByTagName(\"head\")[0].appendChild(s);\n",
       "      });\n",
       "    }\n",
       "\n",
       "    function showError(err) {\n",
       "      outputDiv.innerHTML = `<div class=\"error\" style=\"color:red;\">${err}</div>`;\n",
       "      throw err;\n",
       "    }\n",
       "\n",
       "    function displayChart(vegaEmbed) {\n",
       "      vegaEmbed(outputDiv, spec, embedOpt)\n",
       "        .catch(err => showError(`Javascript Error: ${err.message}<br>This usually means there's a typo in your chart specification. See the javascript console for the full traceback.`));\n",
       "    }\n",
       "\n",
       "    if(typeof define === \"function\" && define.amd) {\n",
       "      requirejs.config({paths});\n",
       "      require([\"vega-embed\"], displayChart, err => showError(`Error loading script: ${err.message}`));\n",
       "    } else if (typeof vegaEmbed === \"function\") {\n",
       "      displayChart(vegaEmbed);\n",
       "    } else {\n",
       "      loadScript(\"vega\")\n",
       "        .then(() => loadScript(\"vega-lite\"))\n",
       "        .then(() => loadScript(\"vega-embed\"))\n",
       "        .catch(showError)\n",
       "        .then(() => displayChart(vegaEmbed));\n",
       "    }\n",
       "  })({\"config\": {\"view\": {\"continuousWidth\": 400, \"continuousHeight\": 300}}, \"data\": {\"name\": \"data-6b41a1e560d216617364dde8f35ad26f\"}, \"mark\": \"circle\", \"encoding\": {\"color\": {\"type\": \"quantitative\", \"field\": \"corr\", \"scale\": {\"domain\": [-1, 1], \"scheme\": \"blueorange\"}}, \"size\": {\"type\": \"quantitative\", \"field\": \"abs\"}, \"x\": {\"type\": \"nominal\", \"field\": \"level_0\"}, \"y\": {\"type\": \"nominal\", \"field\": \"level_1\"}}, \"height\": 150, \"width\": 150, \"$schema\": \"https://vega.github.io/schema/vega-lite/v4.8.1.json\", \"datasets\": {\"data-6b41a1e560d216617364dde8f35ad26f\": [{\"level_0\": \"age\", \"level_1\": \"age\", \"corr\": 0.0, \"abs\": 0.0}, {\"level_0\": \"age\", \"level_1\": \"fnlwgt\", \"corr\": -0.07558355562627055, \"abs\": 0.07558355562627055}, {\"level_0\": \"age\", \"level_1\": \"education.num\", \"corr\": 0.06415187350703638, \"abs\": 0.06415187350703638}, {\"level_0\": \"age\", \"level_1\": \"capital.gain\", \"corr\": 0.12815940815467505, \"abs\": 0.12815940815467505}, {\"level_0\": \"age\", \"level_1\": \"capital.loss\", \"corr\": 0.06027843384616076, \"abs\": 0.06027843384616076}, {\"level_0\": \"age\", \"level_1\": \"hours.per.week\", \"corr\": 0.14117112676606583, \"abs\": 0.14117112676606583}, {\"level_0\": \"fnlwgt\", \"level_1\": \"age\", \"corr\": -0.07558355562627055, \"abs\": 0.07558355562627055}, {\"level_0\": \"fnlwgt\", \"level_1\": \"fnlwgt\", \"corr\": 0.0, \"abs\": 0.0}, {\"level_0\": \"fnlwgt\", \"level_1\": \"education.num\", \"corr\": -0.034189019388966777, \"abs\": 0.034189019388966777}, {\"level_0\": \"fnlwgt\", \"level_1\": \"capital.gain\", \"corr\": -0.002364025516992106, \"abs\": 0.002364025516992106}, {\"level_0\": \"fnlwgt\", \"level_1\": \"capital.loss\", \"corr\": -0.008222204630830902, \"abs\": 0.008222204630830902}, {\"level_0\": \"fnlwgt\", \"level_1\": \"hours.per.week\", \"corr\": -0.023732505759715684, \"abs\": 0.023732505759715684}, {\"level_0\": \"education.num\", \"level_1\": \"age\", \"corr\": 0.06415187350703638, \"abs\": 0.06415187350703638}, {\"level_0\": \"education.num\", \"level_1\": \"fnlwgt\", \"corr\": -0.034189019388966777, \"abs\": 0.034189019388966777}, {\"level_0\": \"education.num\", \"level_1\": \"education.num\", \"corr\": 0.0, \"abs\": 0.0}, {\"level_0\": \"education.num\", \"level_1\": \"capital.gain\", \"corr\": 0.12311005991019813, \"abs\": 0.12311005991019813}, {\"level_0\": \"education.num\", \"level_1\": \"capital.loss\", \"corr\": 0.0758252259313226, \"abs\": 0.0758252259313226}, {\"level_0\": \"education.num\", \"level_1\": \"hours.per.week\", \"corr\": 0.16668696079726456, \"abs\": 0.16668696079726456}, {\"level_0\": \"capital.gain\", \"level_1\": \"age\", \"corr\": 0.12815940815467505, \"abs\": 0.12815940815467505}, {\"level_0\": \"capital.gain\", \"level_1\": \"fnlwgt\", \"corr\": -0.002364025516992106, \"abs\": 0.002364025516992106}, {\"level_0\": \"capital.gain\", \"level_1\": \"education.num\", \"corr\": 0.12311005991019813, \"abs\": 0.12311005991019813}, {\"level_0\": \"capital.gain\", \"level_1\": \"capital.gain\", \"corr\": 0.0, \"abs\": 0.0}, {\"level_0\": \"capital.gain\", \"level_1\": \"capital.loss\", \"corr\": -0.06655851952990322, \"abs\": 0.06655851952990322}, {\"level_0\": \"capital.gain\", \"level_1\": \"hours.per.week\", \"corr\": 0.09126971330440348, \"abs\": 0.09126971330440348}, {\"level_0\": \"capital.loss\", \"level_1\": \"age\", \"corr\": 0.06027843384616076, \"abs\": 0.06027843384616076}, {\"level_0\": \"capital.loss\", \"level_1\": \"fnlwgt\", \"corr\": -0.008222204630830902, \"abs\": 0.008222204630830902}, {\"level_0\": \"capital.loss\", \"level_1\": \"education.num\", \"corr\": 0.0758252259313226, \"abs\": 0.0758252259313226}, {\"level_0\": \"capital.loss\", \"level_1\": \"capital.gain\", \"corr\": -0.06655851952990322, \"abs\": 0.06655851952990322}, {\"level_0\": \"capital.loss\", \"level_1\": \"capital.loss\", \"corr\": 0.0, \"abs\": 0.0}, {\"level_0\": \"capital.loss\", \"level_1\": \"hours.per.week\", \"corr\": 0.05764363861213188, \"abs\": 0.05764363861213188}, {\"level_0\": \"hours.per.week\", \"level_1\": \"age\", \"corr\": 0.14117112676606583, \"abs\": 0.14117112676606583}, {\"level_0\": \"hours.per.week\", \"level_1\": \"fnlwgt\", \"corr\": -0.023732505759715684, \"abs\": 0.023732505759715684}, {\"level_0\": \"hours.per.week\", \"level_1\": \"education.num\", \"corr\": 0.16668696079726456, \"abs\": 0.16668696079726456}, {\"level_0\": \"hours.per.week\", \"level_1\": \"capital.gain\", \"corr\": 0.09126971330440348, \"abs\": 0.09126971330440348}, {\"level_0\": \"hours.per.week\", \"level_1\": \"capital.loss\", \"corr\": 0.05764363861213188, \"abs\": 0.05764363861213188}, {\"level_0\": \"hours.per.week\", \"level_1\": \"hours.per.week\", \"corr\": 0.0, \"abs\": 0.0}]}}, {\"mode\": \"vega-lite\"});\n",
       "</script>"
      ],
      "text/plain": [
       "alt.Chart(...)"
      ]
     },
     "execution_count": 9,
     "metadata": {},
     "output_type": "execute_result"
    }
   ],
   "source": [
    "alt.Chart(corr_df).mark_circle().encode(\n",
    "    x='level_0',\n",
    "    y='level_1',\n",
    "    size='abs',\n",
    "    color=alt.Color('corr',\n",
    "                    scale=alt.Scale(scheme='blueorange',\n",
    "                                    domain=(-1, 1)))).properties(\n",
    "    height=150,\n",
    "    width=150)"
   ]
  },
  {
   "cell_type": "markdown",
   "id": "992e5a38",
   "metadata": {
    "papermill": {
     "duration": 0.031203,
     "end_time": "2021-12-30T16:55:18.220092",
     "exception": false,
     "start_time": "2021-12-30T16:55:18.188889",
     "status": "completed"
    },
    "tags": []
   },
   "source": [
    "- There are very low correlation between the features. \n",
    "- But the above relations are only for numeric features."
   ]
  },
  {
   "cell_type": "markdown",
   "id": "fa66b1f6",
   "metadata": {
    "papermill": {
     "duration": 0.031104,
     "end_time": "2021-12-30T16:55:18.283593",
     "exception": false,
     "start_time": "2021-12-30T16:55:18.252489",
     "status": "completed"
    },
    "tags": []
   },
   "source": [
    "# 5. Transformations to be applied on features"
   ]
  },
  {
   "cell_type": "markdown",
   "id": "f46d8aed",
   "metadata": {
    "papermill": {
     "duration": 0.031,
     "end_time": "2021-12-30T16:55:18.345977",
     "exception": false,
     "start_time": "2021-12-30T16:55:18.314977",
     "status": "completed"
    },
    "tags": []
   },
   "source": [
    "- The imputation are done on the categorical columns which have NaN values in them. \n",
    "- The numeric columns don't have NaN values. We scale the numeric columns. \n",
    "- We are doing OHE on categorical variables. For features having both imputation and OHE, first we impute the feature and then apply OHE."
   ]
  },
  {
   "cell_type": "markdown",
   "id": "4994dc19",
   "metadata": {
    "papermill": {
     "duration": 0.031003,
     "end_time": "2021-12-30T16:55:18.408422",
     "exception": false,
     "start_time": "2021-12-30T16:55:18.377419",
     "status": "completed"
    },
    "tags": []
   },
   "source": [
    "| Transformation | Features |\n",
    "| --- | ------ |\n",
    "| Scaling | age, fnlwgt, capital.gain, capital.loss |\n",
    "| Imputation | occupation, workclass, native.country |\n",
    "| OHE | occupation, workclass, education.num, marital.status, relationship, race, sex, native.country |\n",
    "| drop | education |\n"
   ]
  },
  {
   "cell_type": "markdown",
   "id": "63193e6b",
   "metadata": {
    "papermill": {
     "duration": 0.031207,
     "end_time": "2021-12-30T16:55:18.470848",
     "exception": false,
     "start_time": "2021-12-30T16:55:18.439641",
     "status": "completed"
    },
    "tags": []
   },
   "source": [
    "# 6. Preprocessing using sklearn's ColumnTransformer"
   ]
  },
  {
   "cell_type": "markdown",
   "id": "9f1ce447",
   "metadata": {
    "papermill": {
     "duration": 0.031113,
     "end_time": "2021-12-30T16:55:18.533564",
     "exception": false,
     "start_time": "2021-12-30T16:55:18.502451",
     "status": "completed"
    },
    "tags": []
   },
   "source": [
    "Below we prepar the list of common features for each of the transformations we want to make. For ethical reasons, we would like to drop `race` and `sex` from our analysis. For some scenarios, it might be fine to include them for descriptive purposes."
   ]
  },
  {
   "cell_type": "code",
   "execution_count": 10,
   "id": "3626d249",
   "metadata": {
    "execution": {
     "iopub.execute_input": "2021-12-30T16:55:18.602102Z",
     "iopub.status.busy": "2021-12-30T16:55:18.599382Z",
     "iopub.status.idle": "2021-12-30T16:55:18.604097Z",
     "shell.execute_reply": "2021-12-30T16:55:18.604768Z",
     "shell.execute_reply.started": "2021-12-24T09:22:12.04307Z"
    },
    "papermill": {
     "duration": 0.040144,
     "end_time": "2021-12-30T16:55:18.604953",
     "exception": false,
     "start_time": "2021-12-30T16:55:18.564809",
     "status": "completed"
    },
    "tags": []
   },
   "outputs": [],
   "source": [
    "numeric_features = ['age', 'fnlwgt', 'capital.gain', 'capital.loss', 'hours.per.week']\n",
    "categorical_features = ['occupation', 'workclass', 'marital.status', 'relationship', 'native.country', 'education.num']\n",
    "ordinal_features = ['education.num']\n",
    "drop_features = ['education', 'race', 'sex']\n",
    "passthrough_features = []\n",
    "target = \"income\""
   ]
  },
  {
   "cell_type": "markdown",
   "id": "95bee1d6",
   "metadata": {
    "papermill": {
     "duration": 0.031492,
     "end_time": "2021-12-30T16:55:18.668700",
     "exception": false,
     "start_time": "2021-12-30T16:55:18.637208",
     "status": "completed"
    },
    "tags": []
   },
   "source": [
    "Below we have made the preprocessor we want to apply our training our model. Pipeline helps us to organize our data modifications/transformations in a nicer, elegant fashion. Each step in pipeline passes its output to the next step as input. So, for categorical_features, first the imputation is done and then we apply OHE using a pipeline."
   ]
  },
  {
   "cell_type": "code",
   "execution_count": 11,
   "id": "f21db228",
   "metadata": {
    "execution": {
     "iopub.execute_input": "2021-12-30T16:55:18.735437Z",
     "iopub.status.busy": "2021-12-30T16:55:18.734750Z",
     "iopub.status.idle": "2021-12-30T16:55:18.740195Z",
     "shell.execute_reply": "2021-12-30T16:55:18.739687Z",
     "shell.execute_reply.started": "2021-12-24T09:22:12.051535Z"
    },
    "papermill": {
     "duration": 0.039891,
     "end_time": "2021-12-30T16:55:18.740331",
     "exception": false,
     "start_time": "2021-12-30T16:55:18.700440",
     "status": "completed"
    },
    "tags": []
   },
   "outputs": [],
   "source": [
    "preprocessor = make_column_transformer(\n",
    "    (\n",
    "        StandardScaler(),\n",
    "        numeric_features,\n",
    "    ),  # scaling on numeric features\n",
    "    (\n",
    "        make_pipeline(SimpleImputer(strategy=\"constant\",\n",
    "                                    fill_value=\"missing\"),\n",
    "                      OneHotEncoder(handle_unknown=\"ignore\",\n",
    "                                    sparse=False)),\n",
    "        categorical_features,\n",
    "    ),  # Imputation and OHE on categorical features\n",
    "    (\n",
    "        (\"drop\"),\n",
    "        drop_features\n",
    "    ),  # drop the drop features\n",
    ")"
   ]
  },
  {
   "cell_type": "markdown",
   "id": "2d9cfc25",
   "metadata": {
    "papermill": {
     "duration": 0.031242,
     "end_time": "2021-12-30T16:55:18.803182",
     "exception": false,
     "start_time": "2021-12-30T16:55:18.771940",
     "status": "completed"
    },
    "tags": []
   },
   "source": [
    "# 7. Building ML model"
   ]
  },
  {
   "cell_type": "code",
   "execution_count": 12,
   "id": "56dd6244",
   "metadata": {
    "execution": {
     "iopub.execute_input": "2021-12-30T16:55:18.869668Z",
     "iopub.status.busy": "2021-12-30T16:55:18.868979Z",
     "iopub.status.idle": "2021-12-30T16:55:18.880715Z",
     "shell.execute_reply": "2021-12-30T16:55:18.881266Z",
     "shell.execute_reply.started": "2021-12-24T09:22:12.063627Z"
    },
    "papermill": {
     "duration": 0.046734,
     "end_time": "2021-12-30T16:55:18.881441",
     "exception": false,
     "start_time": "2021-12-30T16:55:18.834707",
     "status": "completed"
    },
    "tags": []
   },
   "outputs": [],
   "source": [
    "results_dict = {}  # dictionary to store all the results\n",
    "\n",
    "X_train = train_df_nan.drop(columns=[\"income\"])\n",
    "y_train = train_df_nan[\"income\"]\n",
    "\n",
    "X_test = test_df_nan.drop(columns=[\"income\"])\n",
    "y_test = test_df_nan[\"income\"]"
   ]
  },
  {
   "cell_type": "code",
   "execution_count": 13,
   "id": "9de13603",
   "metadata": {
    "execution": {
     "iopub.execute_input": "2021-12-30T16:55:18.948555Z",
     "iopub.status.busy": "2021-12-30T16:55:18.947604Z",
     "iopub.status.idle": "2021-12-30T16:55:18.953660Z",
     "shell.execute_reply": "2021-12-30T16:55:18.954124Z",
     "shell.execute_reply.started": "2021-12-24T09:22:12.089105Z"
    },
    "papermill": {
     "duration": 0.041257,
     "end_time": "2021-12-30T16:55:18.954342",
     "exception": false,
     "start_time": "2021-12-30T16:55:18.913085",
     "status": "completed"
    },
    "tags": []
   },
   "outputs": [],
   "source": [
    "def mean_cross_val_scores(model, X_train, y_train, **kwargs):\n",
    "    \"\"\"\n",
    "    Returns mean scores of cross validation\n",
    "\n",
    "    Parameters\n",
    "    ----------\n",
    "    model :\n",
    "        scikit-learn model\n",
    "    X_train : numpy array or pandas DataFrame\n",
    "        X in the training data\n",
    "    y_train :\n",
    "        y in the training data\n",
    "\n",
    "    Returns\n",
    "    ----------\n",
    "        pandas Series with mean scores from cross_validation\n",
    "    \"\"\"\n",
    "\n",
    "    scores = cross_validate(model, X_train, y_train, **kwargs)\n",
    "\n",
    "    mean_scores = pd.DataFrame(scores).mean()\n",
    "    out_col = []\n",
    "\n",
    "    for i in range(len(mean_scores)):\n",
    "        out_col.append(round(mean_scores[i], 3))\n",
    "\n",
    "    return pd.Series(data=out_col, index=mean_scores.index)"
   ]
  },
  {
   "cell_type": "markdown",
   "id": "ea825e63",
   "metadata": {
    "papermill": {
     "duration": 0.031547,
     "end_time": "2021-12-30T16:55:19.017720",
     "exception": false,
     "start_time": "2021-12-30T16:55:18.986173",
     "status": "completed"
    },
    "tags": []
   },
   "source": [
    "## 7.1 Making a Baseline model"
   ]
  },
  {
   "cell_type": "code",
   "execution_count": 14,
   "id": "3f59ca8f",
   "metadata": {
    "execution": {
     "iopub.execute_input": "2021-12-30T16:55:19.084869Z",
     "iopub.status.busy": "2021-12-30T16:55:19.084252Z",
     "iopub.status.idle": "2021-12-30T16:55:20.844193Z",
     "shell.execute_reply": "2021-12-30T16:55:20.844643Z",
     "shell.execute_reply.started": "2021-12-24T09:22:12.098464Z"
    },
    "papermill": {
     "duration": 1.795337,
     "end_time": "2021-12-30T16:55:20.844822",
     "exception": false,
     "start_time": "2021-12-30T16:55:19.049485",
     "status": "completed"
    },
    "tags": []
   },
   "outputs": [
    {
     "data": {
      "text/html": [
       "<div>\n",
       "<style scoped>\n",
       "    .dataframe tbody tr th:only-of-type {\n",
       "        vertical-align: middle;\n",
       "    }\n",
       "\n",
       "    .dataframe tbody tr th {\n",
       "        vertical-align: top;\n",
       "    }\n",
       "\n",
       "    .dataframe thead th {\n",
       "        text-align: right;\n",
       "    }\n",
       "</style>\n",
       "<table border=\"1\" class=\"dataframe\">\n",
       "  <thead>\n",
       "    <tr style=\"text-align: right;\">\n",
       "      <th></th>\n",
       "      <th>DummyClassifier</th>\n",
       "    </tr>\n",
       "  </thead>\n",
       "  <tbody>\n",
       "    <tr>\n",
       "      <th>fit_time</th>\n",
       "      <td>0.135</td>\n",
       "    </tr>\n",
       "    <tr>\n",
       "      <th>score_time</th>\n",
       "      <td>0.043</td>\n",
       "    </tr>\n",
       "    <tr>\n",
       "      <th>test_score</th>\n",
       "      <td>0.759</td>\n",
       "    </tr>\n",
       "    <tr>\n",
       "      <th>train_score</th>\n",
       "      <td>0.759</td>\n",
       "    </tr>\n",
       "  </tbody>\n",
       "</table>\n",
       "</div>"
      ],
      "text/plain": [
       "             DummyClassifier\n",
       "fit_time               0.135\n",
       "score_time             0.043\n",
       "test_score             0.759\n",
       "train_score            0.759"
      ]
     },
     "execution_count": 14,
     "metadata": {},
     "output_type": "execute_result"
    }
   ],
   "source": [
    "pipe = make_pipeline(preprocessor, DummyClassifier(strategy='prior')) \n",
    "results_dict = mean_cross_val_scores(pipe, X_train, y_train, cv=5, return_train_score=True)\n",
    "pd.DataFrame(results_dict, columns=['DummyClassifier'])"
   ]
  },
  {
   "cell_type": "markdown",
   "id": "1ba462ea",
   "metadata": {
    "papermill": {
     "duration": 0.032713,
     "end_time": "2021-12-30T16:55:20.910283",
     "exception": false,
     "start_time": "2021-12-30T16:55:20.877570",
     "status": "completed"
    },
    "tags": []
   },
   "source": [
    "The stratgey for DummmyClassifier is `prior` which predicts the class that maximizes the most frequent class and predict_proba returns the class prior.\n",
    "\n",
    "Below we train different parametric and non-parametric models on our preprocessed data using pipelines."
   ]
  },
  {
   "cell_type": "markdown",
   "id": "c9c202de",
   "metadata": {
    "papermill": {
     "duration": 0.031728,
     "end_time": "2021-12-30T16:55:20.974750",
     "exception": false,
     "start_time": "2021-12-30T16:55:20.943022",
     "status": "completed"
    },
    "tags": []
   },
   "source": [
    "# 7.2 Training multiple models"
   ]
  },
  {
   "cell_type": "code",
   "execution_count": 15,
   "id": "b6d04a85",
   "metadata": {
    "execution": {
     "iopub.execute_input": "2021-12-30T16:55:21.042621Z",
     "iopub.status.busy": "2021-12-30T16:55:21.041957Z",
     "iopub.status.idle": "2021-12-30T17:05:21.746698Z",
     "shell.execute_reply": "2021-12-30T17:05:21.747220Z",
     "shell.execute_reply.started": "2021-12-24T09:22:13.898788Z"
    },
    "papermill": {
     "duration": 600.739895,
     "end_time": "2021-12-30T17:05:21.747408",
     "exception": false,
     "start_time": "2021-12-30T16:55:21.007513",
     "status": "completed"
    },
    "tags": []
   },
   "outputs": [
    {
     "data": {
      "text/html": [
       "<div>\n",
       "<style scoped>\n",
       "    .dataframe tbody tr th:only-of-type {\n",
       "        vertical-align: middle;\n",
       "    }\n",
       "\n",
       "    .dataframe tbody tr th {\n",
       "        vertical-align: top;\n",
       "    }\n",
       "\n",
       "    .dataframe thead th {\n",
       "        text-align: right;\n",
       "    }\n",
       "</style>\n",
       "<table border=\"1\" class=\"dataframe\">\n",
       "  <thead>\n",
       "    <tr style=\"text-align: right;\">\n",
       "      <th></th>\n",
       "      <th>DecisionTree</th>\n",
       "      <th>kNN</th>\n",
       "      <th>SVC</th>\n",
       "    </tr>\n",
       "  </thead>\n",
       "  <tbody>\n",
       "    <tr>\n",
       "      <th>fit_time</th>\n",
       "      <td>0.402</td>\n",
       "      <td>0.701</td>\n",
       "      <td>32.740</td>\n",
       "    </tr>\n",
       "    <tr>\n",
       "      <th>score_time</th>\n",
       "      <td>0.039</td>\n",
       "      <td>12.160</td>\n",
       "      <td>5.488</td>\n",
       "    </tr>\n",
       "    <tr>\n",
       "      <th>test_score</th>\n",
       "      <td>0.813</td>\n",
       "      <td>0.832</td>\n",
       "      <td>0.856</td>\n",
       "    </tr>\n",
       "    <tr>\n",
       "      <th>train_score</th>\n",
       "      <td>1.000</td>\n",
       "      <td>0.881</td>\n",
       "      <td>0.869</td>\n",
       "    </tr>\n",
       "  </tbody>\n",
       "</table>\n",
       "</div>"
      ],
      "text/plain": [
       "             DecisionTree     kNN     SVC\n",
       "fit_time            0.402   0.701  32.740\n",
       "score_time          0.039  12.160   5.488\n",
       "test_score          0.813   0.832   0.856\n",
       "train_score         1.000   0.881   0.869"
      ]
     },
     "execution_count": 15,
     "metadata": {},
     "output_type": "execute_result"
    }
   ],
   "source": [
    "models = {\n",
    "    \"decision tree\": DecisionTreeClassifier(random_state=2018),\n",
    "    \"kNN\": KNeighborsClassifier(),\n",
    "    \"RBF SVM\": SVC(random_state=2018),\n",
    "}\n",
    "\n",
    "models_short = {\n",
    "     \"decision tree\": 'DecisionTree',\n",
    "    \"kNN\": 'kNN',\n",
    "    'RBF SVM': 'SVC',\n",
    "}\n",
    "\n",
    "results_dict = {}\n",
    "for i in models:\n",
    "    pipe_temp = make_pipeline(preprocessor, models[i])\n",
    "    results_dict[models_short[i]] = mean_cross_val_scores(\n",
    "    pipe_temp, X_train, y_train, cv=5, return_train_score=True)\n",
    "    \n",
    "pd.DataFrame(results_dict)"
   ]
  },
  {
   "cell_type": "markdown",
   "id": "791f7c29",
   "metadata": {
    "papermill": {
     "duration": 0.031909,
     "end_time": "2021-12-30T17:05:21.811722",
     "exception": false,
     "start_time": "2021-12-30T17:05:21.779813",
     "status": "completed"
    },
    "tags": []
   },
   "source": [
    "- The Decision Tree overfits on the training data giving 100% accuracy on the training set. SVC has the lowest training set accuracy.  \n",
    "- On the other hand, SVC gives the best validation accuracy and due to overfitting on the training data. Decision Tree has the poorest performance on the validation set.  \n",
    "- All the above three models give better validation accuracies than the baseline model.   \n",
    "- RBF SVC has the best validation accuracy but it is too slow! Decision Tree Classifier is the fastest one, doing most of its work during fitting the model."
   ]
  },
  {
   "cell_type": "markdown",
   "id": "32e2616c",
   "metadata": {
    "papermill": {
     "duration": 0.031789,
     "end_time": "2021-12-30T17:05:21.876417",
     "exception": false,
     "start_time": "2021-12-30T17:05:21.844628",
     "status": "completed"
    },
    "tags": []
   },
   "source": [
    "# 7.3 Hyperparameter Optimization for SVC"
   ]
  },
  {
   "cell_type": "markdown",
   "id": "2a690048",
   "metadata": {
    "papermill": {
     "duration": 0.03197,
     "end_time": "2021-12-30T17:05:21.942084",
     "exception": false,
     "start_time": "2021-12-30T17:05:21.910114",
     "status": "completed"
    },
    "tags": []
   },
   "source": [
    "We are optimizing hyperparameters for only SVC which gave the best validation scores in the previous section. Ideally, we would want do this on all the models and then arrive at the best model.\n",
    "\n",
    "We are using below a kind of GridSearch to do optimization. Another way to do so is to use RandomizedSearch.\n",
    "\n",
    "Hyperparameter used: **C**\n",
    "- C is regularization parameter with squared L2 penalty. \n",
    "- The strength of the regularization is inversely proportional to C. Must be strictly positive."
   ]
  },
  {
   "cell_type": "code",
   "execution_count": 16,
   "id": "774ccc34",
   "metadata": {
    "execution": {
     "iopub.execute_input": "2021-12-30T17:05:22.010096Z",
     "iopub.status.busy": "2021-12-30T17:05:22.009468Z",
     "iopub.status.idle": "2021-12-30T17:36:19.834327Z",
     "shell.execute_reply": "2021-12-30T17:36:19.834831Z",
     "shell.execute_reply.started": "2021-12-24T09:33:07.113663Z"
    },
    "papermill": {
     "duration": 1857.860401,
     "end_time": "2021-12-30T17:36:19.835016",
     "exception": false,
     "start_time": "2021-12-30T17:05:21.974615",
     "status": "completed"
    },
    "tags": []
   },
   "outputs": [
    {
     "data": {
      "text/html": [
       "<div>\n",
       "<style scoped>\n",
       "    .dataframe tbody tr th:only-of-type {\n",
       "        vertical-align: middle;\n",
       "    }\n",
       "\n",
       "    .dataframe tbody tr th {\n",
       "        vertical-align: top;\n",
       "    }\n",
       "\n",
       "    .dataframe thead th {\n",
       "        text-align: right;\n",
       "    }\n",
       "</style>\n",
       "<table border=\"1\" class=\"dataframe\">\n",
       "  <thead>\n",
       "    <tr style=\"text-align: right;\">\n",
       "      <th></th>\n",
       "      <th>fit_time</th>\n",
       "      <th>score_time</th>\n",
       "      <th>test_score</th>\n",
       "      <th>train_score</th>\n",
       "    </tr>\n",
       "    <tr>\n",
       "      <th>Hyperparameter: C</th>\n",
       "      <th></th>\n",
       "      <th></th>\n",
       "      <th></th>\n",
       "      <th></th>\n",
       "    </tr>\n",
       "  </thead>\n",
       "  <tbody>\n",
       "    <tr>\n",
       "      <th>0.010000</th>\n",
       "      <td>42.028</td>\n",
       "      <td>7.764</td>\n",
       "      <td>0.794</td>\n",
       "      <td>0.796</td>\n",
       "    </tr>\n",
       "    <tr>\n",
       "      <th>0.215443</th>\n",
       "      <td>32.148</td>\n",
       "      <td>5.785</td>\n",
       "      <td>0.855</td>\n",
       "      <td>0.859</td>\n",
       "    </tr>\n",
       "    <tr>\n",
       "      <th>4.641589</th>\n",
       "      <td>37.769</td>\n",
       "      <td>5.539</td>\n",
       "      <td>0.856</td>\n",
       "      <td>0.884</td>\n",
       "    </tr>\n",
       "    <tr>\n",
       "      <th>100.000000</th>\n",
       "      <td>137.114</td>\n",
       "      <td>5.503</td>\n",
       "      <td>0.836</td>\n",
       "      <td>0.924</td>\n",
       "    </tr>\n",
       "  </tbody>\n",
       "</table>\n",
       "</div>"
      ],
      "text/plain": [
       "                   fit_time  score_time  test_score  train_score\n",
       "Hyperparameter: C                                               \n",
       "0.010000             42.028       7.764       0.794        0.796\n",
       "0.215443             32.148       5.785       0.855        0.859\n",
       "4.641589             37.769       5.539       0.856        0.884\n",
       "100.000000          137.114       5.503       0.836        0.924"
      ]
     },
     "execution_count": 16,
     "metadata": {},
     "output_type": "execute_result"
    }
   ],
   "source": [
    "param_grid = {\"C\": np.logspace(-2, 2, 4)}\n",
    "\n",
    "results_dict = {}\n",
    "for i in param_grid[\"C\"]:\n",
    "    pipe_temp = make_pipeline(preprocessor, SVC(C=i, random_state=2018))\n",
    "    results_dict[i] = mean_cross_val_scores(\n",
    "    pipe_temp, X_train, y_train, cv=5, return_train_score=True)\n",
    "    \n",
    "hyper_C = pd.DataFrame(results_dict).T\n",
    "hyper_C.index.name='Hyperparameter: C'\n",
    "hyper_C"
   ]
  },
  {
   "cell_type": "code",
   "execution_count": 17,
   "id": "9a8334ce",
   "metadata": {
    "execution": {
     "iopub.execute_input": "2021-12-30T17:36:19.904728Z",
     "iopub.status.busy": "2021-12-30T17:36:19.904104Z",
     "iopub.status.idle": "2021-12-30T17:36:19.910442Z",
     "shell.execute_reply": "2021-12-30T17:36:19.910879Z",
     "shell.execute_reply.started": "2021-12-24T10:04:38.537727Z"
    },
    "papermill": {
     "duration": 0.042568,
     "end_time": "2021-12-30T17:36:19.911049",
     "exception": false,
     "start_time": "2021-12-30T17:36:19.868481",
     "status": "completed"
    },
    "tags": []
   },
   "outputs": [
    {
     "data": {
      "text/plain": [
       "4.642"
      ]
     },
     "execution_count": 17,
     "metadata": {},
     "output_type": "execute_result"
    }
   ],
   "source": [
    "round(hyper_C.index[hyper_C.test_score.argmax()], 3)"
   ]
  },
  {
   "cell_type": "markdown",
   "id": "07f30e9a",
   "metadata": {
    "papermill": {
     "duration": 0.03523,
     "end_time": "2021-12-30T17:36:19.979569",
     "exception": false,
     "start_time": "2021-12-30T17:36:19.944339",
     "status": "completed"
    },
    "tags": []
   },
   "source": [
    "- C = 4.642 gives the best validation accuracy of 0.856. It is the same as the default validation accuracy which was 0.856. \n",
    "- C = 4.642 is slightly worse than the default parameter since the gap between training and validation score is lesser.\n",
    "- So, we use the default parameters for the final model."
   ]
  },
  {
   "cell_type": "markdown",
   "id": "8495cd46",
   "metadata": {
    "papermill": {
     "duration": 0.032973,
     "end_time": "2021-12-30T17:36:20.046641",
     "exception": false,
     "start_time": "2021-12-30T17:36:20.013668",
     "status": "completed"
    },
    "tags": []
   },
   "source": [
    "# 8. Evaluating on the test set"
   ]
  },
  {
   "cell_type": "code",
   "execution_count": 18,
   "id": "e74fcfcd",
   "metadata": {
    "execution": {
     "iopub.execute_input": "2021-12-30T17:36:20.121595Z",
     "iopub.status.busy": "2021-12-30T17:36:20.120948Z",
     "iopub.status.idle": "2021-12-30T17:37:22.921862Z",
     "shell.execute_reply": "2021-12-30T17:37:22.922399Z",
     "shell.execute_reply.started": "2021-12-24T10:04:38.544865Z"
    },
    "papermill": {
     "duration": 62.842302,
     "end_time": "2021-12-30T17:37:22.922596",
     "exception": false,
     "start_time": "2021-12-30T17:36:20.080294",
     "status": "completed"
    },
    "tags": []
   },
   "outputs": [
    {
     "name": "stdout",
     "output_type": "stream",
     "text": [
      "Score on test set: 0.857\n"
     ]
    }
   ],
   "source": [
    "optimal_model = make_pipeline(preprocessor, SVC(random_state=2018))\n",
    "optimal_model.fit(X_train, y_train)\n",
    "print(f\"Score on test set: { optimal_model.score(X_test, y_test):.3f}\")"
   ]
  },
  {
   "cell_type": "markdown",
   "id": "6f7a10cb",
   "metadata": {
    "papermill": {
     "duration": 0.03337,
     "end_time": "2021-12-30T17:37:22.989682",
     "exception": false,
     "start_time": "2021-12-30T17:37:22.956312",
     "status": "completed"
    },
    "tags": []
   },
   "source": [
    "Yay! Our final score model is close to the validation score."
   ]
  },
  {
   "cell_type": "code",
   "execution_count": null,
   "id": "0c2620b2",
   "metadata": {
    "papermill": {
     "duration": 0.033689,
     "end_time": "2021-12-30T17:37:23.126384",
     "exception": false,
     "start_time": "2021-12-30T17:37:23.092695",
     "status": "completed"
    },
    "tags": []
   },
   "outputs": [],
   "source": []
  }
 ],
 "metadata": {
  "kernelspec": {
   "display_name": "Python 3 (ipykernel)",
   "language": "python",
   "name": "python3"
  },
  "language_info": {
   "codemirror_mode": {
    "name": "ipython",
    "version": 3
   },
   "file_extension": ".py",
   "mimetype": "text/x-python",
   "name": "python",
   "nbconvert_exporter": "python",
   "pygments_lexer": "ipython3",
   "version": "3.11.3"
  },
  "papermill": {
   "default_parameters": {},
   "duration": 2538.376213,
   "end_time": "2021-12-30T17:37:23.876492",
   "environment_variables": {},
   "exception": null,
   "input_path": "__notebook__.ipynb",
   "output_path": "__notebook__.ipynb",
   "parameters": {},
   "start_time": "2021-12-30T16:55:05.500279",
   "version": "2.3.3"
  }
 },
 "nbformat": 4,
 "nbformat_minor": 5
}
